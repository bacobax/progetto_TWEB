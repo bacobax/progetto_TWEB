{
 "cells": [
  {
   "cell_type": "code",
   "execution_count": 1,
   "id": "initial_id",
   "metadata": {
    "ExecuteTime": {
     "end_time": "2023-12-07T09:18:00.275277Z",
     "start_time": "2023-12-07T09:17:59.395419Z"
    },
    "collapsed": true
   },
   "outputs": [],
   "source": [
    "from constants import *\n",
    "game_events = read_csv('game_events.csv')"
   ]
  },
  {
   "cell_type": "code",
   "execution_count": 2,
   "id": "26c25356f5976815",
   "metadata": {
    "ExecuteTime": {
     "end_time": "2023-12-07T09:18:00.852682Z",
     "start_time": "2023-12-07T09:18:00.845269Z"
    },
    "collapsed": false
   },
   "outputs": [
    {
     "data": {
      "text/html": [
       "<div>\n",
       "<style scoped>\n",
       "    .dataframe tbody tr th:only-of-type {\n",
       "        vertical-align: middle;\n",
       "    }\n",
       "\n",
       "    .dataframe tbody tr th {\n",
       "        vertical-align: top;\n",
       "    }\n",
       "\n",
       "    .dataframe thead th {\n",
       "        text-align: right;\n",
       "    }\n",
       "</style>\n",
       "<table border=\"1\" class=\"dataframe\">\n",
       "  <thead>\n",
       "    <tr style=\"text-align: right;\">\n",
       "      <th></th>\n",
       "      <th>game_event_id</th>\n",
       "      <th>date</th>\n",
       "      <th>game_id</th>\n",
       "      <th>minute</th>\n",
       "      <th>type</th>\n",
       "      <th>club_id</th>\n",
       "      <th>player_id</th>\n",
       "      <th>description</th>\n",
       "      <th>player_in_id</th>\n",
       "      <th>player_assist_id</th>\n",
       "    </tr>\n",
       "  </thead>\n",
       "  <tbody>\n",
       "    <tr>\n",
       "      <th>0</th>\n",
       "      <td>2f41da30c471492e7d4a984951671677</td>\n",
       "      <td>2012-08-05</td>\n",
       "      <td>2211607</td>\n",
       "      <td>77</td>\n",
       "      <td>Cards</td>\n",
       "      <td>610</td>\n",
       "      <td>4425</td>\n",
       "      <td>1.  card  , Mass confrontation</td>\n",
       "      <td>NaN</td>\n",
       "      <td>NaN</td>\n",
       "    </tr>\n",
       "    <tr>\n",
       "      <th>1</th>\n",
       "      <td>Yellowa72f7186d132775f234d3e2f7bc0ed5b</td>\n",
       "      <td>2012-08-05</td>\n",
       "      <td>2211607</td>\n",
       "      <td>77</td>\n",
       "      <td>Cards</td>\n",
       "      <td>383</td>\n",
       "      <td>33210</td>\n",
       "      <td>1. Yellow card  , Mass confrontation</td>\n",
       "      <td>NaN</td>\n",
       "      <td>NaN</td>\n",
       "    </tr>\n",
       "    <tr>\n",
       "      <th>2</th>\n",
       "      <td>b2d721eaed4692a5c59a92323689ef18</td>\n",
       "      <td>2012-08-05</td>\n",
       "      <td>2211607</td>\n",
       "      <td>3</td>\n",
       "      <td>Goals</td>\n",
       "      <td>383</td>\n",
       "      <td>36500</td>\n",
       "      <td>, Header, 1. Tournament Goal Assist: , Corner,...</td>\n",
       "      <td>NaN</td>\n",
       "      <td>56416.0</td>\n",
       "    </tr>\n",
       "    <tr>\n",
       "      <th>3</th>\n",
       "      <td>aef768899cedac0c9a650980219075a2</td>\n",
       "      <td>2012-08-05</td>\n",
       "      <td>2211607</td>\n",
       "      <td>53</td>\n",
       "      <td>Goals</td>\n",
       "      <td>383</td>\n",
       "      <td>36500</td>\n",
       "      <td>, Right-footed shot, 2. Tournament Goal Assist...</td>\n",
       "      <td>NaN</td>\n",
       "      <td>146258.0</td>\n",
       "    </tr>\n",
       "    <tr>\n",
       "      <th>4</th>\n",
       "      <td>5d6d9533023057b6619ecd145a038bbe</td>\n",
       "      <td>2012-08-05</td>\n",
       "      <td>2211607</td>\n",
       "      <td>74</td>\n",
       "      <td>Substitutions</td>\n",
       "      <td>383</td>\n",
       "      <td>36500</td>\n",
       "      <td>, Not reported</td>\n",
       "      <td>49499.0</td>\n",
       "      <td>NaN</td>\n",
       "    </tr>\n",
       "  </tbody>\n",
       "</table>\n",
       "</div>"
      ],
      "text/plain": [
       "                            game_event_id        date  game_id  minute  \\\n",
       "0        2f41da30c471492e7d4a984951671677  2012-08-05  2211607      77   \n",
       "1  Yellowa72f7186d132775f234d3e2f7bc0ed5b  2012-08-05  2211607      77   \n",
       "2        b2d721eaed4692a5c59a92323689ef18  2012-08-05  2211607       3   \n",
       "3        aef768899cedac0c9a650980219075a2  2012-08-05  2211607      53   \n",
       "4        5d6d9533023057b6619ecd145a038bbe  2012-08-05  2211607      74   \n",
       "\n",
       "            type  club_id  player_id  \\\n",
       "0          Cards      610       4425   \n",
       "1          Cards      383      33210   \n",
       "2          Goals      383      36500   \n",
       "3          Goals      383      36500   \n",
       "4  Substitutions      383      36500   \n",
       "\n",
       "                                         description  player_in_id  \\\n",
       "0                     1.  card  , Mass confrontation           NaN   \n",
       "1               1. Yellow card  , Mass confrontation           NaN   \n",
       "2  , Header, 1. Tournament Goal Assist: , Corner,...           NaN   \n",
       "3  , Right-footed shot, 2. Tournament Goal Assist...           NaN   \n",
       "4                                     , Not reported       49499.0   \n",
       "\n",
       "   player_assist_id  \n",
       "0               NaN  \n",
       "1               NaN  \n",
       "2           56416.0  \n",
       "3          146258.0  \n",
       "4               NaN  "
      ]
     },
     "execution_count": 2,
     "metadata": {},
     "output_type": "execute_result"
    }
   ],
   "source": [
    "game_events.head()"
   ]
  },
  {
   "cell_type": "code",
   "execution_count": 3,
   "id": "293ff9b00ca4744a",
   "metadata": {
    "ExecuteTime": {
     "end_time": "2023-12-07T09:18:08.748795Z",
     "start_time": "2023-12-07T09:18:08.681043Z"
    },
    "collapsed": false
   },
   "outputs": [
    {
     "name": "stdout",
     "output_type": "stream",
     "text": [
      "<class 'pandas.core.frame.DataFrame'>\n",
      "RangeIndex: 666558 entries, 0 to 666557\n",
      "Data columns (total 10 columns):\n",
      " #   Column            Non-Null Count   Dtype  \n",
      "---  ------            --------------   -----  \n",
      " 0   game_event_id     666558 non-null  object \n",
      " 1   date              666558 non-null  object \n",
      " 2   game_id           666558 non-null  int64  \n",
      " 3   minute            666558 non-null  int64  \n",
      " 4   type              666558 non-null  object \n",
      " 5   club_id           666558 non-null  int64  \n",
      " 6   player_id         666558 non-null  int64  \n",
      " 7   description       330233 non-null  object \n",
      " 8   player_in_id      421249 non-null  float64\n",
      " 9   player_assist_id  30857 non-null   float64\n",
      "dtypes: float64(2), int64(4), object(4)\n",
      "memory usage: 50.9+ MB\n"
     ]
    }
   ],
   "source": [
    "game_events.info()"
   ]
  },
  {
   "cell_type": "code",
   "execution_count": 4,
   "id": "7b40e2f2f198f2d8",
   "metadata": {
    "ExecuteTime": {
     "end_time": "2023-12-07T09:18:46.112899Z",
     "start_time": "2023-12-07T09:18:46.110057Z"
    },
    "collapsed": false
   },
   "outputs": [
    {
     "data": {
      "text/plain": [
       "{'Cards', 'Goals', 'Shootout', 'Substitutions'}"
      ]
     },
     "execution_count": 4,
     "metadata": {},
     "output_type": "execute_result"
    }
   ],
   "source": [
    "set(game_events['type'])"
   ]
  },
  {
   "cell_type": "markdown",
   "id": "51e708bd67a98d7d",
   "metadata": {
    "collapsed": false
   },
   "source": [
    "# Seems to be ok\n",
    "This dataset is ok, it should be the information about the events during the games. It's supposed to have high change rate"
   ]
  },
  {
   "cell_type": "code",
   "execution_count": 5,
   "id": "9cdd71e0fdf57dd8",
   "metadata": {
    "collapsed": false
   },
   "outputs": [
    {
     "data": {
      "text/plain": [
       "['description', 'player_in_id', 'player_assist_id']"
      ]
     },
     "execution_count": 5,
     "metadata": {},
     "output_type": "execute_result"
    }
   ],
   "source": [
    "null_columns(game_events)"
   ]
  }
 ],
 "metadata": {
  "kernelspec": {
   "display_name": "Python 3",
   "language": "python",
   "name": "python3"
  },
  "language_info": {
   "codemirror_mode": {
    "name": "ipython",
    "version": 3
   },
   "file_extension": ".py",
   "mimetype": "text/x-python",
   "name": "python",
   "nbconvert_exporter": "python",
   "pygments_lexer": "ipython3",
   "version": "3.11.6"
  }
 },
 "nbformat": 4,
 "nbformat_minor": 5
}
