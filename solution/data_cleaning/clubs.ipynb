{
 "cells": [
  {
   "cell_type": "code",
   "execution_count": 1,
   "id": "initial_id",
   "metadata": {
    "collapsed": true,
    "ExecuteTime": {
     "end_time": "2023-12-07T14:47:58.819914Z",
     "start_time": "2023-12-07T14:47:58.517542Z"
    }
   },
   "outputs": [],
   "source": [
    "from constants import *"
   ]
  },
  {
   "cell_type": "code",
   "execution_count": 2,
   "outputs": [],
   "source": [
    "clubs = read_csv('clubs.csv')"
   ],
   "metadata": {
    "collapsed": false,
    "ExecuteTime": {
     "end_time": "2023-12-07T14:48:08.134763Z",
     "start_time": "2023-12-07T14:48:08.123288Z"
    }
   },
   "id": "e2881d775da4a4e4"
  },
  {
   "cell_type": "code",
   "execution_count": 3,
   "outputs": [
    {
     "name": "stdout",
     "output_type": "stream",
     "text": [
      "Index(['total_market_value', 'average_age', 'foreigners_percentage',\n",
      "       'coach_name'],\n",
      "      dtype='object')\n"
     ]
    }
   ],
   "source": [
    "null_columns = clubs.columns[clubs.isnull().any()]\n",
    "print(null_columns)"
   ],
   "metadata": {
    "collapsed": false,
    "ExecuteTime": {
     "end_time": "2023-12-07T14:48:18.352670Z",
     "start_time": "2023-12-07T14:48:18.340323Z"
    }
   },
   "id": "6ca7d2601ccd4f65"
  },
  {
   "cell_type": "code",
   "execution_count": null,
   "outputs": [],
   "source": [
    "clubs[null_columns].isnull().sum()"
   ],
   "metadata": {
    "collapsed": false
   },
   "id": "5aa4ab9ce82e5384"
  }
 ],
 "metadata": {
  "kernelspec": {
   "display_name": "Python 3",
   "language": "python",
   "name": "python3"
  },
  "language_info": {
   "codemirror_mode": {
    "name": "ipython",
    "version": 2
   },
   "file_extension": ".py",
   "mimetype": "text/x-python",
   "name": "python",
   "nbconvert_exporter": "python",
   "pygments_lexer": "ipython2",
   "version": "2.7.6"
  }
 },
 "nbformat": 4,
 "nbformat_minor": 5
}
