{
 "cells": [
  {
   "cell_type": "code",
   "execution_count": 12,
   "id": "initial_id",
   "metadata": {
    "ExecuteTime": {
     "end_time": "2023-12-07T14:47:58.819914Z",
     "start_time": "2023-12-07T14:47:58.517542Z"
    },
    "collapsed": true
   },
   "outputs": [],
   "source": [
    "from constants import *"
   ]
  },
  {
   "cell_type": "code",
   "execution_count": 13,
   "id": "e2881d775da4a4e4",
   "metadata": {
    "ExecuteTime": {
     "end_time": "2023-12-07T14:48:08.134763Z",
     "start_time": "2023-12-07T14:48:08.123288Z"
    },
    "collapsed": false
   },
   "outputs": [],
   "source": [
    "clubs = read_csv('clubs.csv')"
   ]
  },
  {
   "cell_type": "code",
   "execution_count": 14,
   "id": "6ca7d2601ccd4f65",
   "metadata": {
    "ExecuteTime": {
     "end_time": "2023-12-07T14:48:18.352670Z",
     "start_time": "2023-12-07T14:48:18.340323Z"
    },
    "collapsed": false
   },
   "outputs": [
    {
     "name": "stdout",
     "output_type": "stream",
     "text": [
      "Index(['total_market_value', 'average_age', 'foreigners_percentage',\n",
      "       'coach_name'],\n",
      "      dtype='object')\n"
     ]
    }
   ],
   "source": [
    "null_columns = clubs.columns[clubs.isnull().any()]\n",
    "print(null_columns)"
   ]
  },
  {
   "cell_type": "code",
   "execution_count": 15,
   "id": "5aa4ab9ce82e5384",
   "metadata": {
    "collapsed": false
   },
   "outputs": [
    {
     "data": {
      "text/plain": [
       "total_market_value       426\n",
       "average_age               38\n",
       "foreigners_percentage     47\n",
       "coach_name               426\n",
       "dtype: int64"
      ]
     },
     "execution_count": 15,
     "metadata": {},
     "output_type": "execute_result"
    }
   ],
   "source": [
    "clubs[null_columns].isnull().sum()"
   ]
  },
  {
   "cell_type": "code",
   "execution_count": 16,
   "id": "57a3a971",
   "metadata": {},
   "outputs": [
    {
     "name": "stdout",
     "output_type": "stream",
     "text": [
      "<class 'pandas.core.frame.DataFrame'>\n",
      "RangeIndex: 426 entries, 0 to 425\n",
      "Data columns (total 16 columns):\n",
      " #   Column                   Non-Null Count  Dtype  \n",
      "---  ------                   --------------  -----  \n",
      " 0   club_id                  426 non-null    int64  \n",
      " 1   club_code                426 non-null    object \n",
      " 2   name                     426 non-null    object \n",
      " 3   domestic_competition_id  426 non-null    object \n",
      " 4   total_market_value       0 non-null      float64\n",
      " 5   squad_size               426 non-null    int64  \n",
      " 6   average_age              388 non-null    float64\n",
      " 7   foreigners_number        426 non-null    int64  \n",
      " 8   foreigners_percentage    379 non-null    float64\n",
      " 9   national_team_players    426 non-null    int64  \n",
      " 10  stadium_name             426 non-null    object \n",
      " 11  stadium_seats            426 non-null    int64  \n",
      " 12  net_transfer_record      426 non-null    object \n",
      " 13  coach_name               0 non-null      float64\n",
      " 14  last_season              426 non-null    int64  \n",
      " 15  url                      426 non-null    object \n",
      "dtypes: float64(4), int64(6), object(6)\n",
      "memory usage: 53.4+ KB\n"
     ]
    }
   ],
   "source": [
    "clubs.info()"
   ]
  },
  {
   "cell_type": "code",
   "execution_count": 17,
   "id": "dc5143f7",
   "metadata": {},
   "outputs": [
    {
     "data": {
      "text/html": [
       "<div>\n",
       "<style scoped>\n",
       "    .dataframe tbody tr th:only-of-type {\n",
       "        vertical-align: middle;\n",
       "    }\n",
       "\n",
       "    .dataframe tbody tr th {\n",
       "        vertical-align: top;\n",
       "    }\n",
       "\n",
       "    .dataframe thead th {\n",
       "        text-align: right;\n",
       "    }\n",
       "</style>\n",
       "<table border=\"1\" class=\"dataframe\">\n",
       "  <thead>\n",
       "    <tr style=\"text-align: right;\">\n",
       "      <th></th>\n",
       "      <th>club_id</th>\n",
       "      <th>club_code</th>\n",
       "      <th>name</th>\n",
       "      <th>domestic_competition_id</th>\n",
       "      <th>total_market_value</th>\n",
       "      <th>squad_size</th>\n",
       "      <th>average_age</th>\n",
       "      <th>foreigners_number</th>\n",
       "      <th>foreigners_percentage</th>\n",
       "      <th>national_team_players</th>\n",
       "      <th>stadium_name</th>\n",
       "      <th>stadium_seats</th>\n",
       "      <th>net_transfer_record</th>\n",
       "      <th>coach_name</th>\n",
       "      <th>last_season</th>\n",
       "      <th>url</th>\n",
       "    </tr>\n",
       "  </thead>\n",
       "  <tbody>\n",
       "    <tr>\n",
       "      <th>0</th>\n",
       "      <td>105</td>\n",
       "      <td>sv-darmstadt-98</td>\n",
       "      <td>Sportverein Darmstadt 1898 e. V.</td>\n",
       "      <td>L1</td>\n",
       "      <td>NaN</td>\n",
       "      <td>30</td>\n",
       "      <td>26.4</td>\n",
       "      <td>11</td>\n",
       "      <td>36.7</td>\n",
       "      <td>1</td>\n",
       "      <td>Merck-Stadion am Böllenfalltor</td>\n",
       "      <td>17810</td>\n",
       "      <td>€-1.60m</td>\n",
       "      <td>NaN</td>\n",
       "      <td>2023</td>\n",
       "      <td>https://www.transfermarkt.co.uk/sv-darmstadt-9...</td>\n",
       "    </tr>\n",
       "    <tr>\n",
       "      <th>1</th>\n",
       "      <td>11127</td>\n",
       "      <td>ural-ekaterinburg</td>\n",
       "      <td>FK Ural Yekaterinburg</td>\n",
       "      <td>RU1</td>\n",
       "      <td>NaN</td>\n",
       "      <td>25</td>\n",
       "      <td>28.2</td>\n",
       "      <td>13</td>\n",
       "      <td>52.0</td>\n",
       "      <td>5</td>\n",
       "      <td>Yekaterinburg Arena</td>\n",
       "      <td>23000</td>\n",
       "      <td>€-770k</td>\n",
       "      <td>NaN</td>\n",
       "      <td>2023</td>\n",
       "      <td>https://www.transfermarkt.co.uk/ural-ekaterinb...</td>\n",
       "    </tr>\n",
       "    <tr>\n",
       "      <th>2</th>\n",
       "      <td>114</td>\n",
       "      <td>besiktas-istanbul</td>\n",
       "      <td>Beşiktaş Jimnastik Kulübü</td>\n",
       "      <td>TR1</td>\n",
       "      <td>NaN</td>\n",
       "      <td>32</td>\n",
       "      <td>27.4</td>\n",
       "      <td>16</td>\n",
       "      <td>50.0</td>\n",
       "      <td>13</td>\n",
       "      <td>Tüpraş Stadyumu</td>\n",
       "      <td>42590</td>\n",
       "      <td>€-14.50m</td>\n",
       "      <td>NaN</td>\n",
       "      <td>2023</td>\n",
       "      <td>https://www.transfermarkt.co.uk/besiktas-istan...</td>\n",
       "    </tr>\n",
       "    <tr>\n",
       "      <th>3</th>\n",
       "      <td>12</td>\n",
       "      <td>as-rom</td>\n",
       "      <td>Associazione Sportiva Roma</td>\n",
       "      <td>IT1</td>\n",
       "      <td>NaN</td>\n",
       "      <td>26</td>\n",
       "      <td>27.4</td>\n",
       "      <td>17</td>\n",
       "      <td>65.4</td>\n",
       "      <td>17</td>\n",
       "      <td>Olimpico di Roma</td>\n",
       "      <td>73261</td>\n",
       "      <td>+€65.20m</td>\n",
       "      <td>NaN</td>\n",
       "      <td>2023</td>\n",
       "      <td>https://www.transfermarkt.co.uk/as-rom/startse...</td>\n",
       "    </tr>\n",
       "    <tr>\n",
       "      <th>4</th>\n",
       "      <td>148</td>\n",
       "      <td>tottenham-hotspur</td>\n",
       "      <td>Tottenham Hotspur Football Club</td>\n",
       "      <td>GB1</td>\n",
       "      <td>NaN</td>\n",
       "      <td>29</td>\n",
       "      <td>26.2</td>\n",
       "      <td>21</td>\n",
       "      <td>72.4</td>\n",
       "      <td>22</td>\n",
       "      <td>Tottenham Hotspur Stadium</td>\n",
       "      <td>62062</td>\n",
       "      <td>€-130.40m</td>\n",
       "      <td>NaN</td>\n",
       "      <td>2023</td>\n",
       "      <td>https://www.transfermarkt.co.uk/tottenham-hots...</td>\n",
       "    </tr>\n",
       "  </tbody>\n",
       "</table>\n",
       "</div>"
      ],
      "text/plain": [
       "   club_id          club_code                              name  \\\n",
       "0      105    sv-darmstadt-98  Sportverein Darmstadt 1898 e. V.   \n",
       "1    11127  ural-ekaterinburg             FK Ural Yekaterinburg   \n",
       "2      114  besiktas-istanbul         Beşiktaş Jimnastik Kulübü   \n",
       "3       12             as-rom        Associazione Sportiva Roma   \n",
       "4      148  tottenham-hotspur   Tottenham Hotspur Football Club   \n",
       "\n",
       "  domestic_competition_id  total_market_value  squad_size  average_age  \\\n",
       "0                      L1                 NaN          30         26.4   \n",
       "1                     RU1                 NaN          25         28.2   \n",
       "2                     TR1                 NaN          32         27.4   \n",
       "3                     IT1                 NaN          26         27.4   \n",
       "4                     GB1                 NaN          29         26.2   \n",
       "\n",
       "   foreigners_number  foreigners_percentage  national_team_players  \\\n",
       "0                 11                   36.7                      1   \n",
       "1                 13                   52.0                      5   \n",
       "2                 16                   50.0                     13   \n",
       "3                 17                   65.4                     17   \n",
       "4                 21                   72.4                     22   \n",
       "\n",
       "                     stadium_name  stadium_seats net_transfer_record  \\\n",
       "0  Merck-Stadion am Böllenfalltor          17810             €-1.60m   \n",
       "1             Yekaterinburg Arena          23000              €-770k   \n",
       "2                 Tüpraş Stadyumu          42590            €-14.50m   \n",
       "3                Olimpico di Roma          73261            +€65.20m   \n",
       "4       Tottenham Hotspur Stadium          62062           €-130.40m   \n",
       "\n",
       "   coach_name  last_season                                                url  \n",
       "0         NaN         2023  https://www.transfermarkt.co.uk/sv-darmstadt-9...  \n",
       "1         NaN         2023  https://www.transfermarkt.co.uk/ural-ekaterinb...  \n",
       "2         NaN         2023  https://www.transfermarkt.co.uk/besiktas-istan...  \n",
       "3         NaN         2023  https://www.transfermarkt.co.uk/as-rom/startse...  \n",
       "4         NaN         2023  https://www.transfermarkt.co.uk/tottenham-hots...  "
      ]
     },
     "execution_count": 17,
     "metadata": {},
     "output_type": "execute_result"
    }
   ],
   "source": [
    "clubs.head(\n",
    "    \n",
    ")"
   ]
  },
  {
   "cell_type": "code",
   "execution_count": null,
   "id": "f1ebe3a7",
   "metadata": {},
   "outputs": [],
   "source": []
  }
 ],
 "metadata": {
  "kernelspec": {
   "display_name": "Python 3",
   "language": "python",
   "name": "python3"
  },
  "language_info": {
   "codemirror_mode": {
    "name": "ipython",
    "version": 3
   },
   "file_extension": ".py",
   "mimetype": "text/x-python",
   "name": "python",
   "nbconvert_exporter": "python",
   "pygments_lexer": "ipython3",
   "version": "3.11.6"
  }
 },
 "nbformat": 4,
 "nbformat_minor": 5
}
