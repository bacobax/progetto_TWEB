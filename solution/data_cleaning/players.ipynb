{
 "cells": [
  {
   "cell_type": "code",
   "execution_count": 14,
   "id": "initial_id",
   "metadata": {
    "collapsed": true,
    "ExecuteTime": {
     "end_time": "2023-12-07T14:31:28.583262Z",
     "start_time": "2023-12-07T14:31:28.549693Z"
    }
   },
   "outputs": [],
   "source": [
    "from constants import *\n"
   ]
  },
  {
   "cell_type": "code",
   "execution_count": 16,
   "outputs": [],
   "source": [
    "players = read_csv('players.csv')"
   ],
   "metadata": {
    "collapsed": false,
    "ExecuteTime": {
     "end_time": "2023-12-07T14:31:45.010657Z",
     "start_time": "2023-12-07T14:31:44.854571Z"
    }
   },
   "id": "8ac9c342d3667b13"
  },
  {
   "cell_type": "code",
   "execution_count": 3,
   "outputs": [
    {
     "data": {
      "text/plain": "   player_id first_name   last_name              name  last_season  \\\n0        598       Timo  Hildebrand   Timo Hildebrand         2014   \n1        670     Martin      Petrov     Martin Petrov         2012   \n2       1323     Martin     Amedick    Martin Amedick         2012   \n3       3195   Jermaine     Pennant  Jermaine Pennant         2013   \n4       3259     Damien        Duff       Damien Duff         2013   \n\n   current_club_id       player_code country_of_birth city_of_birth  \\\n0               24   timo-hildebrand          Germany         Worms   \n1              714     martin-petrov         Bulgaria        Vratsa   \n2               24    martin-amedick          Germany     Paderborn   \n3              512  jermaine-pennant          England    Nottingham   \n4              931       damien-duff          Ireland    Ballyboden   \n\n  country_of_citizenship  ...   foot height_in_cm market_value_in_eur  \\\n0                Germany  ...    NaN          NaN                 NaN   \n1               Bulgaria  ...    NaN          NaN                 NaN   \n2                Germany  ...    NaN          NaN                 NaN   \n3                England  ...  right        173.0                 NaN   \n4                Ireland  ...   left        177.0                 NaN   \n\n  highest_market_value_in_eur  contract_expiration_date  agent_name  \\\n0                  10000000.0                       NaN         NaN   \n1                  12000000.0                       NaN         IFM   \n2                   2750000.0                       NaN         NaN   \n3                  10500000.0                       NaN  Andrew Sky   \n4                  17000000.0                       NaN         NaN   \n\n                                           image_url  \\\n0  https://img.a.transfermarkt.technology/portrai...   \n1  https://img.a.transfermarkt.technology/portrai...   \n2  https://img.a.transfermarkt.technology/portrai...   \n3  https://img.a.transfermarkt.technology/portrai...   \n4  https://img.a.transfermarkt.technology/portrai...   \n\n                                                 url  \\\n0  https://www.transfermarkt.co.uk/timo-hildebran...   \n1  https://www.transfermarkt.co.uk/martin-petrov/...   \n2  https://www.transfermarkt.co.uk/martin-amedick...   \n3  https://www.transfermarkt.co.uk/jermaine-penna...   \n4  https://www.transfermarkt.co.uk/damien-duff/pr...   \n\n  current_club_domestic_competition_id       current_club_name  \n0                                   L1     Eintracht Frankfurt  \n1                                  ES1  RCD Espanyol Barcelona  \n2                                   L1     Eintracht Frankfurt  \n3                                  GB1              Stoke City  \n4                                  GB1               Fulham FC  \n\n[5 rows x 23 columns]",
      "text/html": "<div>\n<style scoped>\n    .dataframe tbody tr th:only-of-type {\n        vertical-align: middle;\n    }\n\n    .dataframe tbody tr th {\n        vertical-align: top;\n    }\n\n    .dataframe thead th {\n        text-align: right;\n    }\n</style>\n<table border=\"1\" class=\"dataframe\">\n  <thead>\n    <tr style=\"text-align: right;\">\n      <th></th>\n      <th>player_id</th>\n      <th>first_name</th>\n      <th>last_name</th>\n      <th>name</th>\n      <th>last_season</th>\n      <th>current_club_id</th>\n      <th>player_code</th>\n      <th>country_of_birth</th>\n      <th>city_of_birth</th>\n      <th>country_of_citizenship</th>\n      <th>...</th>\n      <th>foot</th>\n      <th>height_in_cm</th>\n      <th>market_value_in_eur</th>\n      <th>highest_market_value_in_eur</th>\n      <th>contract_expiration_date</th>\n      <th>agent_name</th>\n      <th>image_url</th>\n      <th>url</th>\n      <th>current_club_domestic_competition_id</th>\n      <th>current_club_name</th>\n    </tr>\n  </thead>\n  <tbody>\n    <tr>\n      <th>0</th>\n      <td>598</td>\n      <td>Timo</td>\n      <td>Hildebrand</td>\n      <td>Timo Hildebrand</td>\n      <td>2014</td>\n      <td>24</td>\n      <td>timo-hildebrand</td>\n      <td>Germany</td>\n      <td>Worms</td>\n      <td>Germany</td>\n      <td>...</td>\n      <td>NaN</td>\n      <td>NaN</td>\n      <td>NaN</td>\n      <td>10000000.0</td>\n      <td>NaN</td>\n      <td>NaN</td>\n      <td>https://img.a.transfermarkt.technology/portrai...</td>\n      <td>https://www.transfermarkt.co.uk/timo-hildebran...</td>\n      <td>L1</td>\n      <td>Eintracht Frankfurt</td>\n    </tr>\n    <tr>\n      <th>1</th>\n      <td>670</td>\n      <td>Martin</td>\n      <td>Petrov</td>\n      <td>Martin Petrov</td>\n      <td>2012</td>\n      <td>714</td>\n      <td>martin-petrov</td>\n      <td>Bulgaria</td>\n      <td>Vratsa</td>\n      <td>Bulgaria</td>\n      <td>...</td>\n      <td>NaN</td>\n      <td>NaN</td>\n      <td>NaN</td>\n      <td>12000000.0</td>\n      <td>NaN</td>\n      <td>IFM</td>\n      <td>https://img.a.transfermarkt.technology/portrai...</td>\n      <td>https://www.transfermarkt.co.uk/martin-petrov/...</td>\n      <td>ES1</td>\n      <td>RCD Espanyol Barcelona</td>\n    </tr>\n    <tr>\n      <th>2</th>\n      <td>1323</td>\n      <td>Martin</td>\n      <td>Amedick</td>\n      <td>Martin Amedick</td>\n      <td>2012</td>\n      <td>24</td>\n      <td>martin-amedick</td>\n      <td>Germany</td>\n      <td>Paderborn</td>\n      <td>Germany</td>\n      <td>...</td>\n      <td>NaN</td>\n      <td>NaN</td>\n      <td>NaN</td>\n      <td>2750000.0</td>\n      <td>NaN</td>\n      <td>NaN</td>\n      <td>https://img.a.transfermarkt.technology/portrai...</td>\n      <td>https://www.transfermarkt.co.uk/martin-amedick...</td>\n      <td>L1</td>\n      <td>Eintracht Frankfurt</td>\n    </tr>\n    <tr>\n      <th>3</th>\n      <td>3195</td>\n      <td>Jermaine</td>\n      <td>Pennant</td>\n      <td>Jermaine Pennant</td>\n      <td>2013</td>\n      <td>512</td>\n      <td>jermaine-pennant</td>\n      <td>England</td>\n      <td>Nottingham</td>\n      <td>England</td>\n      <td>...</td>\n      <td>right</td>\n      <td>173.0</td>\n      <td>NaN</td>\n      <td>10500000.0</td>\n      <td>NaN</td>\n      <td>Andrew Sky</td>\n      <td>https://img.a.transfermarkt.technology/portrai...</td>\n      <td>https://www.transfermarkt.co.uk/jermaine-penna...</td>\n      <td>GB1</td>\n      <td>Stoke City</td>\n    </tr>\n    <tr>\n      <th>4</th>\n      <td>3259</td>\n      <td>Damien</td>\n      <td>Duff</td>\n      <td>Damien Duff</td>\n      <td>2013</td>\n      <td>931</td>\n      <td>damien-duff</td>\n      <td>Ireland</td>\n      <td>Ballyboden</td>\n      <td>Ireland</td>\n      <td>...</td>\n      <td>left</td>\n      <td>177.0</td>\n      <td>NaN</td>\n      <td>17000000.0</td>\n      <td>NaN</td>\n      <td>NaN</td>\n      <td>https://img.a.transfermarkt.technology/portrai...</td>\n      <td>https://www.transfermarkt.co.uk/damien-duff/pr...</td>\n      <td>GB1</td>\n      <td>Fulham FC</td>\n    </tr>\n  </tbody>\n</table>\n<p>5 rows × 23 columns</p>\n</div>"
     },
     "execution_count": 3,
     "metadata": {},
     "output_type": "execute_result"
    }
   ],
   "source": [
    "players.head()"
   ],
   "metadata": {
    "collapsed": false,
    "ExecuteTime": {
     "end_time": "2023-12-07T14:04:17.354019Z",
     "start_time": "2023-12-07T14:04:17.342674Z"
    }
   },
   "id": "d015c3e8a3664f13"
  },
  {
   "cell_type": "code",
   "execution_count": 17,
   "outputs": [
    {
     "name": "stdout",
     "output_type": "stream",
     "text": [
      "<class 'pandas.core.frame.DataFrame'>\n",
      "RangeIndex: 30302 entries, 0 to 30301\n",
      "Data columns (total 23 columns):\n",
      " #   Column                                Non-Null Count  Dtype  \n",
      "---  ------                                --------------  -----  \n",
      " 0   player_id                             30302 non-null  int64  \n",
      " 1   first_name                            28337 non-null  object \n",
      " 2   last_name                             30302 non-null  object \n",
      " 3   name                                  30302 non-null  object \n",
      " 4   last_season                           30302 non-null  int64  \n",
      " 5   current_club_id                       30302 non-null  int64  \n",
      " 6   player_code                           30302 non-null  object \n",
      " 7   country_of_birth                      27613 non-null  object \n",
      " 8   city_of_birth                         28099 non-null  object \n",
      " 9   country_of_citizenship                29759 non-null  object \n",
      " 10  date_of_birth                         30255 non-null  object \n",
      " 11  sub_position                          30130 non-null  object \n",
      " 12  position                              30302 non-null  object \n",
      " 13  foot                                  27913 non-null  object \n",
      " 14  height_in_cm                          28204 non-null  float64\n",
      " 15  market_value_in_eur                   19383 non-null  float64\n",
      " 16  highest_market_value_in_eur           28981 non-null  float64\n",
      " 17  contract_expiration_date              18835 non-null  object \n",
      " 18  agent_name                            14941 non-null  object \n",
      " 19  image_url                             30302 non-null  object \n",
      " 20  url                                   30302 non-null  object \n",
      " 21  current_club_domestic_competition_id  30302 non-null  object \n",
      " 22  current_club_name                     30302 non-null  object \n",
      "dtypes: float64(3), int64(3), object(17)\n",
      "memory usage: 5.3+ MB\n"
     ]
    }
   ],
   "source": [
    "players.info()"
   ],
   "metadata": {
    "collapsed": false,
    "ExecuteTime": {
     "end_time": "2023-12-07T14:31:47.409037Z",
     "start_time": "2023-12-07T14:31:47.403266Z"
    }
   },
   "id": "d69b81bef151446a"
  },
  {
   "cell_type": "markdown",
   "source": [
    "name,current_club_domestic_competition_id and current_club_name are useless"
   ],
   "metadata": {
    "collapsed": false
   },
   "id": "918a1bbfb8076afd"
  },
  {
   "cell_type": "code",
   "execution_count": 10,
   "outputs": [
    {
     "ename": "KeyError",
     "evalue": "\"['name'] not found in axis\"",
     "output_type": "error",
     "traceback": [
      "\u001B[0;31m---------------------------------------------------------------------------\u001B[0m",
      "\u001B[0;31mKeyError\u001B[0m                                  Traceback (most recent call last)",
      "Cell \u001B[0;32mIn[10], line 1\u001B[0m\n\u001B[0;32m----> 1\u001B[0m \u001B[43mplayers\u001B[49m\u001B[38;5;241;43m.\u001B[39;49m\u001B[43mdrop\u001B[49m\u001B[43m(\u001B[49m\u001B[38;5;124;43m'\u001B[39;49m\u001B[38;5;124;43mname\u001B[39;49m\u001B[38;5;124;43m'\u001B[39;49m\u001B[43m,\u001B[49m\u001B[43m \u001B[49m\u001B[43maxis\u001B[49m\u001B[38;5;241;43m=\u001B[39;49m\u001B[38;5;241;43m1\u001B[39;49m\u001B[43m,\u001B[49m\u001B[43m \u001B[49m\u001B[43minplace\u001B[49m\u001B[38;5;241;43m=\u001B[39;49m\u001B[38;5;28;43;01mTrue\u001B[39;49;00m\u001B[43m)\u001B[49m\n\u001B[1;32m      2\u001B[0m players\u001B[38;5;241m.\u001B[39mdrop(\u001B[38;5;124m'\u001B[39m\u001B[38;5;124mcurrent_club_domestic_competition_id\u001B[39m\u001B[38;5;124m'\u001B[39m, axis\u001B[38;5;241m=\u001B[39m\u001B[38;5;241m1\u001B[39m, inplace\u001B[38;5;241m=\u001B[39m\u001B[38;5;28;01mTrue\u001B[39;00m)\n\u001B[1;32m      3\u001B[0m players\u001B[38;5;241m.\u001B[39mdrop(\u001B[38;5;124m'\u001B[39m\u001B[38;5;124mcurrent_club_name\u001B[39m\u001B[38;5;124m'\u001B[39m, axis\u001B[38;5;241m=\u001B[39m\u001B[38;5;241m1\u001B[39m, inplace\u001B[38;5;241m=\u001B[39m\u001B[38;5;28;01mTrue\u001B[39;00m)\n",
      "File \u001B[0;32m~/miniforge3/envs/progetto_TWEB/lib/python3.11/site-packages/pandas/core/frame.py:5344\u001B[0m, in \u001B[0;36mDataFrame.drop\u001B[0;34m(self, labels, axis, index, columns, level, inplace, errors)\u001B[0m\n\u001B[1;32m   5196\u001B[0m \u001B[38;5;28;01mdef\u001B[39;00m \u001B[38;5;21mdrop\u001B[39m(\n\u001B[1;32m   5197\u001B[0m     \u001B[38;5;28mself\u001B[39m,\n\u001B[1;32m   5198\u001B[0m     labels: IndexLabel \u001B[38;5;241m|\u001B[39m \u001B[38;5;28;01mNone\u001B[39;00m \u001B[38;5;241m=\u001B[39m \u001B[38;5;28;01mNone\u001B[39;00m,\n\u001B[0;32m   (...)\u001B[0m\n\u001B[1;32m   5205\u001B[0m     errors: IgnoreRaise \u001B[38;5;241m=\u001B[39m \u001B[38;5;124m\"\u001B[39m\u001B[38;5;124mraise\u001B[39m\u001B[38;5;124m\"\u001B[39m,\n\u001B[1;32m   5206\u001B[0m ) \u001B[38;5;241m-\u001B[39m\u001B[38;5;241m>\u001B[39m DataFrame \u001B[38;5;241m|\u001B[39m \u001B[38;5;28;01mNone\u001B[39;00m:\n\u001B[1;32m   5207\u001B[0m \u001B[38;5;250m    \u001B[39m\u001B[38;5;124;03m\"\"\"\u001B[39;00m\n\u001B[1;32m   5208\u001B[0m \u001B[38;5;124;03m    Drop specified labels from rows or columns.\u001B[39;00m\n\u001B[1;32m   5209\u001B[0m \n\u001B[0;32m   (...)\u001B[0m\n\u001B[1;32m   5342\u001B[0m \u001B[38;5;124;03m            weight  1.0     0.8\u001B[39;00m\n\u001B[1;32m   5343\u001B[0m \u001B[38;5;124;03m    \"\"\"\u001B[39;00m\n\u001B[0;32m-> 5344\u001B[0m     \u001B[38;5;28;01mreturn\u001B[39;00m \u001B[38;5;28;43msuper\u001B[39;49m\u001B[43m(\u001B[49m\u001B[43m)\u001B[49m\u001B[38;5;241;43m.\u001B[39;49m\u001B[43mdrop\u001B[49m\u001B[43m(\u001B[49m\n\u001B[1;32m   5345\u001B[0m \u001B[43m        \u001B[49m\u001B[43mlabels\u001B[49m\u001B[38;5;241;43m=\u001B[39;49m\u001B[43mlabels\u001B[49m\u001B[43m,\u001B[49m\n\u001B[1;32m   5346\u001B[0m \u001B[43m        \u001B[49m\u001B[43maxis\u001B[49m\u001B[38;5;241;43m=\u001B[39;49m\u001B[43maxis\u001B[49m\u001B[43m,\u001B[49m\n\u001B[1;32m   5347\u001B[0m \u001B[43m        \u001B[49m\u001B[43mindex\u001B[49m\u001B[38;5;241;43m=\u001B[39;49m\u001B[43mindex\u001B[49m\u001B[43m,\u001B[49m\n\u001B[1;32m   5348\u001B[0m \u001B[43m        \u001B[49m\u001B[43mcolumns\u001B[49m\u001B[38;5;241;43m=\u001B[39;49m\u001B[43mcolumns\u001B[49m\u001B[43m,\u001B[49m\n\u001B[1;32m   5349\u001B[0m \u001B[43m        \u001B[49m\u001B[43mlevel\u001B[49m\u001B[38;5;241;43m=\u001B[39;49m\u001B[43mlevel\u001B[49m\u001B[43m,\u001B[49m\n\u001B[1;32m   5350\u001B[0m \u001B[43m        \u001B[49m\u001B[43minplace\u001B[49m\u001B[38;5;241;43m=\u001B[39;49m\u001B[43minplace\u001B[49m\u001B[43m,\u001B[49m\n\u001B[1;32m   5351\u001B[0m \u001B[43m        \u001B[49m\u001B[43merrors\u001B[49m\u001B[38;5;241;43m=\u001B[39;49m\u001B[43merrors\u001B[49m\u001B[43m,\u001B[49m\n\u001B[1;32m   5352\u001B[0m \u001B[43m    \u001B[49m\u001B[43m)\u001B[49m\n",
      "File \u001B[0;32m~/miniforge3/envs/progetto_TWEB/lib/python3.11/site-packages/pandas/core/generic.py:4711\u001B[0m, in \u001B[0;36mNDFrame.drop\u001B[0;34m(self, labels, axis, index, columns, level, inplace, errors)\u001B[0m\n\u001B[1;32m   4709\u001B[0m \u001B[38;5;28;01mfor\u001B[39;00m axis, labels \u001B[38;5;129;01min\u001B[39;00m axes\u001B[38;5;241m.\u001B[39mitems():\n\u001B[1;32m   4710\u001B[0m     \u001B[38;5;28;01mif\u001B[39;00m labels \u001B[38;5;129;01mis\u001B[39;00m \u001B[38;5;129;01mnot\u001B[39;00m \u001B[38;5;28;01mNone\u001B[39;00m:\n\u001B[0;32m-> 4711\u001B[0m         obj \u001B[38;5;241m=\u001B[39m \u001B[43mobj\u001B[49m\u001B[38;5;241;43m.\u001B[39;49m\u001B[43m_drop_axis\u001B[49m\u001B[43m(\u001B[49m\u001B[43mlabels\u001B[49m\u001B[43m,\u001B[49m\u001B[43m \u001B[49m\u001B[43maxis\u001B[49m\u001B[43m,\u001B[49m\u001B[43m \u001B[49m\u001B[43mlevel\u001B[49m\u001B[38;5;241;43m=\u001B[39;49m\u001B[43mlevel\u001B[49m\u001B[43m,\u001B[49m\u001B[43m \u001B[49m\u001B[43merrors\u001B[49m\u001B[38;5;241;43m=\u001B[39;49m\u001B[43merrors\u001B[49m\u001B[43m)\u001B[49m\n\u001B[1;32m   4713\u001B[0m \u001B[38;5;28;01mif\u001B[39;00m inplace:\n\u001B[1;32m   4714\u001B[0m     \u001B[38;5;28mself\u001B[39m\u001B[38;5;241m.\u001B[39m_update_inplace(obj)\n",
      "File \u001B[0;32m~/miniforge3/envs/progetto_TWEB/lib/python3.11/site-packages/pandas/core/generic.py:4753\u001B[0m, in \u001B[0;36mNDFrame._drop_axis\u001B[0;34m(self, labels, axis, level, errors, only_slice)\u001B[0m\n\u001B[1;32m   4751\u001B[0m         new_axis \u001B[38;5;241m=\u001B[39m axis\u001B[38;5;241m.\u001B[39mdrop(labels, level\u001B[38;5;241m=\u001B[39mlevel, errors\u001B[38;5;241m=\u001B[39merrors)\n\u001B[1;32m   4752\u001B[0m     \u001B[38;5;28;01melse\u001B[39;00m:\n\u001B[0;32m-> 4753\u001B[0m         new_axis \u001B[38;5;241m=\u001B[39m \u001B[43maxis\u001B[49m\u001B[38;5;241;43m.\u001B[39;49m\u001B[43mdrop\u001B[49m\u001B[43m(\u001B[49m\u001B[43mlabels\u001B[49m\u001B[43m,\u001B[49m\u001B[43m \u001B[49m\u001B[43merrors\u001B[49m\u001B[38;5;241;43m=\u001B[39;49m\u001B[43merrors\u001B[49m\u001B[43m)\u001B[49m\n\u001B[1;32m   4754\u001B[0m     indexer \u001B[38;5;241m=\u001B[39m axis\u001B[38;5;241m.\u001B[39mget_indexer(new_axis)\n\u001B[1;32m   4756\u001B[0m \u001B[38;5;66;03m# Case for non-unique axis\u001B[39;00m\n\u001B[1;32m   4757\u001B[0m \u001B[38;5;28;01melse\u001B[39;00m:\n",
      "File \u001B[0;32m~/miniforge3/envs/progetto_TWEB/lib/python3.11/site-packages/pandas/core/indexes/base.py:6992\u001B[0m, in \u001B[0;36mIndex.drop\u001B[0;34m(self, labels, errors)\u001B[0m\n\u001B[1;32m   6990\u001B[0m \u001B[38;5;28;01mif\u001B[39;00m mask\u001B[38;5;241m.\u001B[39many():\n\u001B[1;32m   6991\u001B[0m     \u001B[38;5;28;01mif\u001B[39;00m errors \u001B[38;5;241m!=\u001B[39m \u001B[38;5;124m\"\u001B[39m\u001B[38;5;124mignore\u001B[39m\u001B[38;5;124m\"\u001B[39m:\n\u001B[0;32m-> 6992\u001B[0m         \u001B[38;5;28;01mraise\u001B[39;00m \u001B[38;5;167;01mKeyError\u001B[39;00m(\u001B[38;5;124mf\u001B[39m\u001B[38;5;124m\"\u001B[39m\u001B[38;5;132;01m{\u001B[39;00mlabels[mask]\u001B[38;5;241m.\u001B[39mtolist()\u001B[38;5;132;01m}\u001B[39;00m\u001B[38;5;124m not found in axis\u001B[39m\u001B[38;5;124m\"\u001B[39m)\n\u001B[1;32m   6993\u001B[0m     indexer \u001B[38;5;241m=\u001B[39m indexer[\u001B[38;5;241m~\u001B[39mmask]\n\u001B[1;32m   6994\u001B[0m \u001B[38;5;28;01mreturn\u001B[39;00m \u001B[38;5;28mself\u001B[39m\u001B[38;5;241m.\u001B[39mdelete(indexer)\n",
      "\u001B[0;31mKeyError\u001B[0m: \"['name'] not found in axis\""
     ]
    }
   ],
   "source": [
    "players.drop('name', axis=1, inplace=True)\n"
   ],
   "metadata": {
    "collapsed": false,
    "ExecuteTime": {
     "end_time": "2023-12-07T14:29:34.337234Z",
     "start_time": "2023-12-07T14:29:34.311112Z"
    }
   },
   "id": "97c5c79acce79337"
  },
  {
   "cell_type": "code",
   "execution_count": 11,
   "outputs": [],
   "source": [
    "players.drop('current_club_domestic_competition_id', axis=1, inplace=True)"
   ],
   "metadata": {
    "collapsed": false,
    "ExecuteTime": {
     "end_time": "2023-12-07T14:29:45.609122Z",
     "start_time": "2023-12-07T14:29:45.592177Z"
    }
   },
   "id": "f271d9022a252fba"
  },
  {
   "cell_type": "code",
   "execution_count": 12,
   "outputs": [],
   "source": [
    "players.drop('current_club_name', axis=1, inplace=True)"
   ],
   "metadata": {
    "collapsed": false,
    "ExecuteTime": {
     "end_time": "2023-12-07T14:29:46.948059Z",
     "start_time": "2023-12-07T14:29:46.935850Z"
    }
   },
   "id": "22b79915089dd5c1"
  },
  {
   "cell_type": "code",
   "execution_count": 15,
   "outputs": [],
   "source": [
    "players.to_csv(f'{DATA_FOLDER}/new_players.csv', index=False)"
   ],
   "metadata": {
    "collapsed": false,
    "ExecuteTime": {
     "end_time": "2023-12-07T14:31:31.462498Z",
     "start_time": "2023-12-07T14:31:31.249647Z"
    }
   },
   "id": "3f956909ae8e793b"
  },
  {
   "cell_type": "code",
   "execution_count": 18,
   "outputs": [
    {
     "name": "stdout",
     "output_type": "stream",
     "text": [
      "Index(['first_name', 'country_of_birth', 'city_of_birth',\n",
      "       'country_of_citizenship', 'date_of_birth', 'sub_position', 'foot',\n",
      "       'height_in_cm', 'market_value_in_eur', 'highest_market_value_in_eur',\n",
      "       'contract_expiration_date', 'agent_name'],\n",
      "      dtype='object')\n"
     ]
    }
   ],
   "source": [
    "null_columns = players.columns[players.isnull().any()]\n",
    "print(null_columns)"
   ],
   "metadata": {
    "collapsed": false,
    "ExecuteTime": {
     "end_time": "2023-12-07T14:40:57.876757Z",
     "start_time": "2023-12-07T14:40:57.846449Z"
    }
   },
   "id": "2c36d035b11f6bec"
  },
  {
   "cell_type": "code",
   "execution_count": null,
   "outputs": [],
   "source": [],
   "metadata": {
    "collapsed": false
   },
   "id": "c4d9bef566525c3a"
  }
 ],
 "metadata": {
  "kernelspec": {
   "display_name": "Python 3",
   "language": "python",
   "name": "python3"
  },
  "language_info": {
   "codemirror_mode": {
    "name": "ipython",
    "version": 2
   },
   "file_extension": ".py",
   "mimetype": "text/x-python",
   "name": "python",
   "nbconvert_exporter": "python",
   "pygments_lexer": "ipython2",
   "version": "2.7.6"
  }
 },
 "nbformat": 4,
 "nbformat_minor": 5
}
