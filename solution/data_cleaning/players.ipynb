{
 "cells": [
  {
   "cell_type": "code",
   "execution_count": 1,
   "id": "initial_id",
   "metadata": {
    "ExecuteTime": {
     "end_time": "2023-12-07T14:31:28.583262Z",
     "start_time": "2023-12-07T14:31:28.549693Z"
    },
    "collapsed": true
   },
   "outputs": [],
   "source": [
    "from constants import *\n"
   ]
  },
  {
   "cell_type": "code",
   "execution_count": 3,
   "id": "8ac9c342d3667b13",
   "metadata": {
    "ExecuteTime": {
     "end_time": "2023-12-07T14:31:45.010657Z",
     "start_time": "2023-12-07T14:31:44.854571Z"
    },
    "collapsed": false
   },
   "outputs": [],
   "source": [
    "players = read_csv('players.csv')"
   ]
  },
  {
   "cell_type": "code",
   "execution_count": 3,
   "id": "d015c3e8a3664f13",
   "metadata": {
    "ExecuteTime": {
     "end_time": "2023-12-07T14:04:17.354019Z",
     "start_time": "2023-12-07T14:04:17.342674Z"
    },
    "collapsed": false
   },
   "outputs": [
    {
     "data": {
      "text/html": [
       "<div>\n",
       "<style scoped>\n",
       "    .dataframe tbody tr th:only-of-type {\n",
       "        vertical-align: middle;\n",
       "    }\n",
       "\n",
       "    .dataframe tbody tr th {\n",
       "        vertical-align: top;\n",
       "    }\n",
       "\n",
       "    .dataframe thead th {\n",
       "        text-align: right;\n",
       "    }\n",
       "</style>\n",
       "<table border=\"1\" class=\"dataframe\">\n",
       "  <thead>\n",
       "    <tr style=\"text-align: right;\">\n",
       "      <th></th>\n",
       "      <th>player_id</th>\n",
       "      <th>first_name</th>\n",
       "      <th>last_name</th>\n",
       "      <th>name</th>\n",
       "      <th>last_season</th>\n",
       "      <th>current_club_id</th>\n",
       "      <th>player_code</th>\n",
       "      <th>country_of_birth</th>\n",
       "      <th>city_of_birth</th>\n",
       "      <th>country_of_citizenship</th>\n",
       "      <th>...</th>\n",
       "      <th>foot</th>\n",
       "      <th>height_in_cm</th>\n",
       "      <th>market_value_in_eur</th>\n",
       "      <th>highest_market_value_in_eur</th>\n",
       "      <th>contract_expiration_date</th>\n",
       "      <th>agent_name</th>\n",
       "      <th>image_url</th>\n",
       "      <th>url</th>\n",
       "      <th>current_club_domestic_competition_id</th>\n",
       "      <th>current_club_name</th>\n",
       "    </tr>\n",
       "  </thead>\n",
       "  <tbody>\n",
       "    <tr>\n",
       "      <th>0</th>\n",
       "      <td>598</td>\n",
       "      <td>Timo</td>\n",
       "      <td>Hildebrand</td>\n",
       "      <td>Timo Hildebrand</td>\n",
       "      <td>2014</td>\n",
       "      <td>24</td>\n",
       "      <td>timo-hildebrand</td>\n",
       "      <td>Germany</td>\n",
       "      <td>Worms</td>\n",
       "      <td>Germany</td>\n",
       "      <td>...</td>\n",
       "      <td>NaN</td>\n",
       "      <td>NaN</td>\n",
       "      <td>NaN</td>\n",
       "      <td>10000000.0</td>\n",
       "      <td>NaN</td>\n",
       "      <td>NaN</td>\n",
       "      <td>https://img.a.transfermarkt.technology/portrai...</td>\n",
       "      <td>https://www.transfermarkt.co.uk/timo-hildebran...</td>\n",
       "      <td>L1</td>\n",
       "      <td>Eintracht Frankfurt</td>\n",
       "    </tr>\n",
       "    <tr>\n",
       "      <th>1</th>\n",
       "      <td>670</td>\n",
       "      <td>Martin</td>\n",
       "      <td>Petrov</td>\n",
       "      <td>Martin Petrov</td>\n",
       "      <td>2012</td>\n",
       "      <td>714</td>\n",
       "      <td>martin-petrov</td>\n",
       "      <td>Bulgaria</td>\n",
       "      <td>Vratsa</td>\n",
       "      <td>Bulgaria</td>\n",
       "      <td>...</td>\n",
       "      <td>NaN</td>\n",
       "      <td>NaN</td>\n",
       "      <td>NaN</td>\n",
       "      <td>12000000.0</td>\n",
       "      <td>NaN</td>\n",
       "      <td>IFM</td>\n",
       "      <td>https://img.a.transfermarkt.technology/portrai...</td>\n",
       "      <td>https://www.transfermarkt.co.uk/martin-petrov/...</td>\n",
       "      <td>ES1</td>\n",
       "      <td>RCD Espanyol Barcelona</td>\n",
       "    </tr>\n",
       "    <tr>\n",
       "      <th>2</th>\n",
       "      <td>1323</td>\n",
       "      <td>Martin</td>\n",
       "      <td>Amedick</td>\n",
       "      <td>Martin Amedick</td>\n",
       "      <td>2012</td>\n",
       "      <td>24</td>\n",
       "      <td>martin-amedick</td>\n",
       "      <td>Germany</td>\n",
       "      <td>Paderborn</td>\n",
       "      <td>Germany</td>\n",
       "      <td>...</td>\n",
       "      <td>NaN</td>\n",
       "      <td>NaN</td>\n",
       "      <td>NaN</td>\n",
       "      <td>2750000.0</td>\n",
       "      <td>NaN</td>\n",
       "      <td>NaN</td>\n",
       "      <td>https://img.a.transfermarkt.technology/portrai...</td>\n",
       "      <td>https://www.transfermarkt.co.uk/martin-amedick...</td>\n",
       "      <td>L1</td>\n",
       "      <td>Eintracht Frankfurt</td>\n",
       "    </tr>\n",
       "    <tr>\n",
       "      <th>3</th>\n",
       "      <td>3195</td>\n",
       "      <td>Jermaine</td>\n",
       "      <td>Pennant</td>\n",
       "      <td>Jermaine Pennant</td>\n",
       "      <td>2013</td>\n",
       "      <td>512</td>\n",
       "      <td>jermaine-pennant</td>\n",
       "      <td>England</td>\n",
       "      <td>Nottingham</td>\n",
       "      <td>England</td>\n",
       "      <td>...</td>\n",
       "      <td>right</td>\n",
       "      <td>173.0</td>\n",
       "      <td>NaN</td>\n",
       "      <td>10500000.0</td>\n",
       "      <td>NaN</td>\n",
       "      <td>Andrew Sky</td>\n",
       "      <td>https://img.a.transfermarkt.technology/portrai...</td>\n",
       "      <td>https://www.transfermarkt.co.uk/jermaine-penna...</td>\n",
       "      <td>GB1</td>\n",
       "      <td>Stoke City</td>\n",
       "    </tr>\n",
       "    <tr>\n",
       "      <th>4</th>\n",
       "      <td>3259</td>\n",
       "      <td>Damien</td>\n",
       "      <td>Duff</td>\n",
       "      <td>Damien Duff</td>\n",
       "      <td>2013</td>\n",
       "      <td>931</td>\n",
       "      <td>damien-duff</td>\n",
       "      <td>Ireland</td>\n",
       "      <td>Ballyboden</td>\n",
       "      <td>Ireland</td>\n",
       "      <td>...</td>\n",
       "      <td>left</td>\n",
       "      <td>177.0</td>\n",
       "      <td>NaN</td>\n",
       "      <td>17000000.0</td>\n",
       "      <td>NaN</td>\n",
       "      <td>NaN</td>\n",
       "      <td>https://img.a.transfermarkt.technology/portrai...</td>\n",
       "      <td>https://www.transfermarkt.co.uk/damien-duff/pr...</td>\n",
       "      <td>GB1</td>\n",
       "      <td>Fulham FC</td>\n",
       "    </tr>\n",
       "  </tbody>\n",
       "</table>\n",
       "<p>5 rows × 23 columns</p>\n",
       "</div>"
      ],
      "text/plain": [
       "   player_id first_name   last_name              name  last_season  \\\n",
       "0        598       Timo  Hildebrand   Timo Hildebrand         2014   \n",
       "1        670     Martin      Petrov     Martin Petrov         2012   \n",
       "2       1323     Martin     Amedick    Martin Amedick         2012   \n",
       "3       3195   Jermaine     Pennant  Jermaine Pennant         2013   \n",
       "4       3259     Damien        Duff       Damien Duff         2013   \n",
       "\n",
       "   current_club_id       player_code country_of_birth city_of_birth  \\\n",
       "0               24   timo-hildebrand          Germany         Worms   \n",
       "1              714     martin-petrov         Bulgaria        Vratsa   \n",
       "2               24    martin-amedick          Germany     Paderborn   \n",
       "3              512  jermaine-pennant          England    Nottingham   \n",
       "4              931       damien-duff          Ireland    Ballyboden   \n",
       "\n",
       "  country_of_citizenship  ...   foot height_in_cm market_value_in_eur  \\\n",
       "0                Germany  ...    NaN          NaN                 NaN   \n",
       "1               Bulgaria  ...    NaN          NaN                 NaN   \n",
       "2                Germany  ...    NaN          NaN                 NaN   \n",
       "3                England  ...  right        173.0                 NaN   \n",
       "4                Ireland  ...   left        177.0                 NaN   \n",
       "\n",
       "  highest_market_value_in_eur  contract_expiration_date  agent_name  \\\n",
       "0                  10000000.0                       NaN         NaN   \n",
       "1                  12000000.0                       NaN         IFM   \n",
       "2                   2750000.0                       NaN         NaN   \n",
       "3                  10500000.0                       NaN  Andrew Sky   \n",
       "4                  17000000.0                       NaN         NaN   \n",
       "\n",
       "                                           image_url  \\\n",
       "0  https://img.a.transfermarkt.technology/portrai...   \n",
       "1  https://img.a.transfermarkt.technology/portrai...   \n",
       "2  https://img.a.transfermarkt.technology/portrai...   \n",
       "3  https://img.a.transfermarkt.technology/portrai...   \n",
       "4  https://img.a.transfermarkt.technology/portrai...   \n",
       "\n",
       "                                                 url  \\\n",
       "0  https://www.transfermarkt.co.uk/timo-hildebran...   \n",
       "1  https://www.transfermarkt.co.uk/martin-petrov/...   \n",
       "2  https://www.transfermarkt.co.uk/martin-amedick...   \n",
       "3  https://www.transfermarkt.co.uk/jermaine-penna...   \n",
       "4  https://www.transfermarkt.co.uk/damien-duff/pr...   \n",
       "\n",
       "  current_club_domestic_competition_id       current_club_name  \n",
       "0                                   L1     Eintracht Frankfurt  \n",
       "1                                  ES1  RCD Espanyol Barcelona  \n",
       "2                                   L1     Eintracht Frankfurt  \n",
       "3                                  GB1              Stoke City  \n",
       "4                                  GB1               Fulham FC  \n",
       "\n",
       "[5 rows x 23 columns]"
      ]
     },
     "execution_count": 3,
     "metadata": {},
     "output_type": "execute_result"
    }
   ],
   "source": [
    "players.head()"
   ]
  },
  {
   "cell_type": "code",
   "execution_count": 4,
   "id": "d69b81bef151446a",
   "metadata": {
    "ExecuteTime": {
     "end_time": "2023-12-07T14:31:47.409037Z",
     "start_time": "2023-12-07T14:31:47.403266Z"
    },
    "collapsed": false
   },
   "outputs": [
    {
     "name": "stdout",
     "output_type": "stream",
     "text": [
      "<class 'pandas.core.frame.DataFrame'>\n",
      "RangeIndex: 14979 entries, 0 to 14978\n",
      "Data columns (total 20 columns):\n",
      " #   Column                       Non-Null Count  Dtype  \n",
      "---  ------                       --------------  -----  \n",
      " 0   player_id                    14979 non-null  int64  \n",
      " 1   first_name                   14011 non-null  object \n",
      " 2   last_name                    14979 non-null  object \n",
      " 3   last_season                  14979 non-null  int64  \n",
      " 4   current_club_id              14979 non-null  int64  \n",
      " 5   player_code                  14979 non-null  object \n",
      " 6   country_of_birth             13711 non-null  object \n",
      " 7   city_of_birth                13941 non-null  object \n",
      " 8   country_of_citizenship       14726 non-null  object \n",
      " 9   date_of_birth                14956 non-null  object \n",
      " 10  sub_position                 14891 non-null  object \n",
      " 11  position                     14979 non-null  object \n",
      " 12  foot                         13834 non-null  object \n",
      " 13  height_in_cm                 13997 non-null  float64\n",
      " 14  market_value_in_eur          9463 non-null   float64\n",
      " 15  highest_market_value_in_eur  14382 non-null  float64\n",
      " 16  contract_expiration_date     9188 non-null   object \n",
      " 17  agent_name                   7318 non-null   object \n",
      " 18  image_url                    14979 non-null  object \n",
      " 19  url                          14979 non-null  object \n",
      "dtypes: float64(3), int64(3), object(14)\n",
      "memory usage: 2.3+ MB\n"
     ]
    }
   ],
   "source": [
    "players.info()"
   ]
  },
  {
   "cell_type": "markdown",
   "id": "918a1bbfb8076afd",
   "metadata": {
    "collapsed": false
   },
   "source": [
    "name,current_club_domestic_competition_id and current_club_name are useless"
   ]
  },
  {
   "cell_type": "code",
   "execution_count": 4,
   "id": "97c5c79acce79337",
   "metadata": {
    "ExecuteTime": {
     "end_time": "2023-12-07T14:29:34.337234Z",
     "start_time": "2023-12-07T14:29:34.311112Z"
    },
    "collapsed": false
   },
   "outputs": [],
   "source": [
    "players.drop('name', axis=1, inplace=True)\n"
   ]
  },
  {
   "cell_type": "code",
   "execution_count": 5,
   "id": "f271d9022a252fba",
   "metadata": {
    "ExecuteTime": {
     "end_time": "2023-12-07T14:29:45.609122Z",
     "start_time": "2023-12-07T14:29:45.592177Z"
    },
    "collapsed": false
   },
   "outputs": [],
   "source": [
    "players.drop('current_club_domestic_competition_id', axis=1, inplace=True)"
   ]
  },
  {
   "cell_type": "code",
   "execution_count": 6,
   "id": "22b79915089dd5c1",
   "metadata": {
    "ExecuteTime": {
     "end_time": "2023-12-07T14:29:46.948059Z",
     "start_time": "2023-12-07T14:29:46.935850Z"
    },
    "collapsed": false
   },
   "outputs": [],
   "source": [
    "players.drop('current_club_name', axis=1, inplace=True)"
   ]
  },
  {
   "cell_type": "code",
   "execution_count": 7,
   "id": "3f956909ae8e793b",
   "metadata": {
    "ExecuteTime": {
     "end_time": "2023-12-07T14:31:31.462498Z",
     "start_time": "2023-12-07T14:31:31.249647Z"
    },
    "collapsed": false
   },
   "outputs": [],
   "source": [
    "players.to_csv(f'{DATA_FOLDER}/new_players.csv', index=False)"
   ]
  },
  {
   "cell_type": "code",
   "execution_count": 18,
   "id": "2c36d035b11f6bec",
   "metadata": {
    "ExecuteTime": {
     "end_time": "2023-12-07T14:40:57.876757Z",
     "start_time": "2023-12-07T14:40:57.846449Z"
    },
    "collapsed": false
   },
   "outputs": [
    {
     "name": "stdout",
     "output_type": "stream",
     "text": [
      "Index(['first_name', 'country_of_birth', 'city_of_birth',\n",
      "       'country_of_citizenship', 'date_of_birth', 'sub_position', 'foot',\n",
      "       'height_in_cm', 'market_value_in_eur', 'highest_market_value_in_eur',\n",
      "       'contract_expiration_date', 'agent_name'],\n",
      "      dtype='object')\n"
     ]
    }
   ],
   "source": [
    "null_columns = players.columns[players.isnull().any()]\n",
    "print(null_columns)"
   ]
  },
  {
   "cell_type": "code",
   "execution_count": 23,
   "metadata": {},
   "outputs": [],
   "source": []
  },
  {
   "cell_type": "code",
   "execution_count": 20,
   "id": "c4d9bef566525c3a",
   "metadata": {
    "collapsed": false
   },
   "outputs": [],
   "source": [
    "players[\"first_name\"] = players[\"first_name\"].astype(str)\n"
   ]
  },
  {
   "cell_type": "code",
   "execution_count": 8,
   "metadata": {},
   "outputs": [],
   "source": [
    "\n",
    "\n",
    "import csv\n",
    "\n",
    "\n",
    "# Read CSV file into DataFrame\n",
    "players = read_csv('new_players.csv')\n",
    "\n",
    "# Add double quotes around 'first_name' column\n",
    "# players['first_name'] = players['first_name'].map(lambda x: f'\"{x}\"')\n",
    "\n",
    "# Save DataFrame to a new CSV file\n",
    "players.to_csv(f'{DATA_FOLDER}/new_players.csv', index=False, quoting=csv.QUOTE_NONNUMERIC, quotechar='\"')\n",
    "\n"
   ]
  },
  {
   "cell_type": "code",
   "execution_count": 9,
   "metadata": {},
   "outputs": [
    {
     "data": {
      "text/plain": [
       "30302"
      ]
     },
     "execution_count": 9,
     "metadata": {},
     "output_type": "execute_result"
    }
   ],
   "source": [
    "len(set(players[\"player_id\"]))"
   ]
  },
  {
   "cell_type": "code",
   "execution_count": null,
   "metadata": {},
   "outputs": [],
   "source": []
  }
 ],
 "metadata": {
  "kernelspec": {
   "display_name": "Python 3",
   "language": "python",
   "name": "python3"
  },
  "language_info": {
   "codemirror_mode": {
    "name": "ipython",
    "version": 3
   },
   "file_extension": ".py",
   "mimetype": "text/x-python",
   "name": "python",
   "nbconvert_exporter": "python",
   "pygments_lexer": "ipython3",
   "version": "3.11.6"
  }
 },
 "nbformat": 4,
 "nbformat_minor": 5
}
