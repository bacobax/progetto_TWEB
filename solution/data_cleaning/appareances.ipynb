{
 "cells": [
  {
   "cell_type": "code",
   "execution_count": 49,
   "id": "initial_id",
   "metadata": {
    "collapsed": true,
    "ExecuteTime": {
     "end_time": "2023-12-07T09:11:45.599678Z",
     "start_time": "2023-12-07T09:11:45.568857Z"
    }
   },
   "outputs": [],
   "source": [
    "from constants import read_csv"
   ]
  },
  {
   "cell_type": "code",
   "execution_count": 50,
   "outputs": [],
   "source": [
    "appareances = read_csv(\"appearances.csv\")\n",
    "players = read_csv(\"players.csv\")"
   ],
   "metadata": {
    "collapsed": false,
    "ExecuteTime": {
     "end_time": "2023-12-07T09:11:47.158157Z",
     "start_time": "2023-12-07T09:11:45.573354Z"
    }
   },
   "id": "4067f080c27cee10"
  },
  {
   "cell_type": "code",
   "execution_count": 51,
   "outputs": [
    {
     "name": "stdout",
     "output_type": "stream",
     "text": [
      "<class 'pandas.core.frame.DataFrame'>\n",
      "RangeIndex: 1507351 entries, 0 to 1507350\n",
      "Data columns (total 13 columns):\n",
      " #   Column                  Non-Null Count    Dtype \n",
      "---  ------                  --------------    ----- \n",
      " 0   appearance_id           1507351 non-null  object\n",
      " 1   game_id                 1507351 non-null  int64 \n",
      " 2   player_id               1507351 non-null  int64 \n",
      " 3   player_club_id          1507351 non-null  int64 \n",
      " 4   player_current_club_id  1507351 non-null  int64 \n",
      " 5   date                    1507351 non-null  object\n",
      " 6   player_name             1507027 non-null  object\n",
      " 7   competition_id          1507351 non-null  object\n",
      " 8   yellow_cards            1507351 non-null  int64 \n",
      " 9   red_cards               1507351 non-null  int64 \n",
      " 10  goals                   1507351 non-null  int64 \n",
      " 11  assists                 1507351 non-null  int64 \n",
      " 12  minutes_played          1507351 non-null  int64 \n",
      "dtypes: int64(9), object(4)\n",
      "memory usage: 149.5+ MB\n"
     ]
    }
   ],
   "source": [
    "appareances.info()"
   ],
   "metadata": {
    "collapsed": false,
    "ExecuteTime": {
     "end_time": "2023-12-07T09:11:47.290577Z",
     "start_time": "2023-12-07T09:11:47.158431Z"
    }
   },
   "id": "25709279ac527ce4"
  },
  {
   "cell_type": "code",
   "execution_count": 52,
   "outputs": [
    {
     "data": {
      "text/plain": "    appearance_id  game_id  player_id  player_club_id  player_current_club_id  \\\n0   2231978_38004  2231978      38004             853                     235   \n1   2233748_79232  2233748      79232            8841                    2698   \n2   2234413_42792  2234413      42792            6251                     465   \n3   2234418_73333  2234418      73333            1274                    6646   \n4  2234421_122011  2234421     122011             195                    3008   \n\n         date       player_name competition_id  yellow_cards  red_cards  \\\n0  2012-07-03  Aurélien Joachim            CLQ             0          0   \n1  2012-07-05    Ruslan Abyshov            ELQ             0          0   \n2  2012-07-05       Sander Puri            ELQ             0          0   \n3  2012-07-05   Vegar Hedenstad            ELQ             0          0   \n4  2012-07-05  Markus Henriksen            ELQ             0          0   \n\n   goals  assists  minutes_played  \n0      2        0              90  \n1      0        0              90  \n2      0        0              45  \n3      0        0              90  \n4      0        1              90  ",
      "text/html": "<div>\n<style scoped>\n    .dataframe tbody tr th:only-of-type {\n        vertical-align: middle;\n    }\n\n    .dataframe tbody tr th {\n        vertical-align: top;\n    }\n\n    .dataframe thead th {\n        text-align: right;\n    }\n</style>\n<table border=\"1\" class=\"dataframe\">\n  <thead>\n    <tr style=\"text-align: right;\">\n      <th></th>\n      <th>appearance_id</th>\n      <th>game_id</th>\n      <th>player_id</th>\n      <th>player_club_id</th>\n      <th>player_current_club_id</th>\n      <th>date</th>\n      <th>player_name</th>\n      <th>competition_id</th>\n      <th>yellow_cards</th>\n      <th>red_cards</th>\n      <th>goals</th>\n      <th>assists</th>\n      <th>minutes_played</th>\n    </tr>\n  </thead>\n  <tbody>\n    <tr>\n      <th>0</th>\n      <td>2231978_38004</td>\n      <td>2231978</td>\n      <td>38004</td>\n      <td>853</td>\n      <td>235</td>\n      <td>2012-07-03</td>\n      <td>Aurélien Joachim</td>\n      <td>CLQ</td>\n      <td>0</td>\n      <td>0</td>\n      <td>2</td>\n      <td>0</td>\n      <td>90</td>\n    </tr>\n    <tr>\n      <th>1</th>\n      <td>2233748_79232</td>\n      <td>2233748</td>\n      <td>79232</td>\n      <td>8841</td>\n      <td>2698</td>\n      <td>2012-07-05</td>\n      <td>Ruslan Abyshov</td>\n      <td>ELQ</td>\n      <td>0</td>\n      <td>0</td>\n      <td>0</td>\n      <td>0</td>\n      <td>90</td>\n    </tr>\n    <tr>\n      <th>2</th>\n      <td>2234413_42792</td>\n      <td>2234413</td>\n      <td>42792</td>\n      <td>6251</td>\n      <td>465</td>\n      <td>2012-07-05</td>\n      <td>Sander Puri</td>\n      <td>ELQ</td>\n      <td>0</td>\n      <td>0</td>\n      <td>0</td>\n      <td>0</td>\n      <td>45</td>\n    </tr>\n    <tr>\n      <th>3</th>\n      <td>2234418_73333</td>\n      <td>2234418</td>\n      <td>73333</td>\n      <td>1274</td>\n      <td>6646</td>\n      <td>2012-07-05</td>\n      <td>Vegar Hedenstad</td>\n      <td>ELQ</td>\n      <td>0</td>\n      <td>0</td>\n      <td>0</td>\n      <td>0</td>\n      <td>90</td>\n    </tr>\n    <tr>\n      <th>4</th>\n      <td>2234421_122011</td>\n      <td>2234421</td>\n      <td>122011</td>\n      <td>195</td>\n      <td>3008</td>\n      <td>2012-07-05</td>\n      <td>Markus Henriksen</td>\n      <td>ELQ</td>\n      <td>0</td>\n      <td>0</td>\n      <td>0</td>\n      <td>1</td>\n      <td>90</td>\n    </tr>\n  </tbody>\n</table>\n</div>"
     },
     "execution_count": 52,
     "metadata": {},
     "output_type": "execute_result"
    }
   ],
   "source": [
    "appareances.head()"
   ],
   "metadata": {
    "collapsed": false,
    "ExecuteTime": {
     "end_time": "2023-12-07T09:11:47.307463Z",
     "start_time": "2023-12-07T09:11:47.291689Z"
    }
   },
   "id": "6dc5f02a18a5cb6c"
  },
  {
   "cell_type": "markdown",
   "source": [
    "# About `player_current_club_id` field...\n",
    "I cannot understand what's the difference between this field and player_club_id viewing only this dataset, so i decided to join with `players` dataset to confirm my intuition that `player_club_id` refer to the club the player was in when appereance was recorded and `player_current_club_id` refers to the same `club_id` that appear in the `players` dataset\n"
   ],
   "metadata": {
    "collapsed": false
   },
   "id": "e5e214a08f1175f6"
  },
  {
   "cell_type": "code",
   "execution_count": 53,
   "outputs": [
    {
     "name": "stdout",
     "output_type": "stream",
     "text": [
      "<class 'pandas.core.frame.DataFrame'>\n",
      "RangeIndex: 30302 entries, 0 to 30301\n",
      "Data columns (total 23 columns):\n",
      " #   Column                                Non-Null Count  Dtype  \n",
      "---  ------                                --------------  -----  \n",
      " 0   player_id                             30302 non-null  int64  \n",
      " 1   first_name                            28337 non-null  object \n",
      " 2   last_name                             30302 non-null  object \n",
      " 3   name                                  30302 non-null  object \n",
      " 4   last_season                           30302 non-null  int64  \n",
      " 5   current_club_id                       30302 non-null  int64  \n",
      " 6   player_code                           30302 non-null  object \n",
      " 7   country_of_birth                      27613 non-null  object \n",
      " 8   city_of_birth                         28099 non-null  object \n",
      " 9   country_of_citizenship                29759 non-null  object \n",
      " 10  date_of_birth                         30255 non-null  object \n",
      " 11  sub_position                          30130 non-null  object \n",
      " 12  position                              30302 non-null  object \n",
      " 13  foot                                  27913 non-null  object \n",
      " 14  height_in_cm                          28204 non-null  float64\n",
      " 15  market_value_in_eur                   19383 non-null  float64\n",
      " 16  highest_market_value_in_eur           28981 non-null  float64\n",
      " 17  contract_expiration_date              18835 non-null  object \n",
      " 18  agent_name                            14941 non-null  object \n",
      " 19  image_url                             30302 non-null  object \n",
      " 20  url                                   30302 non-null  object \n",
      " 21  current_club_domestic_competition_id  30302 non-null  object \n",
      " 22  current_club_name                     30302 non-null  object \n",
      "dtypes: float64(3), int64(3), object(17)\n",
      "memory usage: 5.3+ MB\n"
     ]
    }
   ],
   "source": [
    "players.info()"
   ],
   "metadata": {
    "collapsed": false,
    "ExecuteTime": {
     "end_time": "2023-12-07T09:11:47.341327Z",
     "start_time": "2023-12-07T09:11:47.306357Z"
    }
   },
   "id": "d73c024cbb7c785b"
  },
  {
   "cell_type": "code",
   "execution_count": 54,
   "outputs": [
    {
     "data": {
      "text/plain": "           appearance_id  game_id  player_id  player_club_id  \\\n0          2231978_38004  2231978      38004             853   \n1          2231980_38004  2231980      38004             853   \n2          2244350_38004  2244350      38004             853   \n3          2244351_38004  2244351      38004             853   \n4          2246629_38004  2246629      38004             853   \n...                  ...      ...        ...             ...   \n1506990   4222126_555166  4222126     555166             232   \n1506991  4094688_1111912  4094688    1111912            1421   \n1506992   4098878_580434  4098878     580434            2727   \n1506993   4172110_624258  4172110     624258              31   \n1506994   4172154_696027  4172154     696027              15   \n\n         player_current_club_id        date       player_name competition_id  \\\n0                           235  2012-07-03  Aurélien Joachim            CLQ   \n1                           235  2012-07-10  Aurélien Joachim            CLQ   \n2                           235  2012-07-17  Aurélien Joachim            CLQ   \n3                           235  2012-07-24  Aurélien Joachim            CLQ   \n4                           235  2012-08-01  Aurélien Joachim            CLQ   \n...                         ...         ...               ...            ...   \n1506990                     232  2023-11-29     Maksim Laykin            RUP   \n1506991                    1421  2023-11-26      Adama Bojang            FR1   \n1506992                    2727  2023-11-26       Tobe Leysen            BE1   \n1506993                      31  2023-11-30     Conor Bradley             EL   \n1506994                      15  2023-11-30      Ayman Aourir             EL   \n\n         yellow_cards  red_cards  ...   foot  height_in_cm  \\\n0                   0          0  ...   left         185.0   \n1                   0          0  ...   left         185.0   \n2                   0          0  ...   left         185.0   \n3                   0          0  ...   left         185.0   \n4                   0          0  ...   left         185.0   \n...               ...        ...  ...    ...           ...   \n1506990             0          0  ...  right         179.0   \n1506991             0          0  ...  right         191.0   \n1506992             0          0  ...   left         189.0   \n1506993             0          0  ...  right         181.0   \n1506994             0          0  ...   both         172.0   \n\n         market_value_in_eur highest_market_value_in_eur  \\\n0                        NaN                    600000.0   \n1                        NaN                    600000.0   \n2                        NaN                    600000.0   \n3                        NaN                    600000.0   \n4                        NaN                    600000.0   \n...                      ...                         ...   \n1506990             500000.0                    500000.0   \n1506991             500000.0                    500000.0   \n1506992             300000.0                    400000.0   \n1506993            1500000.0                   1500000.0   \n1506994                  NaN                         NaN   \n\n        contract_expiration_date           agent_name  \\\n0                            NaN      ER Sport Agency   \n1                            NaN      ER Sport Agency   \n2                            NaN      ER Sport Agency   \n3                            NaN      ER Sport Agency   \n4                            NaN      ER Sport Agency   \n...                          ...                  ...   \n1506990      2026-06-30 00:00:00                  NaN   \n1506991      2028-06-30 00:00:00  SPOCS Global Sports   \n1506992      2027-06-30 00:00:00     PROFI-MANAGEMENT   \n1506993      2024-06-30 00:00:00                  NaN   \n1506994      2025-06-30 00:00:00      Bektas Demirtas   \n\n                                                 image_url  \\\n0        https://img.a.transfermarkt.technology/portrai...   \n1        https://img.a.transfermarkt.technology/portrai...   \n2        https://img.a.transfermarkt.technology/portrai...   \n3        https://img.a.transfermarkt.technology/portrai...   \n4        https://img.a.transfermarkt.technology/portrai...   \n...                                                    ...   \n1506990  https://img.a.transfermarkt.technology/portrai...   \n1506991  https://img.a.transfermarkt.technology/portrai...   \n1506992  https://img.a.transfermarkt.technology/portrai...   \n1506993  https://img.a.transfermarkt.technology/portrai...   \n1506994  https://img.a.transfermarkt.technology/portrai...   \n\n                                                       url  \\\n0        https://www.transfermarkt.co.uk/aurelien-joach...   \n1        https://www.transfermarkt.co.uk/aurelien-joach...   \n2        https://www.transfermarkt.co.uk/aurelien-joach...   \n3        https://www.transfermarkt.co.uk/aurelien-joach...   \n4        https://www.transfermarkt.co.uk/aurelien-joach...   \n...                                                    ...   \n1506990  https://www.transfermarkt.co.uk/maksim-laykin/...   \n1506991  https://www.transfermarkt.co.uk/adama-bojang/p...   \n1506992  https://www.transfermarkt.co.uk/tobe-leysen/pr...   \n1506993  https://www.transfermarkt.co.uk/conor-bradley/...   \n1506994  https://www.transfermarkt.co.uk/ayman-aourir/p...   \n\n        current_club_domestic_competition_id    current_club_name  \n0                                        NL1         RKC Waalwijk  \n1                                        NL1         RKC Waalwijk  \n2                                        NL1         RKC Waalwijk  \n3                                        NL1         RKC Waalwijk  \n4                                        NL1         RKC Waalwijk  \n...                                      ...                  ...  \n1506990                                  RU1       Spartak Moscow  \n1506991                                  FR1          Stade Reims  \n1506992                                  BE1  Oud-Heverlee Leuven  \n1506993                                  GB1         Liverpool FC  \n1506994                                   L1  Bayer 04 Leverkusen  \n\n[1506995 rows x 35 columns]",
      "text/html": "<div>\n<style scoped>\n    .dataframe tbody tr th:only-of-type {\n        vertical-align: middle;\n    }\n\n    .dataframe tbody tr th {\n        vertical-align: top;\n    }\n\n    .dataframe thead th {\n        text-align: right;\n    }\n</style>\n<table border=\"1\" class=\"dataframe\">\n  <thead>\n    <tr style=\"text-align: right;\">\n      <th></th>\n      <th>appearance_id</th>\n      <th>game_id</th>\n      <th>player_id</th>\n      <th>player_club_id</th>\n      <th>player_current_club_id</th>\n      <th>date</th>\n      <th>player_name</th>\n      <th>competition_id</th>\n      <th>yellow_cards</th>\n      <th>red_cards</th>\n      <th>...</th>\n      <th>foot</th>\n      <th>height_in_cm</th>\n      <th>market_value_in_eur</th>\n      <th>highest_market_value_in_eur</th>\n      <th>contract_expiration_date</th>\n      <th>agent_name</th>\n      <th>image_url</th>\n      <th>url</th>\n      <th>current_club_domestic_competition_id</th>\n      <th>current_club_name</th>\n    </tr>\n  </thead>\n  <tbody>\n    <tr>\n      <th>0</th>\n      <td>2231978_38004</td>\n      <td>2231978</td>\n      <td>38004</td>\n      <td>853</td>\n      <td>235</td>\n      <td>2012-07-03</td>\n      <td>Aurélien Joachim</td>\n      <td>CLQ</td>\n      <td>0</td>\n      <td>0</td>\n      <td>...</td>\n      <td>left</td>\n      <td>185.0</td>\n      <td>NaN</td>\n      <td>600000.0</td>\n      <td>NaN</td>\n      <td>ER Sport Agency</td>\n      <td>https://img.a.transfermarkt.technology/portrai...</td>\n      <td>https://www.transfermarkt.co.uk/aurelien-joach...</td>\n      <td>NL1</td>\n      <td>RKC Waalwijk</td>\n    </tr>\n    <tr>\n      <th>1</th>\n      <td>2231980_38004</td>\n      <td>2231980</td>\n      <td>38004</td>\n      <td>853</td>\n      <td>235</td>\n      <td>2012-07-10</td>\n      <td>Aurélien Joachim</td>\n      <td>CLQ</td>\n      <td>0</td>\n      <td>0</td>\n      <td>...</td>\n      <td>left</td>\n      <td>185.0</td>\n      <td>NaN</td>\n      <td>600000.0</td>\n      <td>NaN</td>\n      <td>ER Sport Agency</td>\n      <td>https://img.a.transfermarkt.technology/portrai...</td>\n      <td>https://www.transfermarkt.co.uk/aurelien-joach...</td>\n      <td>NL1</td>\n      <td>RKC Waalwijk</td>\n    </tr>\n    <tr>\n      <th>2</th>\n      <td>2244350_38004</td>\n      <td>2244350</td>\n      <td>38004</td>\n      <td>853</td>\n      <td>235</td>\n      <td>2012-07-17</td>\n      <td>Aurélien Joachim</td>\n      <td>CLQ</td>\n      <td>0</td>\n      <td>0</td>\n      <td>...</td>\n      <td>left</td>\n      <td>185.0</td>\n      <td>NaN</td>\n      <td>600000.0</td>\n      <td>NaN</td>\n      <td>ER Sport Agency</td>\n      <td>https://img.a.transfermarkt.technology/portrai...</td>\n      <td>https://www.transfermarkt.co.uk/aurelien-joach...</td>\n      <td>NL1</td>\n      <td>RKC Waalwijk</td>\n    </tr>\n    <tr>\n      <th>3</th>\n      <td>2244351_38004</td>\n      <td>2244351</td>\n      <td>38004</td>\n      <td>853</td>\n      <td>235</td>\n      <td>2012-07-24</td>\n      <td>Aurélien Joachim</td>\n      <td>CLQ</td>\n      <td>0</td>\n      <td>0</td>\n      <td>...</td>\n      <td>left</td>\n      <td>185.0</td>\n      <td>NaN</td>\n      <td>600000.0</td>\n      <td>NaN</td>\n      <td>ER Sport Agency</td>\n      <td>https://img.a.transfermarkt.technology/portrai...</td>\n      <td>https://www.transfermarkt.co.uk/aurelien-joach...</td>\n      <td>NL1</td>\n      <td>RKC Waalwijk</td>\n    </tr>\n    <tr>\n      <th>4</th>\n      <td>2246629_38004</td>\n      <td>2246629</td>\n      <td>38004</td>\n      <td>853</td>\n      <td>235</td>\n      <td>2012-08-01</td>\n      <td>Aurélien Joachim</td>\n      <td>CLQ</td>\n      <td>0</td>\n      <td>0</td>\n      <td>...</td>\n      <td>left</td>\n      <td>185.0</td>\n      <td>NaN</td>\n      <td>600000.0</td>\n      <td>NaN</td>\n      <td>ER Sport Agency</td>\n      <td>https://img.a.transfermarkt.technology/portrai...</td>\n      <td>https://www.transfermarkt.co.uk/aurelien-joach...</td>\n      <td>NL1</td>\n      <td>RKC Waalwijk</td>\n    </tr>\n    <tr>\n      <th>...</th>\n      <td>...</td>\n      <td>...</td>\n      <td>...</td>\n      <td>...</td>\n      <td>...</td>\n      <td>...</td>\n      <td>...</td>\n      <td>...</td>\n      <td>...</td>\n      <td>...</td>\n      <td>...</td>\n      <td>...</td>\n      <td>...</td>\n      <td>...</td>\n      <td>...</td>\n      <td>...</td>\n      <td>...</td>\n      <td>...</td>\n      <td>...</td>\n      <td>...</td>\n      <td>...</td>\n    </tr>\n    <tr>\n      <th>1506990</th>\n      <td>4222126_555166</td>\n      <td>4222126</td>\n      <td>555166</td>\n      <td>232</td>\n      <td>232</td>\n      <td>2023-11-29</td>\n      <td>Maksim Laykin</td>\n      <td>RUP</td>\n      <td>0</td>\n      <td>0</td>\n      <td>...</td>\n      <td>right</td>\n      <td>179.0</td>\n      <td>500000.0</td>\n      <td>500000.0</td>\n      <td>2026-06-30 00:00:00</td>\n      <td>NaN</td>\n      <td>https://img.a.transfermarkt.technology/portrai...</td>\n      <td>https://www.transfermarkt.co.uk/maksim-laykin/...</td>\n      <td>RU1</td>\n      <td>Spartak Moscow</td>\n    </tr>\n    <tr>\n      <th>1506991</th>\n      <td>4094688_1111912</td>\n      <td>4094688</td>\n      <td>1111912</td>\n      <td>1421</td>\n      <td>1421</td>\n      <td>2023-11-26</td>\n      <td>Adama Bojang</td>\n      <td>FR1</td>\n      <td>0</td>\n      <td>0</td>\n      <td>...</td>\n      <td>right</td>\n      <td>191.0</td>\n      <td>500000.0</td>\n      <td>500000.0</td>\n      <td>2028-06-30 00:00:00</td>\n      <td>SPOCS Global Sports</td>\n      <td>https://img.a.transfermarkt.technology/portrai...</td>\n      <td>https://www.transfermarkt.co.uk/adama-bojang/p...</td>\n      <td>FR1</td>\n      <td>Stade Reims</td>\n    </tr>\n    <tr>\n      <th>1506992</th>\n      <td>4098878_580434</td>\n      <td>4098878</td>\n      <td>580434</td>\n      <td>2727</td>\n      <td>2727</td>\n      <td>2023-11-26</td>\n      <td>Tobe Leysen</td>\n      <td>BE1</td>\n      <td>0</td>\n      <td>0</td>\n      <td>...</td>\n      <td>left</td>\n      <td>189.0</td>\n      <td>300000.0</td>\n      <td>400000.0</td>\n      <td>2027-06-30 00:00:00</td>\n      <td>PROFI-MANAGEMENT</td>\n      <td>https://img.a.transfermarkt.technology/portrai...</td>\n      <td>https://www.transfermarkt.co.uk/tobe-leysen/pr...</td>\n      <td>BE1</td>\n      <td>Oud-Heverlee Leuven</td>\n    </tr>\n    <tr>\n      <th>1506993</th>\n      <td>4172110_624258</td>\n      <td>4172110</td>\n      <td>624258</td>\n      <td>31</td>\n      <td>31</td>\n      <td>2023-11-30</td>\n      <td>Conor Bradley</td>\n      <td>EL</td>\n      <td>0</td>\n      <td>0</td>\n      <td>...</td>\n      <td>right</td>\n      <td>181.0</td>\n      <td>1500000.0</td>\n      <td>1500000.0</td>\n      <td>2024-06-30 00:00:00</td>\n      <td>NaN</td>\n      <td>https://img.a.transfermarkt.technology/portrai...</td>\n      <td>https://www.transfermarkt.co.uk/conor-bradley/...</td>\n      <td>GB1</td>\n      <td>Liverpool FC</td>\n    </tr>\n    <tr>\n      <th>1506994</th>\n      <td>4172154_696027</td>\n      <td>4172154</td>\n      <td>696027</td>\n      <td>15</td>\n      <td>15</td>\n      <td>2023-11-30</td>\n      <td>Ayman Aourir</td>\n      <td>EL</td>\n      <td>0</td>\n      <td>0</td>\n      <td>...</td>\n      <td>both</td>\n      <td>172.0</td>\n      <td>NaN</td>\n      <td>NaN</td>\n      <td>2025-06-30 00:00:00</td>\n      <td>Bektas Demirtas</td>\n      <td>https://img.a.transfermarkt.technology/portrai...</td>\n      <td>https://www.transfermarkt.co.uk/ayman-aourir/p...</td>\n      <td>L1</td>\n      <td>Bayer 04 Leverkusen</td>\n    </tr>\n  </tbody>\n</table>\n<p>1506995 rows × 35 columns</p>\n</div>"
     },
     "execution_count": 54,
     "metadata": {},
     "output_type": "execute_result"
    }
   ],
   "source": [
    "join_table = appareances.merge(players, on=\"player_id\" , how=\"inner\")\n",
    "join_table"
   ],
   "metadata": {
    "collapsed": false,
    "ExecuteTime": {
     "end_time": "2023-12-07T09:11:48.776378Z",
     "start_time": "2023-12-07T09:11:47.312847Z"
    }
   },
   "id": "cad9c565387c60d2"
  },
  {
   "cell_type": "code",
   "execution_count": 55,
   "outputs": [
    {
     "data": {
      "text/plain": "False"
     },
     "execution_count": 55,
     "metadata": {},
     "output_type": "execute_result"
    }
   ],
   "source": [
    "query1 = join_table.query('player_club_id == current_club_id')\n",
    "len(query1) == len(join_table)\n"
   ],
   "metadata": {
    "collapsed": false,
    "ExecuteTime": {
     "end_time": "2023-12-07T09:11:49.006514Z",
     "start_time": "2023-12-07T09:11:48.776818Z"
    }
   },
   "id": "8e4cffaae68e9ba4"
  },
  {
   "cell_type": "markdown",
   "source": [
    "The `player_club_id` don't coincide to the id of the current player club found in `players` dataset, let's test using \n",
    "the `player_current_club_id` attribute"
   ],
   "metadata": {
    "collapsed": false
   },
   "id": "7acf2926e5384130"
  },
  {
   "cell_type": "code",
   "execution_count": 56,
   "outputs": [
    {
     "data": {
      "text/plain": "False"
     },
     "execution_count": 56,
     "metadata": {},
     "output_type": "execute_result"
    }
   ],
   "source": [
    "query2 = join_table.query('player_current_club_id == current_club_id')\n",
    "len(query2) == len(join_table)"
   ],
   "metadata": {
    "collapsed": false,
    "ExecuteTime": {
     "end_time": "2023-12-07T09:11:49.441290Z",
     "start_time": "2023-12-07T09:11:48.993911Z"
    }
   },
   "id": "da21338529cb7dda"
  },
  {
   "cell_type": "markdown",
   "source": [
    "The `player_current_club_id` don't coincide to the id of the current player club found in `players` dataset. So I must assume that also `player_current_club_id` have nothing to do with `current_club_id`.\n",
    "Let's print the two lengths:"
   ],
   "metadata": {
    "collapsed": false
   },
   "id": "cef16a6398391ba2"
  },
  {
   "cell_type": "code",
   "execution_count": 57,
   "outputs": [
    {
     "name": "stdout",
     "output_type": "stream",
     "text": [
      "query1: 710018\n",
      "query2: 1505779\n"
     ]
    }
   ],
   "source": [
    "print(f'query1: {len(query1)}')\n",
    "print(f'query2: {len(query2)}')\n"
   ],
   "metadata": {
    "collapsed": false,
    "ExecuteTime": {
     "end_time": "2023-12-07T09:11:49.441580Z",
     "start_time": "2023-12-07T09:11:49.435781Z"
    }
   },
   "id": "bedf865b6de5a011"
  },
  {
   "cell_type": "code",
   "execution_count": 58,
   "outputs": [
    {
     "name": "stdout",
     "output_type": "stream",
     "text": [
      "cases with player_club_id not equal to current_club_id = 796977\n",
      "cases with player_current_club_id not equal to current_club_id = 1216\n"
     ]
    }
   ],
   "source": [
    "print(f'cases with player_club_id not equal to current_club_id = {len(join_table) - len(query1)}')\n",
    "print(f'cases with player_current_club_id not equal to current_club_id = {len(join_table) - len(query2)}')"
   ],
   "metadata": {
    "collapsed": false,
    "ExecuteTime": {
     "end_time": "2023-12-07T09:11:49.441700Z",
     "start_time": "2023-12-07T09:11:49.438514Z"
    }
   },
   "id": "967b454122558609"
  },
  {
   "cell_type": "markdown",
   "source": [
    "`player_current_club_id` is \"more near\" to be equivalent to `current_club_id` (1216 exceptions) than `player_club_id` (796977 exceptions) and there also are cases in wich `current_club_id`, `player_current_club_id`, `player_club_id` are all different"
   ],
   "metadata": {
    "collapsed": false
   },
   "id": "88a0a2c9b49064d5"
  },
  {
   "cell_type": "markdown",
   "source": [
    "# Conclusion \n",
    "I will put `player_current_club_id` equal to  `current_club_id` of the player, for my application it not make any sense to have three different references to some club for the same player"
   ],
   "metadata": {
    "collapsed": false
   },
   "id": "f95ae3f409b8cc47"
  },
  {
   "cell_type": "code",
   "execution_count": 59,
   "outputs": [],
   "source": [
    "join_table['player_current_club_id'] = join_table['current_club_id']"
   ],
   "metadata": {
    "collapsed": false,
    "ExecuteTime": {
     "end_time": "2023-12-07T09:11:49.457888Z",
     "start_time": "2023-12-07T09:11:49.440710Z"
    }
   },
   "id": "ab03dd3252de2a90"
  },
  {
   "cell_type": "code",
   "execution_count": 60,
   "outputs": [],
   "source": [
    "appareances = join_table[list(appareances.keys())]"
   ],
   "metadata": {
    "collapsed": false,
    "ExecuteTime": {
     "end_time": "2023-12-07T09:11:49.524646Z",
     "start_time": "2023-12-07T09:11:49.444672Z"
    }
   },
   "id": "e2185e25f04966ab"
  },
  {
   "cell_type": "markdown",
   "source": [
    "# Verifing"
   ],
   "metadata": {
    "collapsed": false
   },
   "id": "f5f4532bb4c0fde"
  },
  {
   "cell_type": "code",
   "execution_count": 61,
   "outputs": [
    {
     "data": {
      "text/plain": "True"
     },
     "execution_count": 61,
     "metadata": {},
     "output_type": "execute_result"
    }
   ],
   "source": [
    "res = appareances.merge(players, on=\"player_id\", how=\"inner\")[['player_current_club_id' , 'current_club_id']]\n",
    "#see if for all rows \"player_current_club_id\" equals to  'current_club_id'\n",
    "res['player_current_club_id'].equals(res['current_club_id'])"
   ],
   "metadata": {
    "collapsed": false,
    "ExecuteTime": {
     "end_time": "2023-12-07T09:11:50.238913Z",
     "start_time": "2023-12-07T09:11:49.515524Z"
    }
   },
   "id": "94e5aea35f9b79e"
  },
  {
   "cell_type": "code",
   "execution_count": 62,
   "outputs": [],
   "source": [
    "appareances.to_csv('../../datasets/new_appearances.csv', index=False)"
   ],
   "metadata": {
    "collapsed": false,
    "ExecuteTime": {
     "end_time": "2023-12-07T09:11:53.637834Z",
     "start_time": "2023-12-07T09:11:50.232395Z"
    }
   },
   "id": "726f18015b6830c"
  },
  {
   "cell_type": "markdown",
   "source": [
    "# Second check"
   ],
   "metadata": {
    "collapsed": false
   },
   "id": "6f6bc02c8c72ab70"
  },
  {
   "cell_type": "code",
   "execution_count": 63,
   "outputs": [
    {
     "data": {
      "text/plain": "True"
     },
     "execution_count": 63,
     "metadata": {},
     "output_type": "execute_result"
    }
   ],
   "source": [
    "new_ds = pd.read_csv(\"../../datasets/new_appearances.csv\")\n",
    "join_tb = new_ds.merge(players, on=\"player_id\", how=\"inner\")[['player_current_club_id' , 'current_club_id']]\n",
    "join_tb['player_current_club_id'].equals(join_tb['current_club_id'])\n"
   ],
   "metadata": {
    "collapsed": false,
    "ExecuteTime": {
     "end_time": "2023-12-07T09:11:55.549799Z",
     "start_time": "2023-12-07T09:11:53.638151Z"
    }
   },
   "id": "913d6dd515c5586d"
  },
  {
   "cell_type": "code",
   "execution_count": 63,
   "outputs": [],
   "source": [],
   "metadata": {
    "collapsed": false,
    "ExecuteTime": {
     "end_time": "2023-12-07T09:11:55.550087Z",
     "start_time": "2023-12-07T09:11:55.541096Z"
    }
   },
   "id": "b99ddac30cf49a97"
  }
 ],
 "metadata": {
  "kernelspec": {
   "display_name": "Python 3",
   "language": "python",
   "name": "python3"
  },
  "language_info": {
   "codemirror_mode": {
    "name": "ipython",
    "version": 2
   },
   "file_extension": ".py",
   "mimetype": "text/x-python",
   "name": "python",
   "nbconvert_exporter": "python",
   "pygments_lexer": "ipython2",
   "version": "2.7.6"
  }
 },
 "nbformat": 4,
 "nbformat_minor": 5
}
