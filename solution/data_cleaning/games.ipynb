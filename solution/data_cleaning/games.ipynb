{
 "cells": [
  {
   "cell_type": "code",
   "execution_count": 1,
   "id": "initial_id",
   "metadata": {
    "collapsed": true,
    "ExecuteTime": {
     "end_time": "2023-12-07T09:27:03.781947Z",
     "start_time": "2023-12-07T09:27:03.296081Z"
    }
   },
   "outputs": [],
   "source": [
    "from constants import read_csv\n",
    "games = read_csv('games.csv')"
   ]
  },
  {
   "cell_type": "code",
   "execution_count": 2,
   "outputs": [
    {
     "data": {
      "text/plain": "   game_id competition_id  season         round        date  home_club_id  \\\n0  2222597            RU1    2012   6. Matchday  2012-08-25          3725   \n1  2222627            RU1    2012   5. Matchday  2012-08-20          2696   \n2  2222658            RU1    2012  10. Matchday  2012-09-30          2410   \n3  2222664            RU1    2012   8. Matchday  2012-09-15           932   \n4  2222683            RU1    2012  12. Matchday  2012-10-22          2696   \n\n   away_club_id  home_club_goals  away_club_goals  home_club_position  ...  \\\n0           232                2                1                 2.0  ...   \n1          4128                0                2                11.0  ...   \n2           121                0                2                 2.0  ...   \n3          2698                1                0                 5.0  ...   \n4         12438                0                1                11.0  ...   \n\n        stadium attendance               referee  \\\n0  Akhmat-Arena    21700.0  Vladislav Bezborodov   \n1     Metallurg    11400.0         Sergey Ivanov   \n2  Arena Khimki    12000.0        Sergey Karasev   \n3     RZD Arena    11408.0        Sergey Karasev   \n4     Metallurg     7534.0     Timur Arslanbekov   \n\n                                                 url  home_club_formation  \\\n0  https://www.transfermarkt.co.uk/terek-grozny_s...                  NaN   \n1  https://www.transfermarkt.co.uk/krylya-sovetov...                  NaN   \n2  https://www.transfermarkt.co.uk/cska-moscow_di...                  NaN   \n3  https://www.transfermarkt.co.uk/lokomotiv-mosc...                  NaN   \n4  https://www.transfermarkt.co.uk/krylya-sovetov...                  NaN   \n\n  away_club_formation                      home_club_name  \\\n0                 NaN                   RFK Akhmat Grozny   \n1                 NaN           PFK Krylya Sovetov Samara   \n2                 NaN                     PFK CSKA Moskva   \n3                 NaN  Футбольный клуб \"Локомотив\" Москва   \n4                 NaN           PFK Krylya Sovetov Samara   \n\n                    away_club_name aggregate competition_type  \n0                FK Spartak Moskva       2:1  domestic_league  \n1                       Amkar Perm       0:2  domestic_league  \n2                 FK Dinamo Moskva       0:2  domestic_league  \n3                   FC Rubin Kazan       1:0  domestic_league  \n4  Volga Nizhniy Novgorod (- 2016)       0:1  domestic_league  \n\n[5 rows x 23 columns]",
      "text/html": "<div>\n<style scoped>\n    .dataframe tbody tr th:only-of-type {\n        vertical-align: middle;\n    }\n\n    .dataframe tbody tr th {\n        vertical-align: top;\n    }\n\n    .dataframe thead th {\n        text-align: right;\n    }\n</style>\n<table border=\"1\" class=\"dataframe\">\n  <thead>\n    <tr style=\"text-align: right;\">\n      <th></th>\n      <th>game_id</th>\n      <th>competition_id</th>\n      <th>season</th>\n      <th>round</th>\n      <th>date</th>\n      <th>home_club_id</th>\n      <th>away_club_id</th>\n      <th>home_club_goals</th>\n      <th>away_club_goals</th>\n      <th>home_club_position</th>\n      <th>...</th>\n      <th>stadium</th>\n      <th>attendance</th>\n      <th>referee</th>\n      <th>url</th>\n      <th>home_club_formation</th>\n      <th>away_club_formation</th>\n      <th>home_club_name</th>\n      <th>away_club_name</th>\n      <th>aggregate</th>\n      <th>competition_type</th>\n    </tr>\n  </thead>\n  <tbody>\n    <tr>\n      <th>0</th>\n      <td>2222597</td>\n      <td>RU1</td>\n      <td>2012</td>\n      <td>6. Matchday</td>\n      <td>2012-08-25</td>\n      <td>3725</td>\n      <td>232</td>\n      <td>2</td>\n      <td>1</td>\n      <td>2.0</td>\n      <td>...</td>\n      <td>Akhmat-Arena</td>\n      <td>21700.0</td>\n      <td>Vladislav Bezborodov</td>\n      <td>https://www.transfermarkt.co.uk/terek-grozny_s...</td>\n      <td>NaN</td>\n      <td>NaN</td>\n      <td>RFK Akhmat Grozny</td>\n      <td>FK Spartak Moskva</td>\n      <td>2:1</td>\n      <td>domestic_league</td>\n    </tr>\n    <tr>\n      <th>1</th>\n      <td>2222627</td>\n      <td>RU1</td>\n      <td>2012</td>\n      <td>5. Matchday</td>\n      <td>2012-08-20</td>\n      <td>2696</td>\n      <td>4128</td>\n      <td>0</td>\n      <td>2</td>\n      <td>11.0</td>\n      <td>...</td>\n      <td>Metallurg</td>\n      <td>11400.0</td>\n      <td>Sergey Ivanov</td>\n      <td>https://www.transfermarkt.co.uk/krylya-sovetov...</td>\n      <td>NaN</td>\n      <td>NaN</td>\n      <td>PFK Krylya Sovetov Samara</td>\n      <td>Amkar Perm</td>\n      <td>0:2</td>\n      <td>domestic_league</td>\n    </tr>\n    <tr>\n      <th>2</th>\n      <td>2222658</td>\n      <td>RU1</td>\n      <td>2012</td>\n      <td>10. Matchday</td>\n      <td>2012-09-30</td>\n      <td>2410</td>\n      <td>121</td>\n      <td>0</td>\n      <td>2</td>\n      <td>2.0</td>\n      <td>...</td>\n      <td>Arena Khimki</td>\n      <td>12000.0</td>\n      <td>Sergey Karasev</td>\n      <td>https://www.transfermarkt.co.uk/cska-moscow_di...</td>\n      <td>NaN</td>\n      <td>NaN</td>\n      <td>PFK CSKA Moskva</td>\n      <td>FK Dinamo Moskva</td>\n      <td>0:2</td>\n      <td>domestic_league</td>\n    </tr>\n    <tr>\n      <th>3</th>\n      <td>2222664</td>\n      <td>RU1</td>\n      <td>2012</td>\n      <td>8. Matchday</td>\n      <td>2012-09-15</td>\n      <td>932</td>\n      <td>2698</td>\n      <td>1</td>\n      <td>0</td>\n      <td>5.0</td>\n      <td>...</td>\n      <td>RZD Arena</td>\n      <td>11408.0</td>\n      <td>Sergey Karasev</td>\n      <td>https://www.transfermarkt.co.uk/lokomotiv-mosc...</td>\n      <td>NaN</td>\n      <td>NaN</td>\n      <td>Футбольный клуб \"Локомотив\" Москва</td>\n      <td>FC Rubin Kazan</td>\n      <td>1:0</td>\n      <td>domestic_league</td>\n    </tr>\n    <tr>\n      <th>4</th>\n      <td>2222683</td>\n      <td>RU1</td>\n      <td>2012</td>\n      <td>12. Matchday</td>\n      <td>2012-10-22</td>\n      <td>2696</td>\n      <td>12438</td>\n      <td>0</td>\n      <td>1</td>\n      <td>11.0</td>\n      <td>...</td>\n      <td>Metallurg</td>\n      <td>7534.0</td>\n      <td>Timur Arslanbekov</td>\n      <td>https://www.transfermarkt.co.uk/krylya-sovetov...</td>\n      <td>NaN</td>\n      <td>NaN</td>\n      <td>PFK Krylya Sovetov Samara</td>\n      <td>Volga Nizhniy Novgorod (- 2016)</td>\n      <td>0:1</td>\n      <td>domestic_league</td>\n    </tr>\n  </tbody>\n</table>\n<p>5 rows × 23 columns</p>\n</div>"
     },
     "execution_count": 2,
     "metadata": {},
     "output_type": "execute_result"
    }
   ],
   "source": [
    "games.head()"
   ],
   "metadata": {
    "collapsed": false,
    "ExecuteTime": {
     "end_time": "2023-12-07T09:27:03.785140Z",
     "start_time": "2023-12-07T09:27:03.774403Z"
    }
   },
   "id": "3389f94e214c4da4"
  },
  {
   "cell_type": "code",
   "execution_count": 3,
   "outputs": [
    {
     "name": "stdout",
     "output_type": "stream",
     "text": [
      "<class 'pandas.core.frame.DataFrame'>\n",
      "RangeIndex: 65216 entries, 0 to 65215\n",
      "Data columns (total 23 columns):\n",
      " #   Column                  Non-Null Count  Dtype  \n",
      "---  ------                  --------------  -----  \n",
      " 0   game_id                 65216 non-null  int64  \n",
      " 1   competition_id          65216 non-null  object \n",
      " 2   season                  65216 non-null  int64  \n",
      " 3   round                   65216 non-null  object \n",
      " 4   date                    65216 non-null  object \n",
      " 5   home_club_id            65216 non-null  int64  \n",
      " 6   away_club_id            65216 non-null  int64  \n",
      " 7   home_club_goals         65216 non-null  int64  \n",
      " 8   away_club_goals         65216 non-null  int64  \n",
      " 9   home_club_position      45762 non-null  float64\n",
      " 10  away_club_position      45762 non-null  float64\n",
      " 11  home_club_manager_name  64474 non-null  object \n",
      " 12  away_club_manager_name  64474 non-null  object \n",
      " 13  stadium                 65005 non-null  object \n",
      " 14  attendance              55704 non-null  float64\n",
      " 15  referee                 64622 non-null  object \n",
      " 16  url                     65216 non-null  object \n",
      " 17  home_club_formation     2869 non-null   object \n",
      " 18  away_club_formation     2888 non-null   object \n",
      " 19  home_club_name          53964 non-null  object \n",
      " 20  away_club_name          55167 non-null  object \n",
      " 21  aggregate               65216 non-null  object \n",
      " 22  competition_type        65216 non-null  object \n",
      "dtypes: float64(3), int64(6), object(14)\n",
      "memory usage: 11.4+ MB\n"
     ]
    }
   ],
   "source": [
    "games.info()"
   ],
   "metadata": {
    "collapsed": false,
    "ExecuteTime": {
     "end_time": "2023-12-07T09:27:03.812966Z",
     "start_time": "2023-12-07T09:27:03.784646Z"
    }
   },
   "id": "b1883ccafaf3ff44"
  }
 ],
 "metadata": {
  "kernelspec": {
   "display_name": "Python 3",
   "language": "python",
   "name": "python3"
  },
  "language_info": {
   "codemirror_mode": {
    "name": "ipython",
    "version": 2
   },
   "file_extension": ".py",
   "mimetype": "text/x-python",
   "name": "python",
   "nbconvert_exporter": "python",
   "pygments_lexer": "ipython2",
   "version": "2.7.6"
  }
 },
 "nbformat": 4,
 "nbformat_minor": 5
}
