{
 "cells": [
  {
   "cell_type": "code",
   "execution_count": 44,
   "id": "initial_id",
   "metadata": {
    "ExecuteTime": {
     "end_time": "2023-12-07T09:18:00.275277Z",
     "start_time": "2023-12-07T09:17:59.395419Z"
    },
    "collapsed": true
   },
   "outputs": [
    {
     "name": "stderr",
     "output_type": "stream",
     "text": [
      "/Users/francescobassignana/Desktop/unito/terzo_anno/TWEB/progetto_TWEB/solution/data_cleaning/constants.py:13: DtypeWarning: Columns (7) have mixed types. Specify dtype option on import or set low_memory=False.\n",
      "  read_csv = lambda file_name: pd.read_csv(DATA_FOLDER + file_name)\n"
     ]
    }
   ],
   "source": [
    "from constants import *\n",
    "game_events = read_csv('game_events.csv')"
   ]
  },
  {
   "cell_type": "code",
   "execution_count": 26,
   "id": "26c25356f5976815",
   "metadata": {
    "ExecuteTime": {
     "end_time": "2023-12-07T09:18:00.852682Z",
     "start_time": "2023-12-07T09:18:00.845269Z"
    },
    "collapsed": false
   },
   "outputs": [
    {
     "data": {
      "text/html": [
       "<div>\n",
       "<style scoped>\n",
       "    .dataframe tbody tr th:only-of-type {\n",
       "        vertical-align: middle;\n",
       "    }\n",
       "\n",
       "    .dataframe tbody tr th {\n",
       "        vertical-align: top;\n",
       "    }\n",
       "\n",
       "    .dataframe thead th {\n",
       "        text-align: right;\n",
       "    }\n",
       "</style>\n",
       "<table border=\"1\" class=\"dataframe\">\n",
       "  <thead>\n",
       "    <tr style=\"text-align: right;\">\n",
       "      <th></th>\n",
       "      <th>game_event_id</th>\n",
       "      <th>date</th>\n",
       "      <th>game_id</th>\n",
       "      <th>minute</th>\n",
       "      <th>type</th>\n",
       "      <th>club_id</th>\n",
       "      <th>player_id</th>\n",
       "      <th>description</th>\n",
       "      <th>player_in_id</th>\n",
       "      <th>player_assist_id</th>\n",
       "    </tr>\n",
       "  </thead>\n",
       "  <tbody>\n",
       "    <tr>\n",
       "      <th>0</th>\n",
       "      <td>5d6d9533023057b6619ecd145a038bbe</td>\n",
       "      <td>2012-08-05</td>\n",
       "      <td>2211607</td>\n",
       "      <td>74</td>\n",
       "      <td>Substitutions</td>\n",
       "      <td>383</td>\n",
       "      <td>36500</td>\n",
       "      <td>, Not reported</td>\n",
       "      <td>49499.0</td>\n",
       "      <td>NaN</td>\n",
       "    </tr>\n",
       "    <tr>\n",
       "      <th>1</th>\n",
       "      <td>f0dfb41b779ad8efbd5acbd0aeedff11</td>\n",
       "      <td>2012-08-05</td>\n",
       "      <td>2211607</td>\n",
       "      <td>76</td>\n",
       "      <td>Substitutions</td>\n",
       "      <td>610</td>\n",
       "      <td>52246</td>\n",
       "      <td>, Not reported</td>\n",
       "      <td>182932.0</td>\n",
       "      <td>NaN</td>\n",
       "    </tr>\n",
       "    <tr>\n",
       "      <th>2</th>\n",
       "      <td>e67340caefbf1cbe1be393d3d61448e1</td>\n",
       "      <td>2012-08-05</td>\n",
       "      <td>2211607</td>\n",
       "      <td>84</td>\n",
       "      <td>Substitutions</td>\n",
       "      <td>383</td>\n",
       "      <td>72462</td>\n",
       "      <td>, Not reported</td>\n",
       "      <td>167850.0</td>\n",
       "      <td>NaN</td>\n",
       "    </tr>\n",
       "    <tr>\n",
       "      <th>3</th>\n",
       "      <td>ac69368250666fd5e9d142f53f1e539f</td>\n",
       "      <td>2012-08-05</td>\n",
       "      <td>2211607</td>\n",
       "      <td>65</td>\n",
       "      <td>Substitutions</td>\n",
       "      <td>610</td>\n",
       "      <td>95755</td>\n",
       "      <td>, Not reported</td>\n",
       "      <td>34784.0</td>\n",
       "      <td>NaN</td>\n",
       "    </tr>\n",
       "    <tr>\n",
       "      <th>4</th>\n",
       "      <td>584282a7024a5a6da90cbb20317111ff</td>\n",
       "      <td>2012-08-05</td>\n",
       "      <td>2211607</td>\n",
       "      <td>76</td>\n",
       "      <td>Substitutions</td>\n",
       "      <td>610</td>\n",
       "      <td>187245</td>\n",
       "      <td>, Not reported</td>\n",
       "      <td>111184.0</td>\n",
       "      <td>NaN</td>\n",
       "    </tr>\n",
       "  </tbody>\n",
       "</table>\n",
       "</div>"
      ],
      "text/plain": [
       "                      game_event_id        date  game_id  minute  \\\n",
       "0  5d6d9533023057b6619ecd145a038bbe  2012-08-05  2211607      74   \n",
       "1  f0dfb41b779ad8efbd5acbd0aeedff11  2012-08-05  2211607      76   \n",
       "2  e67340caefbf1cbe1be393d3d61448e1  2012-08-05  2211607      84   \n",
       "3  ac69368250666fd5e9d142f53f1e539f  2012-08-05  2211607      65   \n",
       "4  584282a7024a5a6da90cbb20317111ff  2012-08-05  2211607      76   \n",
       "\n",
       "            type  club_id  player_id     description  player_in_id  \\\n",
       "0  Substitutions      383      36500  , Not reported       49499.0   \n",
       "1  Substitutions      610      52246  , Not reported      182932.0   \n",
       "2  Substitutions      383      72462  , Not reported      167850.0   \n",
       "3  Substitutions      610      95755  , Not reported       34784.0   \n",
       "4  Substitutions      610     187245  , Not reported      111184.0   \n",
       "\n",
       "   player_assist_id  \n",
       "0               NaN  \n",
       "1               NaN  \n",
       "2               NaN  \n",
       "3               NaN  \n",
       "4               NaN  "
      ]
     },
     "execution_count": 26,
     "metadata": {},
     "output_type": "execute_result"
    }
   ],
   "source": [
    "game_events.head()"
   ]
  },
  {
   "cell_type": "code",
   "execution_count": 45,
   "id": "293ff9b00ca4744a",
   "metadata": {
    "ExecuteTime": {
     "end_time": "2023-12-07T09:18:08.748795Z",
     "start_time": "2023-12-07T09:18:08.681043Z"
    },
    "collapsed": false
   },
   "outputs": [
    {
     "name": "stdout",
     "output_type": "stream",
     "text": [
      "<class 'pandas.core.frame.DataFrame'>\n",
      "RangeIndex: 355471 entries, 0 to 355470\n",
      "Data columns (total 10 columns):\n",
      " #   Column            Non-Null Count   Dtype  \n",
      "---  ------            --------------   -----  \n",
      " 0   game_event_id     355471 non-null  object \n",
      " 1   date              355471 non-null  object \n",
      " 2   game_id           355471 non-null  int64  \n",
      " 3   minute            355471 non-null  int64  \n",
      " 4   type              355471 non-null  object \n",
      " 5   club_id           355471 non-null  int64  \n",
      " 6   player_id         355471 non-null  int64  \n",
      " 7   description       70231 non-null   object \n",
      " 8   player_in_id      355471 non-null  float64\n",
      " 9   player_assist_id  0 non-null       float64\n",
      "dtypes: float64(2), int64(4), object(4)\n",
      "memory usage: 27.1+ MB\n"
     ]
    }
   ],
   "source": [
    "game_events.info()"
   ]
  },
  {
   "cell_type": "code",
   "execution_count": 4,
   "id": "7b40e2f2f198f2d8",
   "metadata": {
    "ExecuteTime": {
     "end_time": "2023-12-07T09:18:46.112899Z",
     "start_time": "2023-12-07T09:18:46.110057Z"
    },
    "collapsed": false
   },
   "outputs": [
    {
     "data": {
      "text/plain": [
       "{'Cards', 'Goals', 'Shootout', 'Substitutions'}"
      ]
     },
     "execution_count": 4,
     "metadata": {},
     "output_type": "execute_result"
    }
   ],
   "source": [
    "set(game_events['type'])"
   ]
  },
  {
   "cell_type": "markdown",
   "id": "51e708bd67a98d7d",
   "metadata": {
    "collapsed": false
   },
   "source": [
    "# Seems to be ok\n",
    "This dataset is ok, it should be the information about the events during the games. It's supposed to have high change rate"
   ]
  },
  {
   "cell_type": "code",
   "execution_count": 5,
   "id": "9cdd71e0fdf57dd8",
   "metadata": {
    "collapsed": false
   },
   "outputs": [
    {
     "data": {
      "text/plain": [
       "['description', 'player_in_id', 'player_assist_id']"
      ]
     },
     "execution_count": 5,
     "metadata": {},
     "output_type": "execute_result"
    }
   ],
   "source": [
    "null_columns(game_events)"
   ]
  },
  {
   "cell_type": "markdown",
   "id": "e203694b",
   "metadata": {},
   "source": [
    "# Problem with foreign keys"
   ]
  },
  {
   "cell_type": "code",
   "execution_count": 34,
   "id": "07314f82",
   "metadata": {},
   "outputs": [
    {
     "name": "stdout",
     "output_type": "stream",
     "text": [
      "False\n"
     ]
    }
   ],
   "source": [
    "game_events = read_csv(\"game_events.csv\")\n",
    "games = read_csv(\"new_games.csv\")\n",
    "\n",
    "# Ottieni le chiavi primarie e le chiavi esterne come insiemi di valori univoci\n",
    "p_keys = set(games['game_id'])\n",
    "f_keys = set(game_events['game_id'])\n",
    "\n",
    "# Trova le chiavi esterne che non hanno corrispondenze nella chiave primaria\n",
    "invalid_f_keys = f_keys - p_keys\n",
    "print(len(invalid_f_keys) >= 1)\n",
    "# Filtra le righe della tabella delle 'game_events' che hanno chiavi esterne non valide\n",
    "apparences_filtered = game_events[~game_events['game_id'].isin(invalid_f_keys)]\n",
    "\n",
    "# Ora 'apparences_filtered' contiene solo i record con chiavi esterne valide\n",
    "# Puoi utilizzarlo per le tue operazioni successive o esportarlo in un nuovo file CSV se necessario\n",
    "apparences_filtered.to_csv(DATA_FOLDER + 'game_events.csv', index=False)\n",
    "\n"
   ]
  },
  {
   "cell_type": "code",
   "execution_count": 35,
   "id": "d9a3868a",
   "metadata": {},
   "outputs": [
    {
     "name": "stdout",
     "output_type": "stream",
     "text": [
      "True\n"
     ]
    }
   ],
   "source": [
    "game_events = read_csv(\"game_events.csv\")\n",
    "players = read_csv(\"new_players.csv\")\n",
    "\n",
    "# Ottieni le chiavi primarie e le chiavi esterne come insiemi di valori univoci\n",
    "p_keys = set(players['player_id'])\n",
    "f_keys = set(game_events['player_id'])\n",
    "\n",
    "# Trova le chiavi esterne che non hanno corrispondenze nella chiave primaria\n",
    "invalid_f_keys = f_keys - p_keys\n",
    "print(len(invalid_f_keys) >= 1)\n",
    "# Filtra le righe della tabella delle 'game_events' che hanno chiavi esterne non valide\n",
    "apparences_filtered = game_events[~game_events['player_id'].isin(invalid_f_keys)]\n",
    "\n",
    "# Ora 'apparences_filtered' contiene solo i record con chiavi esterne valide\n",
    "# Puoi utilizzarlo per le tue operazioni successive o esportarlo in un nuovo file CSV se necessario\n",
    "apparences_filtered.to_csv(DATA_FOLDER + 'game_events.csv', index=False)\n"
   ]
  },
  {
   "cell_type": "code",
   "execution_count": 43,
   "id": "9dc74186",
   "metadata": {},
   "outputs": [
    {
     "name": "stdout",
     "output_type": "stream",
     "text": [
      "True\n"
     ]
    }
   ],
   "source": [
    "game_events = read_csv(\"game_events.csv\")\n",
    "players = read_csv(\"new_players.csv\")\n",
    "\n",
    "# Ottieni le chiavi primarie e le chiavi esterne come insiemi di valori univoci\n",
    "p_keys = set(players['player_id'])\n",
    "f_keys = set(game_events['player_in_id'][game_events['player_in_id'] != None])\n",
    "\n",
    "\n",
    "\n",
    "# Trova le chiavi esterne che non hanno corrispondenze nella chiave primaria\n",
    "invalid_f_keys = f_keys - p_keys\n",
    "print(len(invalid_f_keys) >= 1)\n",
    "if not len(invalid_f_keys) ==0:\n",
    "    # Filtra le righe della tabella delle 'game_events' che hanno chiavi esterne non valide\n",
    "    apparences_filtered = game_events[~game_events['player_in_id'].isin(invalid_f_keys)]\n",
    "\n",
    "    # Ora 'apparences_filtered' contiene solo i record con chiavi esterne valide\n",
    "    # Puoi utilizzarlo per le tue operazioni successive o esportarlo in un nuovo file CSV se necessario\n",
    "    apparences_filtered.to_csv(DATA_FOLDER + 'game_events.csv', index=False)\n",
    "else:\n",
    "    print(\"nessun valore non valido\")"
   ]
  },
  {
   "cell_type": "code",
   "execution_count": 40,
   "id": "6a6ff099",
   "metadata": {},
   "outputs": [
    {
     "name": "stdout",
     "output_type": "stream",
     "text": [
      "<class 'pandas.core.frame.DataFrame'>\n",
      "RangeIndex: 355471 entries, 0 to 355470\n",
      "Data columns (total 30 columns):\n",
      " #   Column                       Non-Null Count   Dtype  \n",
      "---  ------                       --------------   -----  \n",
      " 0   game_event_id                355471 non-null  object \n",
      " 1   date                         355471 non-null  object \n",
      " 2   game_id                      355471 non-null  int64  \n",
      " 3   minute                       355471 non-null  int64  \n",
      " 4   type                         355471 non-null  object \n",
      " 5   club_id                      355471 non-null  int64  \n",
      " 6   player_id_x                  355471 non-null  int64  \n",
      " 7   description                  70231 non-null   object \n",
      " 8   player_in_id                 355471 non-null  float64\n",
      " 9   player_assist_id             0 non-null       float64\n",
      " 10  player_id_y                  355471 non-null  int64  \n",
      " 11  first_name                   328044 non-null  object \n",
      " 12  last_name                    355471 non-null  object \n",
      " 13  last_season                  355471 non-null  int64  \n",
      " 14  current_club_id              355471 non-null  int64  \n",
      " 15  player_code                  355471 non-null  object \n",
      " 16  country_of_birth             340766 non-null  object \n",
      " 17  city_of_birth                348386 non-null  object \n",
      " 18  country_of_citizenship       347751 non-null  object \n",
      " 19  date_of_birth                355249 non-null  object \n",
      " 20  sub_position                 354918 non-null  object \n",
      " 21  position                     355471 non-null  object \n",
      " 22  foot                         348655 non-null  object \n",
      " 23  height_in_cm                 350547 non-null  float64\n",
      " 24  market_value_in_eur          281440 non-null  float64\n",
      " 25  highest_market_value_in_eur  354909 non-null  float64\n",
      " 26  contract_expiration_date     257085 non-null  object \n",
      " 27  agent_name                   215480 non-null  object \n",
      " 28  image_url                    355471 non-null  object \n",
      " 29  url                          355471 non-null  object \n",
      "dtypes: float64(5), int64(7), object(18)\n",
      "memory usage: 81.4+ MB\n"
     ]
    }
   ],
   "source": [
    "game_events = read_csv(\"game_events.csv\")\n",
    "players = read_csv(\"new_players.csv\")\n",
    "\n",
    "game_events.merge(players, left_on='player_in_id', right_on='player_id', how='inner').info()"
   ]
  },
  {
   "cell_type": "code",
   "execution_count": null,
   "id": "573608a4",
   "metadata": {},
   "outputs": [],
   "source": []
  }
 ],
 "metadata": {
  "kernelspec": {
   "display_name": "Python 3",
   "language": "python",
   "name": "python3"
  },
  "language_info": {
   "codemirror_mode": {
    "name": "ipython",
    "version": 3
   },
   "file_extension": ".py",
   "mimetype": "text/x-python",
   "name": "python",
   "nbconvert_exporter": "python",
   "pygments_lexer": "ipython3",
   "version": "3.11.6"
  }
 },
 "nbformat": 4,
 "nbformat_minor": 5
}
