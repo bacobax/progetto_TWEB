{
 "cells": [
  {
   "cell_type": "code",
   "execution_count": 1,
   "id": "initial_id",
   "metadata": {
    "ExecuteTime": {
     "end_time": "2023-12-07T09:12:32.124557Z",
     "start_time": "2023-12-07T09:12:31.721981Z"
    },
    "collapsed": true
   },
   "outputs": [],
   "source": [
    "from constants import *\n",
    "lineups = read_csv('game_lineups.csv')"
   ]
  },
  {
   "cell_type": "code",
   "execution_count": 2,
   "id": "79e13912997f9fa5",
   "metadata": {
    "ExecuteTime": {
     "end_time": "2023-12-07T09:12:39.770445Z",
     "start_time": "2023-12-07T09:12:39.763800Z"
    },
    "collapsed": false
   },
   "outputs": [
    {
     "data": {
      "text/html": [
       "<div>\n",
       "<style scoped>\n",
       "    .dataframe tbody tr th:only-of-type {\n",
       "        vertical-align: middle;\n",
       "    }\n",
       "\n",
       "    .dataframe tbody tr th {\n",
       "        vertical-align: top;\n",
       "    }\n",
       "\n",
       "    .dataframe thead th {\n",
       "        text-align: right;\n",
       "    }\n",
       "</style>\n",
       "<table border=\"1\" class=\"dataframe\">\n",
       "  <thead>\n",
       "    <tr style=\"text-align: right;\">\n",
       "      <th></th>\n",
       "      <th>game_lineups_id</th>\n",
       "      <th>game_id</th>\n",
       "      <th>club_id</th>\n",
       "      <th>type</th>\n",
       "      <th>number</th>\n",
       "      <th>player_id</th>\n",
       "      <th>player_name</th>\n",
       "      <th>team_captain</th>\n",
       "      <th>position</th>\n",
       "    </tr>\n",
       "  </thead>\n",
       "  <tbody>\n",
       "    <tr>\n",
       "      <th>0</th>\n",
       "      <td>77b0f371923e0c8bdf050a1e269faaac</td>\n",
       "      <td>3606208</td>\n",
       "      <td>338</td>\n",
       "      <td>starting_lineup</td>\n",
       "      <td>89</td>\n",
       "      <td>419061</td>\n",
       "      <td>Vladyslav Supryaga</td>\n",
       "      <td>0</td>\n",
       "      <td>Centre-Forward</td>\n",
       "    </tr>\n",
       "    <tr>\n",
       "      <th>1</th>\n",
       "      <td>cb6eeedb9f728570615d37b6fe7facaf</td>\n",
       "      <td>3606208</td>\n",
       "      <td>338</td>\n",
       "      <td>starting_lineup</td>\n",
       "      <td>10</td>\n",
       "      <td>368611</td>\n",
       "      <td>Mykola Shaparenko</td>\n",
       "      <td>0</td>\n",
       "      <td>Central Midfield</td>\n",
       "    </tr>\n",
       "    <tr>\n",
       "      <th>2</th>\n",
       "      <td>8e63d5f47aac2bdb0e54f5481986e104</td>\n",
       "      <td>3606208</td>\n",
       "      <td>338</td>\n",
       "      <td>starting_lineup</td>\n",
       "      <td>5</td>\n",
       "      <td>124182</td>\n",
       "      <td>Sergiy Sydorchuk</td>\n",
       "      <td>1</td>\n",
       "      <td>Defensive Midfield</td>\n",
       "    </tr>\n",
       "    <tr>\n",
       "      <th>3</th>\n",
       "      <td>ea4a96d8be410f2d646cf095c4faae7f</td>\n",
       "      <td>3606208</td>\n",
       "      <td>338</td>\n",
       "      <td>starting_lineup</td>\n",
       "      <td>94</td>\n",
       "      <td>181118</td>\n",
       "      <td>Tomasz Kedziora</td>\n",
       "      <td>0</td>\n",
       "      <td>Right-Back</td>\n",
       "    </tr>\n",
       "    <tr>\n",
       "      <th>4</th>\n",
       "      <td>e6abe553801b09bc623c3deb96acba17</td>\n",
       "      <td>3606208</td>\n",
       "      <td>338</td>\n",
       "      <td>starting_lineup</td>\n",
       "      <td>16</td>\n",
       "      <td>404842</td>\n",
       "      <td>Vitaliy Mykolenko</td>\n",
       "      <td>0</td>\n",
       "      <td>Left-Back</td>\n",
       "    </tr>\n",
       "  </tbody>\n",
       "</table>\n",
       "</div>"
      ],
      "text/plain": [
       "                    game_lineups_id  game_id  club_id             type number  \\\n",
       "0  77b0f371923e0c8bdf050a1e269faaac  3606208      338  starting_lineup     89   \n",
       "1  cb6eeedb9f728570615d37b6fe7facaf  3606208      338  starting_lineup     10   \n",
       "2  8e63d5f47aac2bdb0e54f5481986e104  3606208      338  starting_lineup      5   \n",
       "3  ea4a96d8be410f2d646cf095c4faae7f  3606208      338  starting_lineup     94   \n",
       "4  e6abe553801b09bc623c3deb96acba17  3606208      338  starting_lineup     16   \n",
       "\n",
       "   player_id         player_name  team_captain            position  \n",
       "0     419061  Vladyslav Supryaga             0      Centre-Forward  \n",
       "1     368611   Mykola Shaparenko             0    Central Midfield  \n",
       "2     124182    Sergiy Sydorchuk             1  Defensive Midfield  \n",
       "3     181118     Tomasz Kedziora             0          Right-Back  \n",
       "4     404842   Vitaliy Mykolenko             0           Left-Back  "
      ]
     },
     "execution_count": 2,
     "metadata": {},
     "output_type": "execute_result"
    }
   ],
   "source": [
    "lineups.head()"
   ]
  },
  {
   "cell_type": "code",
   "execution_count": 3,
   "id": "bc63e30965eed28f",
   "metadata": {
    "ExecuteTime": {
     "end_time": "2023-12-07T09:12:47.855712Z",
     "start_time": "2023-12-07T09:12:47.842876Z"
    },
    "collapsed": false
   },
   "outputs": [
    {
     "name": "stdout",
     "output_type": "stream",
     "text": [
      "<class 'pandas.core.frame.DataFrame'>\n",
      "RangeIndex: 119133 entries, 0 to 119132\n",
      "Data columns (total 9 columns):\n",
      " #   Column           Non-Null Count   Dtype \n",
      "---  ------           --------------   ----- \n",
      " 0   game_lineups_id  119133 non-null  object\n",
      " 1   game_id          119133 non-null  int64 \n",
      " 2   club_id          119133 non-null  int64 \n",
      " 3   type             119133 non-null  object\n",
      " 4   number           119133 non-null  object\n",
      " 5   player_id        119133 non-null  int64 \n",
      " 6   player_name      119133 non-null  object\n",
      " 7   team_captain     119133 non-null  int64 \n",
      " 8   position         119133 non-null  object\n",
      "dtypes: int64(4), object(5)\n",
      "memory usage: 8.2+ MB\n"
     ]
    }
   ],
   "source": [
    "lineups.info()"
   ]
  },
  {
   "cell_type": "markdown",
   "id": "f41f7915bbda759e",
   "metadata": {
    "collapsed": false
   },
   "source": [
    "# Seems to be ok\n",
    "lineups seems to be the dataset wich we use for rapresent the role of the player in the game"
   ]
  },
  {
   "cell_type": "code",
   "execution_count": 2,
   "id": "a12d477d84054c2d",
   "metadata": {
    "collapsed": false
   },
   "outputs": [
    {
     "data": {
      "text/plain": [
       "[]"
      ]
     },
     "execution_count": 2,
     "metadata": {},
     "output_type": "execute_result"
    }
   ],
   "source": [
    "null_columns(lineups)"
   ]
  },
  {
   "cell_type": "code",
   "execution_count": 3,
   "metadata": {},
   "outputs": [
    {
     "data": {
      "text/plain": [
       "{'starting_lineup', 'substitutes'}"
      ]
     },
     "execution_count": 3,
     "metadata": {},
     "output_type": "execute_result"
    }
   ],
   "source": [
    "set(lineups['type'])"
   ]
  },
  {
   "cell_type": "code",
   "execution_count": 5,
   "metadata": {},
   "outputs": [
    {
     "data": {
      "text/plain": [
       "['Goalkeeper',\n",
       " 'Right-Back',\n",
       " 'Central Midfield',\n",
       " 'Left Winger',\n",
       " 'Attacking Midfield',\n",
       " 'Right Midfield',\n",
       " 'Right Winger',\n",
       " 'Defender',\n",
       " 'Defensive Midfield',\n",
       " 'Left-Back',\n",
       " 'midfield',\n",
       " 'Attack',\n",
       " 'Centre-Back',\n",
       " 'Centre-Forward',\n",
       " 'Second Striker',\n",
       " 'Left Midfield',\n",
       " 'Sweeper']"
      ]
     },
     "execution_count": 5,
     "metadata": {},
     "output_type": "execute_result"
    }
   ],
   "source": [
    "list(set(lineups['position']))"
   ]
  },
  {
   "cell_type": "markdown",
   "id": "1ae3c428",
   "metadata": {},
   "source": [
    "# Problem with foreign key"
   ]
  },
  {
   "cell_type": "code",
   "execution_count": 4,
   "metadata": {},
   "outputs": [
    {
     "name": "stdout",
     "output_type": "stream",
     "text": [
      "False\n"
     ]
    }
   ],
   "source": [
    "game_lineups = read_csv(\"game_lineups.csv\")\n",
    "games = read_csv(\"new_games.csv\")\n",
    "\n",
    "# Ottieni le chiavi primarie e le chiavi esterne come insiemi di valori univoci\n",
    "p_keys = set(games['game_id'])\n",
    "f_keys = set(game_lineups['game_id'])\n",
    "\n",
    "# Trova le chiavi esterne che non hanno corrispondenze nella chiave primaria\n",
    "invalid_f_keys = f_keys - p_keys\n",
    "print(len(invalid_f_keys) >= 1)\n",
    "# Filtra le righe della tabella delle 'game_lineups' che hanno chiavi esterne non valide\n",
    "apparences_filtered = game_lineups[~game_lineups['game_id'].isin(invalid_f_keys)]\n",
    "\n",
    "# Ora 'apparences_filtered' contiene solo i record con chiavi esterne valide\n",
    "# Puoi utilizzarlo per le tue operazioni successive o esportarlo in un nuovo file CSV se necessario\n",
    "apparences_filtered.to_csv(DATA_FOLDER + 'game_lineups.csv', index=False)"
   ]
  },
  {
   "cell_type": "code",
   "execution_count": 5,
   "id": "5ac8a297",
   "metadata": {},
   "outputs": [
    {
     "name": "stdout",
     "output_type": "stream",
     "text": [
      "False\n"
     ]
    }
   ],
   "source": [
    "game_lineups = read_csv(\"game_lineups.csv\")\n",
    "players = read_csv(\"new_players.csv\")\n",
    "\n",
    "# Ottieni le chiavi primarie e le chiavi esterne come insiemi di valori univoci\n",
    "p_keys = set(players['player_id'])\n",
    "f_keys = set(game_lineups['player_id'])\n",
    "\n",
    "# Trova le chiavi esterne che non hanno corrispondenze nella chiave primaria\n",
    "invalid_f_keys = f_keys - p_keys\n",
    "print(len(invalid_f_keys) >= 1)\n",
    "# Filtra le righe della tabella delle 'game_lineups' che hanno chiavi esterne non valide\n",
    "apparences_filtered = game_lineups[~game_lineups['player_id'].isin(invalid_f_keys)]\n",
    "\n",
    "# Ora 'apparences_filtered' contiene solo i record con chiavi esterne valide\n",
    "# Puoi utilizzarlo per le tue operazioni successive o esportarlo in un nuovo file CSV se necessario\n",
    "apparences_filtered.to_csv(DATA_FOLDER + 'game_lineups.csv', index=False)"
   ]
  },
  {
   "cell_type": "code",
   "execution_count": null,
   "id": "56272fdb",
   "metadata": {},
   "outputs": [],
   "source": []
  }
 ],
 "metadata": {
  "kernelspec": {
   "display_name": "Python 3",
   "language": "python",
   "name": "python3"
  },
  "language_info": {
   "codemirror_mode": {
    "name": "ipython",
    "version": 3
   },
   "file_extension": ".py",
   "mimetype": "text/x-python",
   "name": "python",
   "nbconvert_exporter": "python",
   "pygments_lexer": "ipython3",
   "version": "3.11.6"
  }
 },
 "nbformat": 4,
 "nbformat_minor": 5
}
