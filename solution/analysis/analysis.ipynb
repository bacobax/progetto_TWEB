{
 "cells": [
  {
   "cell_type": "code",
   "execution_count": 1,
   "outputs": [],
   "source": [
    "from __init__ import read_from_mongo, read_from_postgre, clubs_columns, competitions_columns\n",
    "import seaborn as sns\n",
    "from matplotlib import pyplot as plt"
   ],
   "metadata": {
    "collapsed": false,
    "ExecuteTime": {
     "end_time": "2024-01-19T13:01:56.279098Z",
     "start_time": "2024-01-19T13:01:56.121476Z"
    }
   },
   "id": "d8799ebe509d54d5"
  },
  {
   "cell_type": "markdown",
   "source": [
    "# Read data from MongoDB"
   ],
   "metadata": {
    "collapsed": false
   },
   "id": "b3fd64667460dc02"
  },
  {
   "cell_type": "code",
   "execution_count": 2,
   "outputs": [
    {
     "data": {
      "text/plain": "                        _id first_name   last_name last_season  \\\n0  6574baf3975bb4cdf6a0071b       Timo  Hildebrand        2014   \n1  6574baf3975bb4cdf6a0071d     Martin      Petrov        2012   \n2  6574baf3975bb4cdf6a0073a     Martin     Amedick        2012   \n3  6574baf3975bb4cdf6a007a2   Jermaine     Pennant        2013   \n4  6574baf3975bb4cdf6a007ad     Damien        Duff        2013   \n\n        player_code country_of_birth city_of_birth country_of_citizenship  \\\n0   timo-hildebrand          Germany         Worms                Germany   \n1     martin-petrov         Bulgaria        Vratsa               Bulgaria   \n2    martin-amedick          Germany     Paderborn                Germany   \n3  jermaine-pennant          England    Nottingham                England   \n4       damien-duff          Ireland    Ballyboden                Ireland   \n\n  date_of_birth    sub_position  ...   foot height_in_cm market_value_in_eur  \\\n0    1979-04-05      Goalkeeper  ...   None         None                 NaN   \n1    1979-01-15     Left Winger  ...   None         None                 NaN   \n2    1982-09-06     Centre-Back  ...   None         None                 NaN   \n3    1983-01-15    Right Winger  ...  right          173                 NaN   \n4    1979-03-02  Right Midfield  ...   left          177                 NaN   \n\n   highest_market_value_in_eur  contract_expiration_date  agent_name  \\\n0                   10000000.0                      None        None   \n1                   12000000.0                      None         IFM   \n2                    2750000.0                      None        None   \n3                   10500000.0                      None  Andrew Sky   \n4                   17000000.0                      None        None   \n\n                                           image_url  \\\n0  https://img.a.transfermarkt.technology/portrai...   \n1  https://img.a.transfermarkt.technology/portrai...   \n2  https://img.a.transfermarkt.technology/portrai...   \n3  https://img.a.transfermarkt.technology/portrai...   \n4  https://img.a.transfermarkt.technology/portrai...   \n\n                                                 url current_club_id  __v  \n0  https://www.transfermarkt.co.uk/timo-hildebran...              24    0  \n1  https://www.transfermarkt.co.uk/martin-petrov/...             714    0  \n2  https://www.transfermarkt.co.uk/martin-amedick...              24    0  \n3  https://www.transfermarkt.co.uk/jermaine-penna...             512    0  \n4  https://www.transfermarkt.co.uk/damien-duff/pr...             931    0  \n\n[5 rows x 21 columns]",
      "text/html": "<div>\n<style scoped>\n    .dataframe tbody tr th:only-of-type {\n        vertical-align: middle;\n    }\n\n    .dataframe tbody tr th {\n        vertical-align: top;\n    }\n\n    .dataframe thead th {\n        text-align: right;\n    }\n</style>\n<table border=\"1\" class=\"dataframe\">\n  <thead>\n    <tr style=\"text-align: right;\">\n      <th></th>\n      <th>_id</th>\n      <th>first_name</th>\n      <th>last_name</th>\n      <th>last_season</th>\n      <th>player_code</th>\n      <th>country_of_birth</th>\n      <th>city_of_birth</th>\n      <th>country_of_citizenship</th>\n      <th>date_of_birth</th>\n      <th>sub_position</th>\n      <th>...</th>\n      <th>foot</th>\n      <th>height_in_cm</th>\n      <th>market_value_in_eur</th>\n      <th>highest_market_value_in_eur</th>\n      <th>contract_expiration_date</th>\n      <th>agent_name</th>\n      <th>image_url</th>\n      <th>url</th>\n      <th>current_club_id</th>\n      <th>__v</th>\n    </tr>\n  </thead>\n  <tbody>\n    <tr>\n      <th>0</th>\n      <td>6574baf3975bb4cdf6a0071b</td>\n      <td>Timo</td>\n      <td>Hildebrand</td>\n      <td>2014</td>\n      <td>timo-hildebrand</td>\n      <td>Germany</td>\n      <td>Worms</td>\n      <td>Germany</td>\n      <td>1979-04-05</td>\n      <td>Goalkeeper</td>\n      <td>...</td>\n      <td>None</td>\n      <td>None</td>\n      <td>NaN</td>\n      <td>10000000.0</td>\n      <td>None</td>\n      <td>None</td>\n      <td>https://img.a.transfermarkt.technology/portrai...</td>\n      <td>https://www.transfermarkt.co.uk/timo-hildebran...</td>\n      <td>24</td>\n      <td>0</td>\n    </tr>\n    <tr>\n      <th>1</th>\n      <td>6574baf3975bb4cdf6a0071d</td>\n      <td>Martin</td>\n      <td>Petrov</td>\n      <td>2012</td>\n      <td>martin-petrov</td>\n      <td>Bulgaria</td>\n      <td>Vratsa</td>\n      <td>Bulgaria</td>\n      <td>1979-01-15</td>\n      <td>Left Winger</td>\n      <td>...</td>\n      <td>None</td>\n      <td>None</td>\n      <td>NaN</td>\n      <td>12000000.0</td>\n      <td>None</td>\n      <td>IFM</td>\n      <td>https://img.a.transfermarkt.technology/portrai...</td>\n      <td>https://www.transfermarkt.co.uk/martin-petrov/...</td>\n      <td>714</td>\n      <td>0</td>\n    </tr>\n    <tr>\n      <th>2</th>\n      <td>6574baf3975bb4cdf6a0073a</td>\n      <td>Martin</td>\n      <td>Amedick</td>\n      <td>2012</td>\n      <td>martin-amedick</td>\n      <td>Germany</td>\n      <td>Paderborn</td>\n      <td>Germany</td>\n      <td>1982-09-06</td>\n      <td>Centre-Back</td>\n      <td>...</td>\n      <td>None</td>\n      <td>None</td>\n      <td>NaN</td>\n      <td>2750000.0</td>\n      <td>None</td>\n      <td>None</td>\n      <td>https://img.a.transfermarkt.technology/portrai...</td>\n      <td>https://www.transfermarkt.co.uk/martin-amedick...</td>\n      <td>24</td>\n      <td>0</td>\n    </tr>\n    <tr>\n      <th>3</th>\n      <td>6574baf3975bb4cdf6a007a2</td>\n      <td>Jermaine</td>\n      <td>Pennant</td>\n      <td>2013</td>\n      <td>jermaine-pennant</td>\n      <td>England</td>\n      <td>Nottingham</td>\n      <td>England</td>\n      <td>1983-01-15</td>\n      <td>Right Winger</td>\n      <td>...</td>\n      <td>right</td>\n      <td>173</td>\n      <td>NaN</td>\n      <td>10500000.0</td>\n      <td>None</td>\n      <td>Andrew Sky</td>\n      <td>https://img.a.transfermarkt.technology/portrai...</td>\n      <td>https://www.transfermarkt.co.uk/jermaine-penna...</td>\n      <td>512</td>\n      <td>0</td>\n    </tr>\n    <tr>\n      <th>4</th>\n      <td>6574baf3975bb4cdf6a007ad</td>\n      <td>Damien</td>\n      <td>Duff</td>\n      <td>2013</td>\n      <td>damien-duff</td>\n      <td>Ireland</td>\n      <td>Ballyboden</td>\n      <td>Ireland</td>\n      <td>1979-03-02</td>\n      <td>Right Midfield</td>\n      <td>...</td>\n      <td>left</td>\n      <td>177</td>\n      <td>NaN</td>\n      <td>17000000.0</td>\n      <td>None</td>\n      <td>None</td>\n      <td>https://img.a.transfermarkt.technology/portrai...</td>\n      <td>https://www.transfermarkt.co.uk/damien-duff/pr...</td>\n      <td>931</td>\n      <td>0</td>\n    </tr>\n  </tbody>\n</table>\n<p>5 rows × 21 columns</p>\n</div>"
     },
     "execution_count": 2,
     "metadata": {},
     "output_type": "execute_result"
    }
   ],
   "source": [
    "players = read_from_mongo(\"players\")\n",
    "players.head()"
   ],
   "metadata": {
    "collapsed": false,
    "ExecuteTime": {
     "end_time": "2024-01-19T13:02:00.709251Z",
     "start_time": "2024-01-19T13:02:00.326222Z"
    }
   },
   "id": "6ddfbdb79f6928b6"
  },
  {
   "cell_type": "code",
   "execution_count": 3,
   "outputs": [],
   "source": [
    "appearances = read_from_mongo(\"appearances\")"
   ],
   "metadata": {
    "collapsed": false,
    "ExecuteTime": {
     "end_time": "2024-01-19T13:02:17.704739Z",
     "start_time": "2024-01-19T13:02:00.925188Z"
    }
   },
   "id": "4e67c1d4d9860c01"
  },
  {
   "cell_type": "code",
   "execution_count": 4,
   "outputs": [],
   "source": [
    "lineups = read_from_mongo(\"gamelineups\")"
   ],
   "metadata": {
    "collapsed": false,
    "ExecuteTime": {
     "end_time": "2024-01-19T13:02:18.745830Z",
     "start_time": "2024-01-19T13:02:17.702234Z"
    }
   },
   "id": "4710e4c7d1d35e55"
  },
  {
   "cell_type": "code",
   "execution_count": 5,
   "outputs": [],
   "source": [
    "games = read_from_mongo(\"games\")"
   ],
   "metadata": {
    "collapsed": false,
    "ExecuteTime": {
     "end_time": "2024-01-19T13:02:19.357136Z",
     "start_time": "2024-01-19T13:02:18.746555Z"
    }
   },
   "id": "13a4a2e31f09ae8b"
  },
  {
   "cell_type": "code",
   "execution_count": 6,
   "outputs": [],
   "source": [
    "valuations = read_from_mongo(\"playervaluations\")"
   ],
   "metadata": {
    "collapsed": false,
    "ExecuteTime": {
     "end_time": "2024-01-19T13:02:22.703287Z",
     "start_time": "2024-01-19T13:02:19.358598Z"
    }
   },
   "id": "aed24bca0d350538"
  },
  {
   "cell_type": "code",
   "execution_count": 7,
   "outputs": [],
   "source": [
    "rooms = read_from_mongo(\"rooms\")"
   ],
   "metadata": {
    "collapsed": false,
    "ExecuteTime": {
     "end_time": "2024-01-19T13:02:27.737732Z",
     "start_time": "2024-01-19T13:02:22.702267Z"
    }
   },
   "id": "855c38e923ec52a6"
  },
  {
   "cell_type": "code",
   "execution_count": 8,
   "outputs": [],
   "source": [
    "users = read_from_mongo(\"users\")"
   ],
   "metadata": {
    "collapsed": false,
    "ExecuteTime": {
     "end_time": "2024-01-19T13:02:27.760485Z",
     "start_time": "2024-01-19T13:02:27.737188Z"
    }
   },
   "id": "551f81471edf0f55"
  },
  {
   "cell_type": "markdown",
   "source": [
    "# Read data from PostgreSQL"
   ],
   "metadata": {
    "collapsed": false
   },
   "id": "d02c1387ba09e8d"
  },
  {
   "cell_type": "code",
   "execution_count": 9,
   "outputs": [
    {
     "name": "stdout",
     "output_type": "stream",
     "text": [
      "<class 'pandas.core.frame.DataFrame'>\n",
      "RangeIndex: 426 entries, 0 to 425\n",
      "Data columns (total 16 columns):\n",
      " #   Column                   Non-Null Count  Dtype  \n",
      "---  ------                   --------------  -----  \n",
      " 0   _id                      426 non-null    int64  \n",
      " 1   average_age              388 non-null    object \n",
      " 2   club_code                426 non-null    object \n",
      " 3   coach_name               0 non-null      object \n",
      " 4   domestic_competition_id  426 non-null    object \n",
      " 5   foreigners_number        426 non-null    object \n",
      " 6   foreigners_percentage    379 non-null    object \n",
      " 7   last_season              426 non-null    object \n",
      " 8   name                     426 non-null    object \n",
      " 9   national_team_players    426 non-null    object \n",
      " 10  net_transfer_record      426 non-null    object \n",
      " 11  squad_size               426 non-null    object \n",
      " 12  stadium_name             426 non-null    object \n",
      " 13  stadium_seats            426 non-null    object \n",
      " 14  total_market_value       424 non-null    float64\n",
      " 15  url                      426 non-null    object \n",
      "dtypes: float64(1), int64(1), object(14)\n",
      "memory usage: 53.4+ KB\n"
     ]
    }
   ],
   "source": [
    "clubs = read_from_postgre(\"clubs\")\n",
    "#assign to clubs columns names the array clubs_columns\n",
    "clubs.columns = clubs_columns\n",
    "clubs.head()\n",
    "clubs.info()\n",
    "#change the type of the foreigner_percentage column from object to float\n",
    "clubs[\"foreigners_percentage\"] = clubs[\"foreigners_percentage\"].astype(float)\n"
   ],
   "metadata": {
    "collapsed": false,
    "ExecuteTime": {
     "end_time": "2024-01-19T13:02:27.926840Z",
     "start_time": "2024-01-19T13:02:27.759863Z"
    }
   },
   "id": "c8e0b7561f32f2b5"
  },
  {
   "cell_type": "code",
   "execution_count": 10,
   "outputs": [
    {
     "data": {
      "text/plain": "                competition_code   _id confederation country_id country_name  \\\n0                      italy-cup   CIT        europa         75        Italy   \n1           johan-cruijff-schaal  NLSC        europa        122  Netherlands   \n2                kypello-elladas   GRP        europa         56       Greece   \n3  supertaca-candido-de-oliveira  POSU        europa        136     Portugal   \n4              russian-super-cup  RUSS        europa        141       Russia   \n\n  domestic_league_code                           name            sub_type  \\\n0                  IT1                      italy-cup        domestic_cup   \n1                  NL1           johan-cruijff-schaal  domestic_super_cup   \n2                  GR1                kypello-elladas        domestic_cup   \n3                  PO1  supertaca-candido-de-oliveira  domestic_super_cup   \n4                  RU1              russian-super-cup  domestic_super_cup   \n\n           type                                                url  \n0  domestic_cup  https://www.transfermarkt.co.uk/italy-cup/star...  \n1         other  https://www.transfermarkt.co.uk/johan-cruijff-...  \n2  domestic_cup  https://www.transfermarkt.co.uk/kypello-ellada...  \n3         other  https://www.transfermarkt.co.uk/supertaca-cand...  \n4         other  https://www.transfermarkt.co.uk/russian-super-...  ",
      "text/html": "<div>\n<style scoped>\n    .dataframe tbody tr th:only-of-type {\n        vertical-align: middle;\n    }\n\n    .dataframe tbody tr th {\n        vertical-align: top;\n    }\n\n    .dataframe thead th {\n        text-align: right;\n    }\n</style>\n<table border=\"1\" class=\"dataframe\">\n  <thead>\n    <tr style=\"text-align: right;\">\n      <th></th>\n      <th>competition_code</th>\n      <th>_id</th>\n      <th>confederation</th>\n      <th>country_id</th>\n      <th>country_name</th>\n      <th>domestic_league_code</th>\n      <th>name</th>\n      <th>sub_type</th>\n      <th>type</th>\n      <th>url</th>\n    </tr>\n  </thead>\n  <tbody>\n    <tr>\n      <th>0</th>\n      <td>italy-cup</td>\n      <td>CIT</td>\n      <td>europa</td>\n      <td>75</td>\n      <td>Italy</td>\n      <td>IT1</td>\n      <td>italy-cup</td>\n      <td>domestic_cup</td>\n      <td>domestic_cup</td>\n      <td>https://www.transfermarkt.co.uk/italy-cup/star...</td>\n    </tr>\n    <tr>\n      <th>1</th>\n      <td>johan-cruijff-schaal</td>\n      <td>NLSC</td>\n      <td>europa</td>\n      <td>122</td>\n      <td>Netherlands</td>\n      <td>NL1</td>\n      <td>johan-cruijff-schaal</td>\n      <td>domestic_super_cup</td>\n      <td>other</td>\n      <td>https://www.transfermarkt.co.uk/johan-cruijff-...</td>\n    </tr>\n    <tr>\n      <th>2</th>\n      <td>kypello-elladas</td>\n      <td>GRP</td>\n      <td>europa</td>\n      <td>56</td>\n      <td>Greece</td>\n      <td>GR1</td>\n      <td>kypello-elladas</td>\n      <td>domestic_cup</td>\n      <td>domestic_cup</td>\n      <td>https://www.transfermarkt.co.uk/kypello-ellada...</td>\n    </tr>\n    <tr>\n      <th>3</th>\n      <td>supertaca-candido-de-oliveira</td>\n      <td>POSU</td>\n      <td>europa</td>\n      <td>136</td>\n      <td>Portugal</td>\n      <td>PO1</td>\n      <td>supertaca-candido-de-oliveira</td>\n      <td>domestic_super_cup</td>\n      <td>other</td>\n      <td>https://www.transfermarkt.co.uk/supertaca-cand...</td>\n    </tr>\n    <tr>\n      <th>4</th>\n      <td>russian-super-cup</td>\n      <td>RUSS</td>\n      <td>europa</td>\n      <td>141</td>\n      <td>Russia</td>\n      <td>RU1</td>\n      <td>russian-super-cup</td>\n      <td>domestic_super_cup</td>\n      <td>other</td>\n      <td>https://www.transfermarkt.co.uk/russian-super-...</td>\n    </tr>\n  </tbody>\n</table>\n</div>"
     },
     "execution_count": 10,
     "metadata": {},
     "output_type": "execute_result"
    }
   ],
   "source": [
    "competitions = read_from_postgre(\"competitions\")\n",
    "competitions.columns  = competitions_columns\n",
    "competitions.head()"
   ],
   "metadata": {
    "collapsed": false,
    "ExecuteTime": {
     "end_time": "2024-01-19T13:02:27.927992Z",
     "start_time": "2024-01-19T13:02:27.912709Z"
    }
   },
   "id": "7ea354605bd10573"
  },
  {
   "cell_type": "markdown",
   "source": [
    "# Storing in csvs"
   ],
   "metadata": {
    "collapsed": false
   },
   "id": "e6e8ce85851a3837"
  },
  {
   "cell_type": "markdown",
   "source": [],
   "metadata": {
    "collapsed": false
   },
   "id": "530a8e042112e6dc"
  },
  {
   "cell_type": "code",
   "execution_count": 11,
   "outputs": [],
   "source": [
    "players.to_csv(\"current_datasets/players.csv\")\n",
    "appearances.to_csv(\"current_datasets/appearances.csv\")\n",
    "lineups.to_csv(\"current_datasets/lineups.csv\")\n",
    "games.to_csv(\"current_datasets/games.csv\")\n",
    "valuations.to_csv(\"current_datasets/valuations.csv\")\n",
    "rooms.to_csv(\"current_datasets/rooms.csv\")\n",
    "users.to_csv(\"current_datasets/users.csv\")\n",
    "clubs.to_csv(\"current_datasets/clubs.csv\")\n",
    "competitions.to_csv(\"current_datasets/competitions.csv\")\n",
    "\n"
   ],
   "metadata": {
    "collapsed": false,
    "ExecuteTime": {
     "end_time": "2024-01-19T13:02:38.341809Z",
     "start_time": "2024-01-19T13:02:27.923320Z"
    }
   },
   "id": "df9c7b72a099a38e"
  },
  {
   "cell_type": "code",
   "execution_count": 11,
   "outputs": [],
   "source": [],
   "metadata": {
    "collapsed": false,
    "ExecuteTime": {
     "end_time": "2024-01-19T13:02:38.342699Z",
     "start_time": "2024-01-19T13:02:38.337825Z"
    }
   },
   "id": "9cc1d340e961ae72"
  },
  {
   "cell_type": "markdown",
   "source": [
    "# Data cleaning"
   ],
   "metadata": {
    "collapsed": false
   },
   "id": "a047b55fe740b950"
  },
  {
   "cell_type": "code",
   "execution_count": 17,
   "outputs": [
    {
     "name": "stdout",
     "output_type": "stream",
     "text": [
      "Missing values in players:\n",
      "Series([], dtype: int64)\n",
      "Data types in players:\n",
      "_id                             object\n",
      "first_name                      object\n",
      "last_name                       object\n",
      "last_season                     object\n",
      "player_code                     object\n",
      "country_of_birth                object\n",
      "city_of_birth                   object\n",
      "country_of_citizenship          object\n",
      "date_of_birth                   object\n",
      "sub_position                    object\n",
      "position                        object\n",
      "foot                            object\n",
      "height_in_cm                    object\n",
      "market_value_in_eur            float64\n",
      "highest_market_value_in_eur    float64\n",
      "contract_expiration_date        object\n",
      "image_url                       object\n",
      "url                             object\n",
      "current_club_id                  int64\n",
      "dtype: object\n",
      "Missing values in appearances:\n",
      "Series([], dtype: int64)\n",
      "Data types in appearances:\n",
      "_id                               object\n",
      "game_id                           object\n",
      "player_id                         object\n",
      "player_club_id                     int64\n",
      "player_current_club_id             int64\n",
      "date                      datetime64[ns]\n",
      "player_name                       object\n",
      "competition_id                    object\n",
      "yellow_cards                       int64\n",
      "red_cards                          int64\n",
      "goals                              int64\n",
      "assists                            int64\n",
      "minutes_played                     int64\n",
      "dtype: object\n",
      "Missing values in lineups:\n",
      "Series([], dtype: int64)\n",
      "Data types in lineups:\n",
      "_id             object\n",
      "game_id         object\n",
      "club_id          int64\n",
      "type            object\n",
      "number          object\n",
      "player_id       object\n",
      "player_name     object\n",
      "team_captain      bool\n",
      "position        object\n",
      "dtype: object\n",
      "Missing values in games:\n",
      "Series([], dtype: int64)\n",
      "Data types in games:\n",
      "_id                           object\n",
      "competition_id                object\n",
      "season                        object\n",
      "round                         object\n",
      "date                  datetime64[ns]\n",
      "home_club_id                   int64\n",
      "away_club_id                   int64\n",
      "home_club_goals                int64\n",
      "away_club_goals                int64\n",
      "home_club_position           float64\n",
      "away_club_position           float64\n",
      "stadium                       object\n",
      "attendance                   float64\n",
      "referee                       object\n",
      "url                           object\n",
      "home_club_name                object\n",
      "away_club_name                object\n",
      "aggregate                     object\n",
      "competition_type              object\n",
      "createdAt             datetime64[ns]\n",
      "updatedAt             datetime64[ns]\n",
      "dtype: object\n",
      "Missing values in valuations:\n",
      "Series([], dtype: int64)\n",
      "Data types in valuations:\n",
      "_id                                            object\n",
      "player_id                                      object\n",
      "last_season                                     int64\n",
      "datetime                                       object\n",
      "date                                   datetime64[ns]\n",
      "dateweek                                       object\n",
      "market_value_in_eur                             int64\n",
      "current_club_id                                 int64\n",
      "player_club_domestic_competition_id            object\n",
      "updatedAt                              datetime64[ns]\n",
      "dtype: object\n",
      "Missing values in clubs:\n",
      "average_age               38\n",
      "coach_name               426\n",
      "foreigners_percentage     47\n",
      "total_market_value         2\n",
      "dtype: int64\n",
      "Data types in clubs:\n",
      "_id                          int64\n",
      "average_age                 object\n",
      "club_code                   object\n",
      "coach_name                  object\n",
      "domestic_competition_id     object\n",
      "foreigners_number           object\n",
      "foreigners_percentage      float64\n",
      "last_season                 object\n",
      "name                        object\n",
      "national_team_players       object\n",
      "net_transfer_record         object\n",
      "squad_size                  object\n",
      "stadium_name                object\n",
      "stadium_seats               object\n",
      "total_market_value         float64\n",
      "url                         object\n",
      "dtype: object\n",
      "Missing values in competitions:\n",
      "country_name            7\n",
      "domestic_league_code    7\n",
      "dtype: int64\n",
      "Data types in competitions:\n",
      "competition_code        object\n",
      "_id                     object\n",
      "confederation           object\n",
      "country_id              object\n",
      "country_name            object\n",
      "domestic_league_code    object\n",
      "name                    object\n",
      "sub_type                object\n",
      "type                    object\n",
      "url                     object\n",
      "dtype: object\n"
     ]
    }
   ],
   "source": [
    "import pandas as pd\n",
    "\n",
    "# Create a dictionary to hold the dataframes\n",
    "dfs = {\n",
    "    'players': players,\n",
    "    'appearances': appearances,\n",
    "    'lineups': lineups,\n",
    "    'games': games,\n",
    "    'valuations': valuations,\n",
    "    'clubs': clubs,\n",
    "    'competitions': competitions\n",
    "}\n",
    "\n",
    "\n",
    "\"\"\"# Display the head of each dataframe\n",
    "for df_name, df in dfs.items():\n",
    "    print(f\"Head of {df_name}:\")\n",
    "    print(df.head())\"\"\"\n",
    "\n",
    "for df_name, df in dfs.items():\n",
    "    # Drop 'Unnamed: 0' column if it exists\n",
    "    if 'Unnamed: 0' in df.columns:\n",
    "        df.drop('Unnamed: 0', axis=1, inplace=True)\n",
    "    # Drop '__v' column if it exists\n",
    "    if '__v' in df.columns:\n",
    "        df.drop('__v', axis=1, inplace=True)\n",
    "    # Convert 'createdAt' and 'updatedAt' to datetime if they exist\n",
    "    if 'createdAt' in df.columns:\n",
    "        df['createdAt'] = pd.to_datetime(df['createdAt'])\n",
    "    if 'updatedAt' in df.columns:\n",
    "        df['updatedAt'] = pd.to_datetime(df['updatedAt'])\n",
    "    # Convert 'date' to datetime if it exists\n",
    "    if 'date' in df.columns:\n",
    "        df['date'] = pd.to_datetime(df['date'], errors='coerce')\n",
    "    # Check for missing values\n",
    "    missing_values = df.isnull().sum()\n",
    "    print(f'Missing values in {df_name}:')\n",
    "    print(missing_values[missing_values > 0])\n",
    "    # Check data types\n",
    "    print(f'Data types in {df_name}:')\n",
    "    print(df.dtypes)"
   ],
   "metadata": {
    "collapsed": false,
    "ExecuteTime": {
     "end_time": "2024-01-19T13:11:26.192060Z",
     "start_time": "2024-01-19T13:11:25.918468Z"
    }
   },
   "id": "5d51b92e50a53c53"
  },
  {
   "cell_type": "markdown",
   "source": [
    "The initial data cleaning has been performed on all dataframes. Here's a summary of the actions taken and findings:\n",
    "\n",
    "Unnecessary columns such as 'Unnamed: 0' and '__v' have been removed.\n",
    "Date columns like 'createdAt', 'updatedAt', and 'date' have been converted to datetime format where applicable.\n",
    "Missing values have been identified in cseveral dataframes. For example, 'games.csv' has missing values in columns like 'home_club_position', 'away_club_position', 'stadium', 'attendance', 'referee', 'home_club_formation', and 'away_club_formation'.\n",
    "Data types have been checked and are mostly appropriate, though some may require further inspection or conversion, such as converting 'date_of_birth' in 'players.csv' to datetime.\n",
    "Next steps could include addressing the missing values, either by filling them in with appropriate values or by deciding on a case-by-case basis whether to remove rows or columns with a significant number of missing values. Additionally, we could further clean the data by standardizing text columns, checking for duplicates, and verifying the integrity of IDs and relationships between tables."
   ],
   "metadata": {
    "collapsed": false
   },
   "id": "83a0a5541f059cad"
  },
  {
   "cell_type": "markdown",
   "source": [
    "## Null values handling"
   ],
   "metadata": {
    "collapsed": false
   },
   "id": "400a1d5c26fa9970"
  },
  {
   "cell_type": "code",
   "execution_count": 18,
   "outputs": [
    {
     "name": "stdout",
     "output_type": "stream",
     "text": [
      "Missing value percentages in players:\n",
      "Series([], dtype: float64)\n",
      "Final data types in players:\n",
      "_id                             object\n",
      "first_name                      object\n",
      "last_name                       object\n",
      "last_season                     object\n",
      "player_code                     object\n",
      "country_of_birth                object\n",
      "city_of_birth                   object\n",
      "country_of_citizenship          object\n",
      "date_of_birth                   object\n",
      "sub_position                    object\n",
      "position                        object\n",
      "foot                            object\n",
      "height_in_cm                    object\n",
      "market_value_in_eur            float64\n",
      "highest_market_value_in_eur    float64\n",
      "contract_expiration_date        object\n",
      "image_url                       object\n",
      "url                             object\n",
      "current_club_id                  int64\n",
      "dtype: object\n",
      "Missing value percentages in appearances:\n",
      "Series([], dtype: float64)\n",
      "Final data types in appearances:\n",
      "_id                               object\n",
      "game_id                           object\n",
      "player_id                         object\n",
      "player_club_id                     int64\n",
      "player_current_club_id             int64\n",
      "date                      datetime64[ns]\n",
      "player_name                       object\n",
      "competition_id                    object\n",
      "yellow_cards                       int64\n",
      "red_cards                          int64\n",
      "goals                              int64\n",
      "assists                            int64\n",
      "minutes_played                     int64\n",
      "dtype: object\n",
      "Missing value percentages in lineups:\n",
      "Series([], dtype: float64)\n",
      "Final data types in lineups:\n",
      "_id             object\n",
      "game_id         object\n",
      "club_id          int64\n",
      "type            object\n",
      "number          object\n",
      "player_id       object\n",
      "player_name     object\n",
      "team_captain      bool\n",
      "position        object\n",
      "dtype: object\n",
      "Missing value percentages in games:\n",
      "Series([], dtype: float64)\n",
      "Final data types in games:\n",
      "_id                           object\n",
      "competition_id                object\n",
      "season                        object\n",
      "round                         object\n",
      "date                  datetime64[ns]\n",
      "home_club_id                   int64\n",
      "away_club_id                   int64\n",
      "home_club_goals                int64\n",
      "away_club_goals                int64\n",
      "home_club_position           float64\n",
      "away_club_position           float64\n",
      "stadium                       object\n",
      "attendance                   float64\n",
      "referee                       object\n",
      "url                           object\n",
      "home_club_name                object\n",
      "away_club_name                object\n",
      "aggregate                     object\n",
      "competition_type              object\n",
      "createdAt             datetime64[ns]\n",
      "updatedAt             datetime64[ns]\n",
      "dtype: object\n",
      "Missing value percentages in valuations:\n",
      "Series([], dtype: float64)\n",
      "Final data types in valuations:\n",
      "_id                                            object\n",
      "player_id                                      object\n",
      "last_season                                     int64\n",
      "datetime                                       object\n",
      "date                                   datetime64[ns]\n",
      "dateweek                                       object\n",
      "market_value_in_eur                             int64\n",
      "current_club_id                                 int64\n",
      "player_club_domestic_competition_id            object\n",
      "updatedAt                              datetime64[ns]\n",
      "dtype: object\n",
      "Missing value percentages in clubs:\n",
      "average_age                8.920188\n",
      "coach_name               100.000000\n",
      "foreigners_percentage     11.032864\n",
      "total_market_value         0.469484\n",
      "dtype: float64\n",
      "Final data types in clubs:\n",
      "_id                          int64\n",
      "average_age                 object\n",
      "club_code                   object\n",
      "domestic_competition_id     object\n",
      "foreigners_number           object\n",
      "foreigners_percentage      float64\n",
      "last_season                 object\n",
      "name                        object\n",
      "national_team_players       object\n",
      "net_transfer_record         object\n",
      "squad_size                  object\n",
      "stadium_name                object\n",
      "stadium_seats               object\n",
      "total_market_value         float64\n",
      "url                         object\n",
      "dtype: object\n",
      "Missing value percentages in competitions:\n",
      "country_name            16.27907\n",
      "domestic_league_code    16.27907\n",
      "dtype: float64\n",
      "Final data types in competitions:\n",
      "competition_code        object\n",
      "_id                     object\n",
      "confederation           object\n",
      "country_id              object\n",
      "country_name            object\n",
      "domestic_league_code    object\n",
      "name                    object\n",
      "sub_type                object\n",
      "type                    object\n",
      "url                     object\n",
      "dtype: object\n"
     ]
    }
   ],
   "source": [
    "for df_name, df in dfs.items():\n",
    "    # Check for columns with a high percentage of missing values\n",
    "    missing_percentage = df.isnull().sum() / len(df) * 100\n",
    "    print(f'Missing value percentages in {df_name}:')\n",
    "    print(missing_percentage[missing_percentage > 0])\n",
    "    # Drop columns with more than 50% missing values\n",
    "    columns_to_drop = missing_percentage[missing_percentage > 50].index\n",
    "    df.drop(columns=columns_to_drop, inplace=True)\n",
    "    # For columns with less than 50% missing, consider imputation\n",
    "    # For numeric columns, fill with median\n",
    "    numeric_cols = df.select_dtypes(include=['number']).columns\n",
    "    df[numeric_cols] = df[numeric_cols].fillna(df[numeric_cols].median())\n",
    "    # For categorical columns, fill with mode\n",
    "    categorical_cols = df.select_dtypes(include=['object', 'bool']).columns\n",
    "    for col in categorical_cols:\n",
    "        df[col] = df[col].fillna(df[col].mode().iloc[0]).iloc[0]\n",
    "    # Check final data types\n",
    "    print(f'Final data types in {df_name}:')\n",
    "    print(df.dtypes)"
   ],
   "metadata": {
    "collapsed": false,
    "ExecuteTime": {
     "end_time": "2024-01-19T13:11:32.004891Z",
     "start_time": "2024-01-19T13:11:29.997514Z"
    }
   },
   "id": "7b45092b93e02d3b"
  },
  {
   "cell_type": "markdown",
   "source": [
    "The data types have been checked and missing values have been handled across all dataframes. Here's a summary of the actions taken:\n",
    "\n",
    "- Columns with more than 50% missing values were dropped from the respective dataframes. For example, 'home_club_formation' and 'away_club_formation' in `games.csv` had over 96% missing values and were removed.\n",
    "- Numeric columns with missing values were filled with the median of the column.\n",
    "- Categorical columns with missing values were filled with the mode of the column.\n",
    "- The 'coach_name' column in `clubs.csv` was dropped due to 100% missing values.\n",
    "\n",
    "Here are some specific details for a few dataframes:\n",
    "\n",
    "- `games.csv`: Missing values in 'home_club_position' and 'away_club_position' were around 11.39%, which were filled with the median. The 'attendance' column had 12.74% missing values, also filled with the median.\n",
    "- `players.csv`: Missing values in 'first_name' and 'height_in_cm' were below 10%, filled with the mode and median respectively. The 'market_value_in_eur' column had 36.03% missing values, filled with the median.\n",
    "- `competitions.csv`: The 'country_name' and 'domestic_league_code' had 16.28% missing values, which were filled with the mode.\n",
    "\n",
    "The final data types are appropriate for the analysis, with IDs as objects, numeric values as integers or floats, and dates in datetime format.\n",
    "\n"
   ],
   "metadata": {
    "collapsed": false
   },
   "id": "6dff1424e2730848"
  },
  {
   "cell_type": "markdown",
   "source": [
    "## Type coherence checking"
   ],
   "metadata": {
    "collapsed": false
   },
   "id": "f4117df45a1b2b1d"
  },
  {
   "cell_type": "code",
   "execution_count": 19,
   "outputs": [
    {
     "name": "stdout",
     "output_type": "stream",
     "text": [
      "Current data types in players:\n",
      "_id                             object\n",
      "first_name                      object\n",
      "last_name                       object\n",
      "last_season                     object\n",
      "player_code                     object\n",
      "country_of_birth                object\n",
      "city_of_birth                   object\n",
      "country_of_citizenship          object\n",
      "date_of_birth                   object\n",
      "sub_position                    object\n",
      "position                        object\n",
      "foot                            object\n",
      "height_in_cm                    object\n",
      "market_value_in_eur            float64\n",
      "highest_market_value_in_eur    float64\n",
      "contract_expiration_date        object\n",
      "image_url                       object\n",
      "url                             object\n",
      "current_club_id                  int64\n",
      "dtype: object\n",
      "Final data types in players:\n",
      "_id                            object\n",
      "first_name                     object\n",
      "last_name                      object\n",
      "last_season                    object\n",
      "player_code                    object\n",
      "country_of_birth               object\n",
      "city_of_birth                  object\n",
      "country_of_citizenship         object\n",
      "date_of_birth                  object\n",
      "sub_position                   object\n",
      "position                       object\n",
      "foot                           object\n",
      "height_in_cm                   object\n",
      "market_value_in_eur             Int64\n",
      "highest_market_value_in_eur     Int64\n",
      "contract_expiration_date       object\n",
      "image_url                      object\n",
      "url                            object\n",
      "current_club_id                object\n",
      "dtype: object\n",
      "Current data types in appearances:\n",
      "_id                               object\n",
      "game_id                           object\n",
      "player_id                         object\n",
      "player_club_id                     int64\n",
      "player_current_club_id             int64\n",
      "date                      datetime64[ns]\n",
      "player_name                       object\n",
      "competition_id                    object\n",
      "yellow_cards                       int64\n",
      "red_cards                          int64\n",
      "goals                              int64\n",
      "assists                            int64\n",
      "minutes_played                     int64\n",
      "dtype: object\n",
      "Final data types in appearances:\n",
      "_id                               object\n",
      "game_id                           object\n",
      "player_id                         object\n",
      "player_club_id                    object\n",
      "player_current_club_id            object\n",
      "date                      datetime64[ns]\n",
      "player_name                       object\n",
      "competition_id                    object\n",
      "yellow_cards                       int64\n",
      "red_cards                          int64\n",
      "goals                              int64\n",
      "assists                            int64\n",
      "minutes_played                     int64\n",
      "dtype: object\n",
      "Current data types in lineups:\n",
      "_id             object\n",
      "game_id         object\n",
      "club_id          int64\n",
      "type            object\n",
      "number          object\n",
      "player_id       object\n",
      "player_name     object\n",
      "team_captain      bool\n",
      "position        object\n",
      "dtype: object\n",
      "Final data types in lineups:\n",
      "_id             object\n",
      "game_id         object\n",
      "club_id         object\n",
      "type            object\n",
      "number          object\n",
      "player_id       object\n",
      "player_name     object\n",
      "team_captain      bool\n",
      "position        object\n",
      "dtype: object\n",
      "Current data types in games:\n",
      "_id                           object\n",
      "competition_id                object\n",
      "season                        object\n",
      "round                         object\n",
      "date                  datetime64[ns]\n",
      "home_club_id                   int64\n",
      "away_club_id                   int64\n",
      "home_club_goals                int64\n",
      "away_club_goals                int64\n",
      "home_club_position           float64\n",
      "away_club_position           float64\n",
      "stadium                       object\n",
      "attendance                   float64\n",
      "referee                       object\n",
      "url                           object\n",
      "home_club_name                object\n",
      "away_club_name                object\n",
      "aggregate                     object\n",
      "competition_type              object\n",
      "createdAt             datetime64[ns]\n",
      "updatedAt             datetime64[ns]\n",
      "dtype: object\n",
      "Final data types in games:\n",
      "_id                           object\n",
      "competition_id                object\n",
      "season                        object\n",
      "round                         object\n",
      "date                  datetime64[ns]\n",
      "home_club_id                  object\n",
      "away_club_id                  object\n",
      "home_club_goals                int64\n",
      "away_club_goals                int64\n",
      "home_club_position             Int64\n",
      "away_club_position             Int64\n",
      "stadium                       object\n",
      "attendance                     Int64\n",
      "referee                       object\n",
      "url                           object\n",
      "home_club_name                object\n",
      "away_club_name                object\n",
      "aggregate                     object\n",
      "competition_type              object\n",
      "createdAt             datetime64[ns]\n",
      "updatedAt             datetime64[ns]\n",
      "dtype: object\n",
      "Current data types in valuations:\n",
      "_id                                            object\n",
      "player_id                                      object\n",
      "last_season                                     int64\n",
      "datetime                                       object\n",
      "date                                   datetime64[ns]\n",
      "dateweek                                       object\n",
      "market_value_in_eur                             int64\n",
      "current_club_id                                 int64\n",
      "player_club_domestic_competition_id            object\n",
      "updatedAt                              datetime64[ns]\n",
      "dtype: object\n",
      "Final data types in valuations:\n",
      "_id                                            object\n",
      "player_id                                      object\n",
      "last_season                                     int64\n",
      "datetime                                       object\n",
      "date                                   datetime64[ns]\n",
      "dateweek                                       object\n",
      "market_value_in_eur                             int64\n",
      "current_club_id                                object\n",
      "player_club_domestic_competition_id            object\n",
      "updatedAt                              datetime64[ns]\n",
      "dtype: object\n",
      "Current data types in clubs:\n",
      "_id                          int64\n",
      "average_age                 object\n",
      "club_code                   object\n",
      "domestic_competition_id     object\n",
      "foreigners_number           object\n",
      "foreigners_percentage      float64\n",
      "last_season                 object\n",
      "name                        object\n",
      "national_team_players       object\n",
      "net_transfer_record         object\n",
      "squad_size                  object\n",
      "stadium_name                object\n",
      "stadium_seats               object\n",
      "total_market_value         float64\n",
      "url                         object\n",
      "dtype: object\n",
      "Final data types in clubs:\n",
      "_id                         object\n",
      "average_age                 object\n",
      "club_code                   object\n",
      "domestic_competition_id     object\n",
      "foreigners_number           object\n",
      "foreigners_percentage      float64\n",
      "last_season                 object\n",
      "name                        object\n",
      "national_team_players       object\n",
      "net_transfer_record         object\n",
      "squad_size                  object\n",
      "stadium_name                object\n",
      "stadium_seats               object\n",
      "total_market_value           Int64\n",
      "url                         object\n",
      "dtype: object\n",
      "Current data types in competitions:\n",
      "competition_code        object\n",
      "_id                     object\n",
      "confederation           object\n",
      "country_id              object\n",
      "country_name            object\n",
      "domestic_league_code    object\n",
      "name                    object\n",
      "sub_type                object\n",
      "type                    object\n",
      "url                     object\n",
      "dtype: object\n",
      "Final data types in competitions:\n",
      "competition_code        object\n",
      "_id                     object\n",
      "confederation           object\n",
      "country_id              object\n",
      "country_name            object\n",
      "domestic_league_code    object\n",
      "name                    object\n",
      "sub_type                object\n",
      "type                    object\n",
      "url                     object\n",
      "dtype: object\n"
     ]
    }
   ],
   "source": [
    "# Check and correct data types for each dataframe\n",
    "for df_name, df in dfs.items():\n",
    "    # Check current data types\n",
    "    print(f'Current data types in {df_name}:')\n",
    "    print(df.dtypes)\n",
    "    # Correct data types where necessary\n",
    "    # For IDs, ensure they are strings\n",
    "    id_cols = [col for col in df.columns if 'id' in col or 'code' in col]\n",
    "    df[id_cols] = df[id_cols].astype(str)\n",
    "    # For boolean columns, ensure they are booleans\n",
    "    bool_cols = [col for col in df.columns if df[col].dtype == 'object' and set(df[col].unique()) <= {'True', 'False'}]\n",
    "    df[bool_cols] = df[bool_cols].astype(bool)\n",
    "    # For numeric columns, ensure they are the correct numeric type\n",
    "    # Convert integers stored as floats to integers\n",
    "    float_cols = df.select_dtypes(include=['float']).columns\n",
    "    for col in float_cols:\n",
    "        if df[col].dropna().apply(float.is_integer).all():\n",
    "            df[col] = df[col].astype('Int64')\n",
    "    # Check final data types\n",
    "    print(f'Final data types in {df_name}:')\n",
    "    print(df.dtypes)"
   ],
   "metadata": {
    "collapsed": false,
    "ExecuteTime": {
     "end_time": "2024-01-19T13:14:43.912444Z",
     "start_time": "2024-01-19T13:14:40.876347Z"
    }
   },
   "id": "8296f1d8a37eff9d"
  },
  {
   "cell_type": "markdown",
   "source": [
    "# Data visualization"
   ],
   "metadata": {
    "collapsed": false
   },
   "id": "cb4d4c580764809f"
  },
  {
   "cell_type": "markdown",
   "source": [
    "# Strangers graphs"
   ],
   "metadata": {
    "collapsed": false
   },
   "id": "228b27aefb9d08f9"
  },
  {
   "cell_type": "code",
   "execution_count": 12,
   "outputs": [
    {
     "data": {
      "text/plain": "<Axes: xlabel='foreigners_percentage', ylabel='name'>"
     },
     "execution_count": 12,
     "metadata": {},
     "output_type": "execute_result"
    },
    {
     "data": {
      "text/plain": "<Figure size 640x480 with 1 Axes>",
      "image/png": "[encoded data removed]"
     },
     "metadata": {},
     "output_type": "display_data"
    }
   ],
   "source": [
    "sns.barplot(x=\"foreigners_percentage\", y=\"name\", data=clubs.sort_values(\"foreigners_percentage\", ascending=False).head())"
   ],
   "metadata": {
    "collapsed": false,
    "ExecuteTime": {
     "end_time": "2024-01-17T19:03:32.067247Z",
     "start_time": "2024-01-17T19:03:31.874960Z"
    }
   },
   "id": "3e3f318816fca18a"
  },
  {
   "cell_type": "markdown",
   "source": [
    "# Players performance chart"
   ],
   "metadata": {
    "collapsed": false
   },
   "id": "e83e0c98c60164ed"
  },
  {
   "cell_type": "code",
   "execution_count": 13,
   "outputs": [],
   "source": [
    "performance_data = appearances.groupby('player_name')[['goals', 'assists', 'yellow_cards', 'red_cards', 'minutes_played']].sum().head()"
   ],
   "metadata": {
    "collapsed": false,
    "ExecuteTime": {
     "end_time": "2024-01-17T19:03:32.903150Z",
     "start_time": "2024-01-17T19:03:32.565197Z"
    }
   },
   "id": "898ddbf44b232cdf"
  },
  {
   "cell_type": "code",
   "execution_count": 14,
   "outputs": [
    {
     "data": {
      "text/plain": "<Figure size 1000x1000 with 2 Axes>",
      "image/png": "[encoded data removed]"
     },
     "metadata": {},
     "output_type": "display_data"
    }
   ],
   "source": [
    "plt.figure(figsize=(10, 10))\n",
    "sns.heatmap(performance_data, annot=True, fmt=\"d\", cmap='coolwarm')\n",
    "plt.title('Player Performance Heatmap')\n",
    "plt.xlabel('Performance Metrics')\n",
    "plt.ylabel('Player Names')\n",
    "plt.show()"
   ],
   "metadata": {
    "collapsed": false,
    "ExecuteTime": {
     "end_time": "2024-01-17T19:03:33.059501Z",
     "start_time": "2024-01-17T19:03:32.911921Z"
    }
   },
   "id": "ba39c113317a012b"
  },
  {
   "cell_type": "code",
   "execution_count": 14,
   "outputs": [],
   "source": [],
   "metadata": {
    "collapsed": false,
    "ExecuteTime": {
     "end_time": "2024-01-17T19:03:33.059732Z",
     "start_time": "2024-01-17T19:03:33.054622Z"
    }
   },
   "id": "103417658a6be598"
  }
 ],
 "metadata": {
  "kernelspec": {
   "display_name": "Python 3",
   "language": "python",
   "name": "python3"
  },
  "language_info": {
   "codemirror_mode": {
    "name": "ipython",
    "version": 2
   },
   "file_extension": ".py",
   "mimetype": "text/x-python",
   "name": "python",
   "nbconvert_exporter": "python",
   "pygments_lexer": "ipython2",
   "version": "2.7.6"
  }
 },
 "nbformat": 4,
 "nbformat_minor": 5
}
