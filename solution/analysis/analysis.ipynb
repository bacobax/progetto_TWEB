{
 "cells": [
  {
   "cell_type": "code",
   "execution_count": 72,
   "outputs": [],
   "source": [
    "from __init__ import read_from_mongo, read_from_postgre, clubs_columns, competitions_columns\n",
    "import seaborn as sns\n",
    "from matplotlib import pyplot as plt"
   ],
   "metadata": {
    "collapsed": false,
    "ExecuteTime": {
     "end_time": "2024-01-20T18:05:48.914025Z",
     "start_time": "2024-01-20T18:05:48.834927Z"
    }
   },
   "id": "d8799ebe509d54d5"
  },
  {
   "cell_type": "markdown",
   "source": [
    "# Read data from MongoDB"
   ],
   "metadata": {
    "collapsed": false
   },
   "id": "b3fd64667460dc02"
  },
  {
   "cell_type": "code",
   "execution_count": 73,
   "outputs": [
    {
     "name": "stdout",
     "output_type": "stream",
     "text": [
      "<class 'pandas.core.frame.DataFrame'>\n",
      "RangeIndex: 30302 entries, 0 to 30301\n",
      "Data columns (total 21 columns):\n",
      " #   Column                       Non-Null Count  Dtype  \n",
      "---  ------                       --------------  -----  \n",
      " 0   _id                          30302 non-null  object \n",
      " 1   first_name                   28337 non-null  object \n",
      " 2   last_name                    30302 non-null  object \n",
      " 3   last_season                  30302 non-null  object \n",
      " 4   player_code                  30302 non-null  object \n",
      " 5   country_of_birth             27613 non-null  object \n",
      " 6   city_of_birth                28099 non-null  object \n",
      " 7   country_of_citizenship       29759 non-null  object \n",
      " 8   date_of_birth                30255 non-null  object \n",
      " 9   sub_position                 30130 non-null  object \n",
      " 10  position                     30302 non-null  object \n",
      " 11  foot                         27913 non-null  object \n",
      " 12  height_in_cm                 28204 non-null  object \n",
      " 13  market_value_in_eur          19383 non-null  float64\n",
      " 14  highest_market_value_in_eur  28981 non-null  float64\n",
      " 15  contract_expiration_date     18835 non-null  object \n",
      " 16  agent_name                   14941 non-null  object \n",
      " 17  image_url                    30302 non-null  object \n",
      " 18  url                          30302 non-null  object \n",
      " 19  current_club_id              30302 non-null  int64  \n",
      " 20  __v                          30302 non-null  int64  \n",
      "dtypes: float64(2), int64(2), object(17)\n",
      "memory usage: 4.9+ MB\n"
     ]
    }
   ],
   "source": [
    "players = read_from_mongo(\"players\")\n",
    "players.head()\n",
    "players.info()"
   ],
   "metadata": {
    "collapsed": false,
    "ExecuteTime": {
     "end_time": "2024-01-20T18:05:49.152190Z",
     "start_time": "2024-01-20T18:05:48.843388Z"
    }
   },
   "id": "6ddfbdb79f6928b6"
  },
  {
   "cell_type": "code",
   "execution_count": 74,
   "outputs": [],
   "source": [
    "appearances = read_from_mongo(\"appearances\")"
   ],
   "metadata": {
    "collapsed": false,
    "ExecuteTime": {
     "end_time": "2024-01-20T18:06:04.131447Z",
     "start_time": "2024-01-20T18:05:49.150310Z"
    }
   },
   "id": "4e67c1d4d9860c01"
  },
  {
   "cell_type": "code",
   "execution_count": 75,
   "outputs": [
    {
     "data": {
      "text/plain": "                        _id                   game_id  club_id  \\\n0  6574cca60a8453403824e55f  6574baea291260c74de25e9f      338   \n1  6574cca60a8453403824e560  6574baea291260c74de25e9f      338   \n2  6574cca60a8453403824e561  6574baea291260c74de25e9f      338   \n3  6574cca60a8453403824e562  6574baea291260c74de25e9f      338   \n4  6574cca60a8453403824e563  6574baea291260c74de25e9f      338   \n\n              type number                 player_id         player_name  \\\n0  starting_lineup     89  6574baf3975bb4cdf6a05aee  Vladyslav Supryaga   \n1  starting_lineup     10  6574baf3975bb4cdf6a05408   Mykola Shaparenko   \n2  starting_lineup      5  6574baf3975bb4cdf6a029a3    Sergiy Sydorchuk   \n3  starting_lineup     94  6574baf3975bb4cdf6a033c4     Tomasz Kedziora   \n4  starting_lineup     16  6574baf3975bb4cdf6a05961   Vitaliy Mykolenko   \n\n   team_captain            position  \n0         False      Centre-Forward  \n1         False    Central Midfield  \n2          True  Defensive Midfield  \n3         False          Right-Back  \n4         False           Left-Back  ",
      "text/html": "<div>\n<style scoped>\n    .dataframe tbody tr th:only-of-type {\n        vertical-align: middle;\n    }\n\n    .dataframe tbody tr th {\n        vertical-align: top;\n    }\n\n    .dataframe thead th {\n        text-align: right;\n    }\n</style>\n<table border=\"1\" class=\"dataframe\">\n  <thead>\n    <tr style=\"text-align: right;\">\n      <th></th>\n      <th>_id</th>\n      <th>game_id</th>\n      <th>club_id</th>\n      <th>type</th>\n      <th>number</th>\n      <th>player_id</th>\n      <th>player_name</th>\n      <th>team_captain</th>\n      <th>position</th>\n    </tr>\n  </thead>\n  <tbody>\n    <tr>\n      <th>0</th>\n      <td>6574cca60a8453403824e55f</td>\n      <td>6574baea291260c74de25e9f</td>\n      <td>338</td>\n      <td>starting_lineup</td>\n      <td>89</td>\n      <td>6574baf3975bb4cdf6a05aee</td>\n      <td>Vladyslav Supryaga</td>\n      <td>False</td>\n      <td>Centre-Forward</td>\n    </tr>\n    <tr>\n      <th>1</th>\n      <td>6574cca60a8453403824e560</td>\n      <td>6574baea291260c74de25e9f</td>\n      <td>338</td>\n      <td>starting_lineup</td>\n      <td>10</td>\n      <td>6574baf3975bb4cdf6a05408</td>\n      <td>Mykola Shaparenko</td>\n      <td>False</td>\n      <td>Central Midfield</td>\n    </tr>\n    <tr>\n      <th>2</th>\n      <td>6574cca60a8453403824e561</td>\n      <td>6574baea291260c74de25e9f</td>\n      <td>338</td>\n      <td>starting_lineup</td>\n      <td>5</td>\n      <td>6574baf3975bb4cdf6a029a3</td>\n      <td>Sergiy Sydorchuk</td>\n      <td>True</td>\n      <td>Defensive Midfield</td>\n    </tr>\n    <tr>\n      <th>3</th>\n      <td>6574cca60a8453403824e562</td>\n      <td>6574baea291260c74de25e9f</td>\n      <td>338</td>\n      <td>starting_lineup</td>\n      <td>94</td>\n      <td>6574baf3975bb4cdf6a033c4</td>\n      <td>Tomasz Kedziora</td>\n      <td>False</td>\n      <td>Right-Back</td>\n    </tr>\n    <tr>\n      <th>4</th>\n      <td>6574cca60a8453403824e563</td>\n      <td>6574baea291260c74de25e9f</td>\n      <td>338</td>\n      <td>starting_lineup</td>\n      <td>16</td>\n      <td>6574baf3975bb4cdf6a05961</td>\n      <td>Vitaliy Mykolenko</td>\n      <td>False</td>\n      <td>Left-Back</td>\n    </tr>\n  </tbody>\n</table>\n</div>"
     },
     "execution_count": 75,
     "metadata": {},
     "output_type": "execute_result"
    }
   ],
   "source": [
    "lineups = read_from_mongo(\"gamelineups\")\n",
    "lineups.head()"
   ],
   "metadata": {
    "collapsed": false,
    "ExecuteTime": {
     "end_time": "2024-01-20T18:06:04.621709Z",
     "start_time": "2024-01-20T18:06:04.128855Z"
    }
   },
   "id": "4710e4c7d1d35e55"
  },
  {
   "cell_type": "code",
   "execution_count": 76,
   "outputs": [],
   "source": [
    "games = read_from_mongo(\"games\")"
   ],
   "metadata": {
    "collapsed": false,
    "ExecuteTime": {
     "end_time": "2024-01-20T18:06:05.261279Z",
     "start_time": "2024-01-20T18:06:04.621896Z"
    }
   },
   "id": "13a4a2e31f09ae8b"
  },
  {
   "cell_type": "code",
   "execution_count": 77,
   "outputs": [],
   "source": [
    "valuations = read_from_mongo(\"playervaluations\")"
   ],
   "metadata": {
    "collapsed": false,
    "ExecuteTime": {
     "end_time": "2024-01-20T18:06:08.334668Z",
     "start_time": "2024-01-20T18:06:05.263039Z"
    }
   },
   "id": "aed24bca0d350538"
  },
  {
   "cell_type": "code",
   "execution_count": 78,
   "outputs": [],
   "source": [
    "rooms = read_from_mongo(\"rooms\")"
   ],
   "metadata": {
    "collapsed": false,
    "ExecuteTime": {
     "end_time": "2024-01-20T18:06:08.345039Z",
     "start_time": "2024-01-20T18:06:08.335210Z"
    }
   },
   "id": "855c38e923ec52a6"
  },
  {
   "cell_type": "code",
   "execution_count": 79,
   "outputs": [],
   "source": [
    "users = read_from_mongo(\"users\")"
   ],
   "metadata": {
    "collapsed": false,
    "ExecuteTime": {
     "end_time": "2024-01-20T18:06:08.355821Z",
     "start_time": "2024-01-20T18:06:08.345582Z"
    }
   },
   "id": "551f81471edf0f55"
  },
  {
   "cell_type": "markdown",
   "source": [
    "# Read data from PostgreSQL"
   ],
   "metadata": {
    "collapsed": false
   },
   "id": "d02c1387ba09e8d"
  },
  {
   "cell_type": "code",
   "execution_count": 80,
   "outputs": [
    {
     "name": "stdout",
     "output_type": "stream",
     "text": [
      "<class 'pandas.core.frame.DataFrame'>\n",
      "RangeIndex: 426 entries, 0 to 425\n",
      "Data columns (total 16 columns):\n",
      " #   Column                   Non-Null Count  Dtype  \n",
      "---  ------                   --------------  -----  \n",
      " 0   _id                      426 non-null    int64  \n",
      " 1   average_age              388 non-null    object \n",
      " 2   club_code                426 non-null    object \n",
      " 3   coach_name               0 non-null      object \n",
      " 4   domestic_competition_id  426 non-null    object \n",
      " 5   foreigners_number        426 non-null    object \n",
      " 6   foreigners_percentage    379 non-null    object \n",
      " 7   last_season              426 non-null    object \n",
      " 8   name                     426 non-null    object \n",
      " 9   national_team_players    426 non-null    object \n",
      " 10  net_transfer_record      426 non-null    object \n",
      " 11  squad_size               426 non-null    object \n",
      " 12  stadium_name             426 non-null    object \n",
      " 13  stadium_seats            426 non-null    object \n",
      " 14  total_market_value       424 non-null    float64\n",
      " 15  url                      426 non-null    object \n",
      "dtypes: float64(1), int64(1), object(14)\n",
      "memory usage: 53.4+ KB\n"
     ]
    }
   ],
   "source": [
    "clubs = read_from_postgre(\"clubs\")\n",
    "#assign to clubs columns names the array clubs_columns\n",
    "clubs.columns = clubs_columns\n",
    "clubs.head()\n",
    "clubs.info()\n",
    "#change the type of the foreigner_percentage column from object to float\n",
    "clubs[\"foreigners_percentage\"] = clubs[\"foreigners_percentage\"].astype(float)\n"
   ],
   "metadata": {
    "collapsed": false,
    "ExecuteTime": {
     "end_time": "2024-01-20T18:06:08.470456Z",
     "start_time": "2024-01-20T18:06:08.357887Z"
    }
   },
   "id": "c8e0b7561f32f2b5"
  },
  {
   "cell_type": "code",
   "execution_count": 81,
   "outputs": [
    {
     "data": {
      "text/plain": "                competition_code   _id confederation country_id country_name  \\\n0                      italy-cup   CIT        europa         75        Italy   \n1           johan-cruijff-schaal  NLSC        europa        122  Netherlands   \n2                kypello-elladas   GRP        europa         56       Greece   \n3  supertaca-candido-de-oliveira  POSU        europa        136     Portugal   \n4              russian-super-cup  RUSS        europa        141       Russia   \n\n  domestic_league_code                           name            sub_type  \\\n0                  IT1                      italy-cup        domestic_cup   \n1                  NL1           johan-cruijff-schaal  domestic_super_cup   \n2                  GR1                kypello-elladas        domestic_cup   \n3                  PO1  supertaca-candido-de-oliveira  domestic_super_cup   \n4                  RU1              russian-super-cup  domestic_super_cup   \n\n           type                                                url  \n0  domestic_cup  https://www.transfermarkt.co.uk/italy-cup/star...  \n1         other  https://www.transfermarkt.co.uk/johan-cruijff-...  \n2  domestic_cup  https://www.transfermarkt.co.uk/kypello-ellada...  \n3         other  https://www.transfermarkt.co.uk/supertaca-cand...  \n4         other  https://www.transfermarkt.co.uk/russian-super-...  ",
      "text/html": "<div>\n<style scoped>\n    .dataframe tbody tr th:only-of-type {\n        vertical-align: middle;\n    }\n\n    .dataframe tbody tr th {\n        vertical-align: top;\n    }\n\n    .dataframe thead th {\n        text-align: right;\n    }\n</style>\n<table border=\"1\" class=\"dataframe\">\n  <thead>\n    <tr style=\"text-align: right;\">\n      <th></th>\n      <th>competition_code</th>\n      <th>_id</th>\n      <th>confederation</th>\n      <th>country_id</th>\n      <th>country_name</th>\n      <th>domestic_league_code</th>\n      <th>name</th>\n      <th>sub_type</th>\n      <th>type</th>\n      <th>url</th>\n    </tr>\n  </thead>\n  <tbody>\n    <tr>\n      <th>0</th>\n      <td>italy-cup</td>\n      <td>CIT</td>\n      <td>europa</td>\n      <td>75</td>\n      <td>Italy</td>\n      <td>IT1</td>\n      <td>italy-cup</td>\n      <td>domestic_cup</td>\n      <td>domestic_cup</td>\n      <td>https://www.transfermarkt.co.uk/italy-cup/star...</td>\n    </tr>\n    <tr>\n      <th>1</th>\n      <td>johan-cruijff-schaal</td>\n      <td>NLSC</td>\n      <td>europa</td>\n      <td>122</td>\n      <td>Netherlands</td>\n      <td>NL1</td>\n      <td>johan-cruijff-schaal</td>\n      <td>domestic_super_cup</td>\n      <td>other</td>\n      <td>https://www.transfermarkt.co.uk/johan-cruijff-...</td>\n    </tr>\n    <tr>\n      <th>2</th>\n      <td>kypello-elladas</td>\n      <td>GRP</td>\n      <td>europa</td>\n      <td>56</td>\n      <td>Greece</td>\n      <td>GR1</td>\n      <td>kypello-elladas</td>\n      <td>domestic_cup</td>\n      <td>domestic_cup</td>\n      <td>https://www.transfermarkt.co.uk/kypello-ellada...</td>\n    </tr>\n    <tr>\n      <th>3</th>\n      <td>supertaca-candido-de-oliveira</td>\n      <td>POSU</td>\n      <td>europa</td>\n      <td>136</td>\n      <td>Portugal</td>\n      <td>PO1</td>\n      <td>supertaca-candido-de-oliveira</td>\n      <td>domestic_super_cup</td>\n      <td>other</td>\n      <td>https://www.transfermarkt.co.uk/supertaca-cand...</td>\n    </tr>\n    <tr>\n      <th>4</th>\n      <td>russian-super-cup</td>\n      <td>RUSS</td>\n      <td>europa</td>\n      <td>141</td>\n      <td>Russia</td>\n      <td>RU1</td>\n      <td>russian-super-cup</td>\n      <td>domestic_super_cup</td>\n      <td>other</td>\n      <td>https://www.transfermarkt.co.uk/russian-super-...</td>\n    </tr>\n  </tbody>\n</table>\n</div>"
     },
     "execution_count": 81,
     "metadata": {},
     "output_type": "execute_result"
    }
   ],
   "source": [
    "competitions = read_from_postgre(\"competitions\")\n",
    "competitions.columns  = competitions_columns\n",
    "competitions.head()"
   ],
   "metadata": {
    "collapsed": false,
    "ExecuteTime": {
     "end_time": "2024-01-20T18:06:08.485243Z",
     "start_time": "2024-01-20T18:06:08.471319Z"
    }
   },
   "id": "7ea354605bd10573"
  },
  {
   "cell_type": "markdown",
   "source": [
    "# Storing in csvs"
   ],
   "metadata": {
    "collapsed": false
   },
   "id": "e6e8ce85851a3837"
  },
  {
   "cell_type": "markdown",
   "source": [],
   "metadata": {
    "collapsed": false
   },
   "id": "530a8e042112e6dc"
  },
  {
   "cell_type": "code",
   "execution_count": 82,
   "outputs": [
    {
     "data": {
      "text/plain": "'players.to_csv(\"current_datasets/players.csv\")\\nappearances.to_csv(\"current_datasets/appearances.csv\")\\nlineups.to_csv(\"current_datasets/lineups.csv\")\\ngames.to_csv(\"current_datasets/games.csv\")\\nvaluations.to_csv(\"current_datasets/valuations.csv\")\\nrooms.to_csv(\"current_datasets/rooms.csv\")\\nusers.to_csv(\"current_datasets/users.csv\")\\nclubs.to_csv(\"current_datasets/clubs.csv\")\\ncompetitions.to_csv(\"current_datasets/competitions.csv\")'"
     },
     "execution_count": 82,
     "metadata": {},
     "output_type": "execute_result"
    }
   ],
   "source": [
    "\"\"\"players.to_csv(\"current_datasets/players.csv\")\n",
    "appearances.to_csv(\"current_datasets/appearances.csv\")\n",
    "lineups.to_csv(\"current_datasets/lineups.csv\")\n",
    "games.to_csv(\"current_datasets/games.csv\")\n",
    "valuations.to_csv(\"current_datasets/valuations.csv\")\n",
    "rooms.to_csv(\"current_datasets/rooms.csv\")\n",
    "users.to_csv(\"current_datasets/users.csv\")\n",
    "clubs.to_csv(\"current_datasets/clubs.csv\")\n",
    "competitions.to_csv(\"current_datasets/competitions.csv\")\"\"\"\n",
    "\n"
   ],
   "metadata": {
    "collapsed": false,
    "ExecuteTime": {
     "end_time": "2024-01-20T18:06:08.486968Z",
     "start_time": "2024-01-20T18:06:08.483238Z"
    }
   },
   "id": "df9c7b72a099a38e"
  },
  {
   "cell_type": "code",
   "execution_count": 83,
   "outputs": [],
   "source": [
    "dfs = {\n",
    "    'players': players,\n",
    "    'appearances': appearances,\n",
    "    'lineups': lineups,\n",
    "    'games': games,\n",
    "    'valuations': valuations,\n",
    "    'clubs': clubs,\n",
    "    'competitions': competitions\n",
    "}\n"
   ],
   "metadata": {
    "collapsed": false,
    "ExecuteTime": {
     "end_time": "2024-01-20T18:06:08.620308Z",
     "start_time": "2024-01-20T18:06:08.603364Z"
    }
   },
   "id": "9cc1d340e961ae72"
  },
  {
   "cell_type": "markdown",
   "source": [
    "# Data cleaning"
   ],
   "metadata": {
    "collapsed": false
   },
   "id": "a047b55fe740b950"
  },
  {
   "cell_type": "code",
   "execution_count": 84,
   "outputs": [
    {
     "name": "stdout",
     "output_type": "stream",
     "text": [
      "Missing values in players:\n",
      "first_name                      1965\n",
      "country_of_birth                2689\n",
      "city_of_birth                   2203\n",
      "country_of_citizenship           543\n",
      "date_of_birth                     47\n",
      "sub_position                     172\n",
      "foot                            2389\n",
      "height_in_cm                    2098\n",
      "market_value_in_eur            10919\n",
      "highest_market_value_in_eur     1321\n",
      "contract_expiration_date       11467\n",
      "agent_name                     15361\n",
      "dtype: int64\n",
      "Data types in players:\n",
      "_id                             object\n",
      "first_name                      object\n",
      "last_name                       object\n",
      "last_season                     object\n",
      "player_code                     object\n",
      "country_of_birth                object\n",
      "city_of_birth                   object\n",
      "country_of_citizenship          object\n",
      "date_of_birth                   object\n",
      "sub_position                    object\n",
      "position                        object\n",
      "foot                            object\n",
      "height_in_cm                    object\n",
      "market_value_in_eur            float64\n",
      "highest_market_value_in_eur    float64\n",
      "contract_expiration_date        object\n",
      "agent_name                      object\n",
      "image_url                       object\n",
      "url                             object\n",
      "current_club_id                  int64\n",
      "dtype: object\n",
      "Missing values in appearances:\n",
      "Series([], dtype: int64)\n",
      "Data types in appearances:\n",
      "_id                               object\n",
      "game_id                           object\n",
      "player_id                         object\n",
      "player_club_id                     int64\n",
      "player_current_club_id             int64\n",
      "date                      datetime64[ns]\n",
      "player_name                       object\n",
      "competition_id                    object\n",
      "yellow_cards                       int64\n",
      "red_cards                          int64\n",
      "goals                              int64\n",
      "assists                            int64\n",
      "minutes_played                     int64\n",
      "dtype: object\n",
      "Missing values in lineups:\n",
      "Series([], dtype: int64)\n",
      "Data types in lineups:\n",
      "_id             object\n",
      "game_id         object\n",
      "club_id          int64\n",
      "type            object\n",
      "number          object\n",
      "player_id       object\n",
      "player_name     object\n",
      "team_captain      bool\n",
      "position        object\n",
      "dtype: object\n",
      "Missing values in games:\n",
      "home_club_position      5880\n",
      "away_club_position      5880\n",
      "stadium                   49\n",
      "attendance              6577\n",
      "referee                  176\n",
      "home_club_formation    49789\n",
      "away_club_formation    49789\n",
      "dtype: int64\n",
      "Data types in games:\n",
      "_id                            object\n",
      "competition_id                 object\n",
      "season                         object\n",
      "round                          object\n",
      "date                   datetime64[ns]\n",
      "home_club_id                    int64\n",
      "away_club_id                    int64\n",
      "home_club_goals                 int64\n",
      "away_club_goals                 int64\n",
      "home_club_position            float64\n",
      "away_club_position            float64\n",
      "stadium                        object\n",
      "attendance                    float64\n",
      "referee                        object\n",
      "url                            object\n",
      "home_club_formation            object\n",
      "away_club_formation            object\n",
      "home_club_name                 object\n",
      "away_club_name                 object\n",
      "aggregate                      object\n",
      "competition_type               object\n",
      "createdAt              datetime64[ns]\n",
      "updatedAt              datetime64[ns]\n",
      "dtype: object\n",
      "Missing values in valuations:\n",
      "Series([], dtype: int64)\n",
      "Data types in valuations:\n",
      "_id                                            object\n",
      "player_id                                      object\n",
      "last_season                                     int64\n",
      "datetime                                       object\n",
      "date                                   datetime64[ns]\n",
      "dateweek                                       object\n",
      "market_value_in_eur                             int64\n",
      "current_club_id                                 int64\n",
      "player_club_domestic_competition_id            object\n",
      "updatedAt                              datetime64[ns]\n",
      "dtype: object\n",
      "Missing values in clubs:\n",
      "average_age               38\n",
      "coach_name               426\n",
      "foreigners_percentage     47\n",
      "total_market_value         2\n",
      "dtype: int64\n",
      "Data types in clubs:\n",
      "_id                          int64\n",
      "average_age                 object\n",
      "club_code                   object\n",
      "coach_name                  object\n",
      "domestic_competition_id     object\n",
      "foreigners_number           object\n",
      "foreigners_percentage      float64\n",
      "last_season                 object\n",
      "name                        object\n",
      "national_team_players       object\n",
      "net_transfer_record         object\n",
      "squad_size                  object\n",
      "stadium_name                object\n",
      "stadium_seats               object\n",
      "total_market_value         float64\n",
      "url                         object\n",
      "dtype: object\n",
      "Missing values in competitions:\n",
      "country_name            7\n",
      "domestic_league_code    7\n",
      "dtype: int64\n",
      "Data types in competitions:\n",
      "competition_code        object\n",
      "_id                     object\n",
      "confederation           object\n",
      "country_id              object\n",
      "country_name            object\n",
      "domestic_league_code    object\n",
      "name                    object\n",
      "sub_type                object\n",
      "type                    object\n",
      "url                     object\n",
      "dtype: object\n"
     ]
    }
   ],
   "source": [
    "import pandas as pd\n",
    "\n",
    "# Create a dictionary to hold the dataframes\n",
    "\n",
    "\n",
    "\"\"\"# Display the head of each dataframe\n",
    "for df_name, df in dfs.items():\n",
    "    print(f\"Head of {df_name}:\")\n",
    "    print(df.head())\"\"\"\n",
    "\n",
    "for df_name, df in dfs.items():\n",
    "    # Drop 'Unnamed: 0' column if it exists\n",
    "    if 'Unnamed: 0' in df.columns:\n",
    "        df.drop('Unnamed: 0', axis=1, inplace=True)\n",
    "    # Drop '__v' column if it exists\n",
    "    if '__v' in df.columns:\n",
    "        df.drop('__v', axis=1, inplace=True)\n",
    "    # Convert 'createdAt' and 'updatedAt' to datetime if they exist\n",
    "    if 'createdAt' in df.columns:\n",
    "        df['createdAt'] = pd.to_datetime(df['createdAt'])\n",
    "    if 'updatedAt' in df.columns:\n",
    "        df['updatedAt'] = pd.to_datetime(df['updatedAt'])\n",
    "    # Convert 'date' to datetime if it exists\n",
    "    if 'date' in df.columns:\n",
    "        df['date'] = pd.to_datetime(df['date'], errors='coerce')\n",
    "    # Check for missing values\n",
    "    missing_values = df.isnull().sum()\n",
    "    print(f'Missing values in {df_name}:')\n",
    "    print(missing_values[missing_values > 0])\n",
    "    # Check data types\n",
    "    print(f'Data types in {df_name}:')\n",
    "    print(df.dtypes)"
   ],
   "metadata": {
    "collapsed": false,
    "ExecuteTime": {
     "end_time": "2024-01-20T18:06:10.772535Z",
     "start_time": "2024-01-20T18:06:08.608451Z"
    }
   },
   "id": "5d51b92e50a53c53"
  },
  {
   "cell_type": "markdown",
   "source": [
    "The initial data cleaning has been performed on all dataframes. Here's a summary of the actions taken and findings:\n",
    "\n",
    "Unnecessary columns such as 'Unnamed: 0' and '__v' have been removed.\n",
    "Date columns like 'createdAt', 'updatedAt', and 'date' have been converted to datetime format where applicable.\n",
    "Missing values have been identified in cseveral dataframes. For example, 'games.csv' has missing values in columns like 'home_club_position', 'away_club_position', 'stadium', 'attendance', 'referee', 'home_club_formation', and 'away_club_formation'.\n",
    "Data types have been checked and are mostly appropriate, though some may require further inspection or conversion, such as converting 'date_of_birth' in 'players.csv' to datetime.\n",
    "Next steps could include addressing the missing values, either by filling them in with appropriate values or by deciding on a case-by-case basis whether to remove rows or columns with a significant number of missing values. Additionally, we could further clean the data by standardizing text columns, checking for duplicates, and verifying the integrity of IDs and relationships between tables."
   ],
   "metadata": {
    "collapsed": false
   },
   "id": "83a0a5541f059cad"
  },
  {
   "cell_type": "markdown",
   "source": [
    "## Null values handling"
   ],
   "metadata": {
    "collapsed": false
   },
   "id": "400a1d5c26fa9970"
  },
  {
   "cell_type": "code",
   "execution_count": 85,
   "outputs": [
    {
     "name": "stdout",
     "output_type": "stream",
     "text": [
      "Missing value percentages in players:\n",
      "first_name                      6.484720\n",
      "country_of_birth                8.874002\n",
      "city_of_birth                   7.270147\n",
      "country_of_citizenship          1.791961\n",
      "date_of_birth                   0.155105\n",
      "sub_position                    0.567619\n",
      "foot                            7.883968\n",
      "height_in_cm                    6.923635\n",
      "market_value_in_eur            36.033925\n",
      "highest_market_value_in_eur     4.359448\n",
      "contract_expiration_date       37.842387\n",
      "agent_name                     50.693024\n",
      "dtype: float64\n",
      "Columns to drop\n",
      "Index(['agent_name'], dtype='object')\n",
      "fill _id None values with 6574baf3975bb4cdf6a00702\n",
      "fill first_name None values with David\n",
      "fill last_name None values with García\n",
      "fill last_season None values with 2023\n",
      "fill player_code None values with paulinho\n",
      "fill country_of_birth None values with France\n",
      "fill city_of_birth None values with London\n",
      "fill country_of_citizenship None values with Turkey\n",
      "fill date_of_birth None values with 1996-01-19\n",
      "fill sub_position None values with Centre-Back\n",
      "fill position None values with Defender\n",
      "fill foot None values with right\n",
      "fill height_in_cm None values with 180\n",
      "fill contract_expiration_date None values with 2024-06-30 00:00:00\n",
      "fill image_url None values with https://img.a.transfermarkt.technology/portrait/header/default.jpg?lm=1\n",
      "fill url None values with https://www.transfermarkt.co.uk/-alpha-bdul-razak/profil/spieler/339560\n",
      "Final data types in players:\n",
      "_id                             object\n",
      "first_name                      object\n",
      "last_name                       object\n",
      "last_season                     object\n",
      "player_code                     object\n",
      "country_of_birth                object\n",
      "city_of_birth                   object\n",
      "country_of_citizenship          object\n",
      "date_of_birth                   object\n",
      "sub_position                    object\n",
      "position                        object\n",
      "foot                            object\n",
      "height_in_cm                    object\n",
      "market_value_in_eur            float64\n",
      "highest_market_value_in_eur    float64\n",
      "contract_expiration_date        object\n",
      "image_url                       object\n",
      "url                             object\n",
      "current_club_id                  int64\n",
      "dtype: object\n",
      "Missing value percentages in appearances:\n",
      "Series([], dtype: float64)\n",
      "Columns to drop\n",
      "Index([], dtype='object')\n",
      "fill _id None values with 6574bc5d0a8453403804feea\n",
      "fill game_id None values with 6574baea291260c74de20510\n",
      "fill player_id None values with 6574baf3975bb4cdf6a01173\n",
      "fill player_name None values with Danilo\n",
      "fill competition_id None values with IT1\n",
      "Final data types in appearances:\n",
      "_id                               object\n",
      "game_id                           object\n",
      "player_id                         object\n",
      "player_club_id                     int64\n",
      "player_current_club_id             int64\n",
      "date                      datetime64[ns]\n",
      "player_name                       object\n",
      "competition_id                    object\n",
      "yellow_cards                       int64\n",
      "red_cards                          int64\n",
      "goals                              int64\n",
      "assists                            int64\n",
      "minutes_played                     int64\n",
      "dtype: object\n",
      "Missing value percentages in lineups:\n",
      "Series([], dtype: float64)\n",
      "Columns to drop\n",
      "Index([], dtype='object')\n",
      "fill _id None values with 6574cca60a8453403824e55f\n",
      "fill game_id None values with 6574baea291260c74de28561\n",
      "fill type None values with starting_lineup\n",
      "fill number None values with 8\n",
      "fill player_id None values with 6574baf3975bb4cdf6a02316\n",
      "fill player_name None values with Paulinho\n",
      "fill team_captain None values with False\n",
      "fill position None values with Centre-Back\n",
      "Final data types in lineups:\n",
      "_id             object\n",
      "game_id         object\n",
      "club_id          int64\n",
      "type            object\n",
      "number          object\n",
      "player_id       object\n",
      "player_name     object\n",
      "team_captain      bool\n",
      "position        object\n",
      "dtype: object\n",
      "Missing value percentages in games:\n",
      "home_club_position     11.386081\n",
      "away_club_position     11.386081\n",
      "stadium                 0.094884\n",
      "attendance             12.735758\n",
      "referee                 0.340808\n",
      "home_club_formation    96.411835\n",
      "away_club_formation    96.411835\n",
      "dtype: float64\n",
      "Columns to drop\n",
      "Index(['home_club_formation', 'away_club_formation'], dtype='object')\n",
      "fill _id None values with 6574bae9291260c74de18e12\n",
      "fill competition_id None values with GB1\n",
      "fill season None values with 2014\n",
      "fill round None values with 11. Matchday\n",
      "fill stadium None values with Olimpico di Roma\n",
      "fill referee None values with Anthony Taylor\n",
      "fill url None values with https://www.transfermarkt.co.uk/1-fc-heidenheim-1846_1-fc-union-berlin/index/spielbericht/4096019\n",
      "fill home_club_name None values with Juventus Football Club\n",
      "fill away_club_name None values with Futbol Club Barcelona\n",
      "fill aggregate None values with 1:1\n",
      "fill competition_type None values with domestic_league\n",
      "Final data types in games:\n",
      "_id                           object\n",
      "competition_id                object\n",
      "season                        object\n",
      "round                         object\n",
      "date                  datetime64[ns]\n",
      "home_club_id                   int64\n",
      "away_club_id                   int64\n",
      "home_club_goals                int64\n",
      "away_club_goals                int64\n",
      "home_club_position           float64\n",
      "away_club_position           float64\n",
      "stadium                       object\n",
      "attendance                   float64\n",
      "referee                       object\n",
      "url                           object\n",
      "home_club_name                object\n",
      "away_club_name                object\n",
      "aggregate                     object\n",
      "competition_type              object\n",
      "createdAt             datetime64[ns]\n",
      "updatedAt             datetime64[ns]\n",
      "dtype: object\n",
      "Missing value percentages in valuations:\n",
      "Series([], dtype: float64)\n",
      "Columns to drop\n",
      "Index([], dtype='object')\n",
      "fill _id None values with 6574cccc0a845340382644f6\n",
      "fill player_id None values with 6574baf3975bb4cdf6a0140c\n",
      "fill datetime None values with 2020-04-08 00:00:00\n",
      "fill dateweek None values with 2020-04-06\n",
      "fill player_club_domestic_competition_id None values with IT1\n",
      "Final data types in valuations:\n",
      "_id                                            object\n",
      "player_id                                      object\n",
      "last_season                                     int64\n",
      "datetime                                       object\n",
      "date                                   datetime64[ns]\n",
      "dateweek                                       object\n",
      "market_value_in_eur                             int64\n",
      "current_club_id                                 int64\n",
      "player_club_domestic_competition_id            object\n",
      "updatedAt                              datetime64[ns]\n",
      "dtype: object\n",
      "Missing value percentages in clubs:\n",
      "average_age                8.920188\n",
      "coach_name               100.000000\n",
      "foreigners_percentage     11.032864\n",
      "total_market_value         0.469484\n",
      "dtype: float64\n",
      "Columns to drop\n",
      "Index(['coach_name'], dtype='object')\n",
      "fill average_age None values with 25.7\n",
      "fill club_code None values with 1-fc-heidenheim-1846\n",
      "fill domestic_competition_id None values with TR1\n",
      "fill foreigners_number None values with 0\n",
      "fill last_season None values with 2023\n",
      "fill name None values with 1. FC Union Berlin\n",
      "fill national_team_players None values with 0\n",
      "fill net_transfer_record None values with +-0\n",
      "fill squad_size None values with 27\n",
      "fill stadium_name None values with AFAS Stadion\n",
      "fill stadium_seats None values with 15000\n",
      "fill url None values with https://www.transfermarkt.co.uk/1-fc-heidenheim-1846/startseite/verein/2036\n",
      "Final data types in clubs:\n",
      "_id                          int64\n",
      "average_age                 object\n",
      "club_code                   object\n",
      "domestic_competition_id     object\n",
      "foreigners_number           object\n",
      "foreigners_percentage      float64\n",
      "last_season                 object\n",
      "name                        object\n",
      "national_team_players       object\n",
      "net_transfer_record         object\n",
      "squad_size                  object\n",
      "stadium_name                object\n",
      "stadium_seats               object\n",
      "total_market_value         float64\n",
      "url                         object\n",
      "dtype: object\n",
      "Missing value percentages in competitions:\n",
      "country_name            16.27907\n",
      "domestic_league_code    16.27907\n",
      "dtype: float64\n",
      "Columns to drop\n",
      "Index([], dtype='object')\n",
      "fill competition_code None values with premier-liga\n",
      "fill _id None values with BE1\n",
      "fill confederation None values with europa\n",
      "fill country_id None values with -1\n",
      "fill country_name None values with England\n",
      "fill domestic_league_code None values with GB1\n",
      "fill name None values with premier-liga\n",
      "fill sub_type None values with first_tier\n",
      "fill type None values with domestic_league\n",
      "fill url None values with https://www.transfermarkt.co.uk/allianz-cup/startseite/wettbewerb/POCP\n",
      "Final data types in competitions:\n",
      "competition_code        object\n",
      "_id                     object\n",
      "confederation           object\n",
      "country_id              object\n",
      "country_name            object\n",
      "domestic_league_code    object\n",
      "name                    object\n",
      "sub_type                object\n",
      "type                    object\n",
      "url                     object\n",
      "dtype: object\n"
     ]
    }
   ],
   "source": [
    "\n",
    "for df_name, df in dfs.items():\n",
    "    # Check for columns with a high percentage of missing values\n",
    "    missing_percentage = df.isnull().sum() / len(df) * 100\n",
    "    print(f'Missing value percentages in {df_name}:')\n",
    "    print(missing_percentage[missing_percentage > 0])\n",
    "    # Drop columns with more than 50% missing values\n",
    "    columns_to_drop = missing_percentage[missing_percentage > 50].index\n",
    "    print(\"Columns to drop\")\n",
    "    print(columns_to_drop)\n",
    "    df.drop(columns=columns_to_drop, inplace=True)\n",
    "    # For columns with less than 50% missing, consider imputation\n",
    "    # For numeric columns, fill with median\n",
    "    numeric_cols = df.select_dtypes(include=['number']).columns\n",
    "    df[numeric_cols] = df[numeric_cols].fillna(df[numeric_cols].median())\n",
    "    # For categorical columns, fill with mode\n",
    "    categorical_cols = df.select_dtypes(include=['object', 'bool']).columns\n",
    "    for col in categorical_cols:\n",
    "        print(f\"fill {col} None values with {df[col].mode().iloc[0]}\")\n",
    "        df[col] = df[col].fillna(df[col].mode().iloc[0])\n",
    "    # Check final data types\n",
    "    print(f'Final data types in {df_name}:')\n",
    "    print(df.dtypes)\n",
    "    #print all the dfs.head"
   ],
   "metadata": {
    "collapsed": false,
    "ExecuteTime": {
     "end_time": "2024-01-20T18:06:34.189940Z",
     "start_time": "2024-01-20T18:06:10.810491Z"
    }
   },
   "id": "7b45092b93e02d3b"
  },
  {
   "cell_type": "markdown",
   "source": [
    "The data types have been checked and missing values have been handled across all dataframes. Here's a summary of the actions taken:\n",
    "\n",
    "- Columns with more than 50% missing values were dropped from the respective dataframes. For example, 'home_club_formation' and 'away_club_formation' in `games.csv` had over 96% missing values and were removed.\n",
    "- Numeric columns with missing values were filled with the median of the column.\n",
    "- Categorical columns with missing values were filled with the mode of the column.\n",
    "- The 'coach_name' column in `clubs.csv` was dropped due to 100% missing values.\n",
    "\n",
    "Here are some specific details for a few dataframes:\n",
    "\n",
    "- `games.csv`: Missing values in 'home_club_position' and 'away_club_position' were around 11.39%, which were filled with the median. The 'attendance' column had 12.74% missing values, also filled with the median.\n",
    "- `players.csv`: Missing values in 'first_name' and 'height_in_cm' were below 10%, filled with the mode and median respectively. The 'market_value_in_eur' column had 36.03% missing values, filled with the median.\n",
    "- `competitions.csv`: The 'country_name' and 'domestic_league_code' had 16.28% missing values, which were filled with the mode.\n",
    "\n",
    "The final data types are appropriate for the analysis, with IDs as objects, numeric values as integers or floats, and dates in datetime format.\n",
    "\n"
   ],
   "metadata": {
    "collapsed": false
   },
   "id": "6dff1424e2730848"
  },
  {
   "cell_type": "markdown",
   "source": [
    "## Type coherence checking"
   ],
   "metadata": {
    "collapsed": false
   },
   "id": "f4117df45a1b2b1d"
  },
  {
   "cell_type": "code",
   "execution_count": 86,
   "outputs": [
    {
     "name": "stdout",
     "output_type": "stream",
     "text": [
      "Current data types in players:\n",
      "_id                             object\n",
      "first_name                      object\n",
      "last_name                       object\n",
      "last_season                     object\n",
      "player_code                     object\n",
      "country_of_birth                object\n",
      "city_of_birth                   object\n",
      "country_of_citizenship          object\n",
      "date_of_birth                   object\n",
      "sub_position                    object\n",
      "position                        object\n",
      "foot                            object\n",
      "height_in_cm                    object\n",
      "market_value_in_eur            float64\n",
      "highest_market_value_in_eur    float64\n",
      "contract_expiration_date        object\n",
      "image_url                       object\n",
      "url                             object\n",
      "current_club_id                  int64\n",
      "dtype: object\n",
      "Final data types in players:\n",
      "_id                            object\n",
      "first_name                     object\n",
      "last_name                      object\n",
      "last_season                    object\n",
      "player_code                    object\n",
      "country_of_birth               object\n",
      "city_of_birth                  object\n",
      "country_of_citizenship         object\n",
      "date_of_birth                  object\n",
      "sub_position                   object\n",
      "position                       object\n",
      "foot                           object\n",
      "height_in_cm                   object\n",
      "market_value_in_eur             Int64\n",
      "highest_market_value_in_eur     Int64\n",
      "contract_expiration_date       object\n",
      "image_url                      object\n",
      "url                            object\n",
      "current_club_id                object\n",
      "dtype: object\n",
      "Current data types in appearances:\n",
      "_id                               object\n",
      "game_id                           object\n",
      "player_id                         object\n",
      "player_club_id                     int64\n",
      "player_current_club_id             int64\n",
      "date                      datetime64[ns]\n",
      "player_name                       object\n",
      "competition_id                    object\n",
      "yellow_cards                       int64\n",
      "red_cards                          int64\n",
      "goals                              int64\n",
      "assists                            int64\n",
      "minutes_played                     int64\n",
      "dtype: object\n",
      "Final data types in appearances:\n",
      "_id                               object\n",
      "game_id                           object\n",
      "player_id                         object\n",
      "player_club_id                    object\n",
      "player_current_club_id            object\n",
      "date                      datetime64[ns]\n",
      "player_name                       object\n",
      "competition_id                    object\n",
      "yellow_cards                       int64\n",
      "red_cards                          int64\n",
      "goals                              int64\n",
      "assists                            int64\n",
      "minutes_played                     int64\n",
      "dtype: object\n",
      "Current data types in lineups:\n",
      "_id             object\n",
      "game_id         object\n",
      "club_id          int64\n",
      "type            object\n",
      "number          object\n",
      "player_id       object\n",
      "player_name     object\n",
      "team_captain      bool\n",
      "position        object\n",
      "dtype: object\n",
      "Final data types in lineups:\n",
      "_id             object\n",
      "game_id         object\n",
      "club_id         object\n",
      "type            object\n",
      "number          object\n",
      "player_id       object\n",
      "player_name     object\n",
      "team_captain      bool\n",
      "position        object\n",
      "dtype: object\n",
      "Current data types in games:\n",
      "_id                           object\n",
      "competition_id                object\n",
      "season                        object\n",
      "round                         object\n",
      "date                  datetime64[ns]\n",
      "home_club_id                   int64\n",
      "away_club_id                   int64\n",
      "home_club_goals                int64\n",
      "away_club_goals                int64\n",
      "home_club_position           float64\n",
      "away_club_position           float64\n",
      "stadium                       object\n",
      "attendance                   float64\n",
      "referee                       object\n",
      "url                           object\n",
      "home_club_name                object\n",
      "away_club_name                object\n",
      "aggregate                     object\n",
      "competition_type              object\n",
      "createdAt             datetime64[ns]\n",
      "updatedAt             datetime64[ns]\n",
      "dtype: object\n",
      "Final data types in games:\n",
      "_id                           object\n",
      "competition_id                object\n",
      "season                        object\n",
      "round                         object\n",
      "date                  datetime64[ns]\n",
      "home_club_id                  object\n",
      "away_club_id                  object\n",
      "home_club_goals                int64\n",
      "away_club_goals                int64\n",
      "home_club_position             Int64\n",
      "away_club_position             Int64\n",
      "stadium                       object\n",
      "attendance                     Int64\n",
      "referee                       object\n",
      "url                           object\n",
      "home_club_name                object\n",
      "away_club_name                object\n",
      "aggregate                     object\n",
      "competition_type              object\n",
      "createdAt             datetime64[ns]\n",
      "updatedAt             datetime64[ns]\n",
      "dtype: object\n",
      "Current data types in valuations:\n",
      "_id                                            object\n",
      "player_id                                      object\n",
      "last_season                                     int64\n",
      "datetime                                       object\n",
      "date                                   datetime64[ns]\n",
      "dateweek                                       object\n",
      "market_value_in_eur                             int64\n",
      "current_club_id                                 int64\n",
      "player_club_domestic_competition_id            object\n",
      "updatedAt                              datetime64[ns]\n",
      "dtype: object\n",
      "Final data types in valuations:\n",
      "_id                                            object\n",
      "player_id                                      object\n",
      "last_season                                     int64\n",
      "datetime                                       object\n",
      "date                                   datetime64[ns]\n",
      "dateweek                                       object\n",
      "market_value_in_eur                             int64\n",
      "current_club_id                                object\n",
      "player_club_domestic_competition_id            object\n",
      "updatedAt                              datetime64[ns]\n",
      "dtype: object\n",
      "Current data types in clubs:\n",
      "_id                          int64\n",
      "average_age                 object\n",
      "club_code                   object\n",
      "domestic_competition_id     object\n",
      "foreigners_number           object\n",
      "foreigners_percentage      float64\n",
      "last_season                 object\n",
      "name                        object\n",
      "national_team_players       object\n",
      "net_transfer_record         object\n",
      "squad_size                  object\n",
      "stadium_name                object\n",
      "stadium_seats               object\n",
      "total_market_value         float64\n",
      "url                         object\n",
      "dtype: object\n",
      "Final data types in clubs:\n",
      "_id                         object\n",
      "average_age                 object\n",
      "club_code                   object\n",
      "domestic_competition_id     object\n",
      "foreigners_number           object\n",
      "foreigners_percentage      float64\n",
      "last_season                 object\n",
      "name                        object\n",
      "national_team_players       object\n",
      "net_transfer_record         object\n",
      "squad_size                  object\n",
      "stadium_name                object\n",
      "stadium_seats               object\n",
      "total_market_value           Int64\n",
      "url                         object\n",
      "dtype: object\n",
      "Current data types in competitions:\n",
      "competition_code        object\n",
      "_id                     object\n",
      "confederation           object\n",
      "country_id              object\n",
      "country_name            object\n",
      "domestic_league_code    object\n",
      "name                    object\n",
      "sub_type                object\n",
      "type                    object\n",
      "url                     object\n",
      "dtype: object\n",
      "Final data types in competitions:\n",
      "competition_code        object\n",
      "_id                     object\n",
      "confederation           object\n",
      "country_id              object\n",
      "country_name            object\n",
      "domestic_league_code    object\n",
      "name                    object\n",
      "sub_type                object\n",
      "type                    object\n",
      "url                     object\n",
      "dtype: object\n"
     ]
    }
   ],
   "source": [
    "# Check and correct data types for each dataframe\n",
    "for df_name, df in dfs.items():\n",
    "    # Check current data types\n",
    "    print(f'Current data types in {df_name}:')\n",
    "    print(df.dtypes)\n",
    "    # Correct data types where necessary\n",
    "    # For IDs, ensure they are strings\n",
    "    id_cols = [col for col in df.columns if 'id' in col or 'code' in col]\n",
    "    df[id_cols] = df[id_cols].astype(str)\n",
    "    # For boolean columns, ensure they are booleans\n",
    "    bool_cols = [col for col in df.columns if df[col].dtype == 'object' and set(df[col].unique()) <= {'True', 'False'}]\n",
    "    df[bool_cols] = df[bool_cols].astype(bool)\n",
    "    # For numeric columns, ensure they are the correct numeric type\n",
    "    # Convert integers stored as floats to integers\n",
    "    float_cols = df.select_dtypes(include=['float']).columns\n",
    "    for col in float_cols:\n",
    "        if df[col].dropna().apply(float.is_integer).all():\n",
    "            df[col] = df[col].astype('Int64')\n",
    "    # Check final data types\n",
    "    print(f'Final data types in {df_name}:')\n",
    "    print(df.dtypes)"
   ],
   "metadata": {
    "collapsed": false,
    "ExecuteTime": {
     "end_time": "2024-01-20T18:06:39.195408Z",
     "start_time": "2024-01-20T18:06:34.214472Z"
    }
   },
   "id": "8296f1d8a37eff9d"
  },
  {
   "cell_type": "markdown",
   "source": [
    "The data types across all dataframes have been reviewed and corrected where necessary. Here are some highlights:\n",
    "\n",
    "- ID and code columns have been converted to strings to ensure consistency.\n",
    "- Boolean columns have been verified and are correctly typed as booleans.\n",
    "- Numeric columns that were incorrectly typed as floats but represent integer values have been converted to integers.\n",
    "For example, in games.csv, home_club_id and away_club_id were converted from integers to strings, and attendance was converted from a float to an integer. Similarly, in players.csv, height_in_cm and market_value_in_eur were converted from floats to integers.\n",
    "\n",
    "The data types are now coherent with the data they represent, which should facilitate accurate and efficient data analysis moving forward."
   ],
   "metadata": {
    "collapsed": false
   },
   "id": "4818a5100c02afb4"
  },
  {
   "cell_type": "markdown",
   "source": [
    "# Data Analysis"
   ],
   "metadata": {
    "collapsed": false
   },
   "id": "6b173abe32588120"
  },
  {
   "cell_type": "markdown",
   "source": [
    "## Clubs performances"
   ],
   "metadata": {
    "collapsed": false
   },
   "id": "b1e2eaf52f53bc3f"
  },
  {
   "cell_type": "markdown",
   "source": [
    "Here's the head of the team performance dataframe showing the total games, home wins, home losses, and home draws for each club"
   ],
   "metadata": {
    "collapsed": false
   },
   "id": "de947310ea63cfaf"
  },
  {
   "cell_type": "code",
   "execution_count": 87,
   "outputs": [
    {
     "data": {
      "text/plain": "  club_id  total_games  home_wins  home_losses  home_draws\n0      10           47         14           21          12\n1    1003          194         94           60          40\n2    1005           47         11           21          15\n3    1010          118         41           50          27\n4    1025          207         76           73          58",
      "text/html": "<div>\n<style scoped>\n    .dataframe tbody tr th:only-of-type {\n        vertical-align: middle;\n    }\n\n    .dataframe tbody tr th {\n        vertical-align: top;\n    }\n\n    .dataframe thead th {\n        text-align: right;\n    }\n</style>\n<table border=\"1\" class=\"dataframe\">\n  <thead>\n    <tr style=\"text-align: right;\">\n      <th></th>\n      <th>club_id</th>\n      <th>total_games</th>\n      <th>home_wins</th>\n      <th>home_losses</th>\n      <th>home_draws</th>\n    </tr>\n  </thead>\n  <tbody>\n    <tr>\n      <th>0</th>\n      <td>10</td>\n      <td>47</td>\n      <td>14</td>\n      <td>21</td>\n      <td>12</td>\n    </tr>\n    <tr>\n      <th>1</th>\n      <td>1003</td>\n      <td>194</td>\n      <td>94</td>\n      <td>60</td>\n      <td>40</td>\n    </tr>\n    <tr>\n      <th>2</th>\n      <td>1005</td>\n      <td>47</td>\n      <td>11</td>\n      <td>21</td>\n      <td>15</td>\n    </tr>\n    <tr>\n      <th>3</th>\n      <td>1010</td>\n      <td>118</td>\n      <td>41</td>\n      <td>50</td>\n      <td>27</td>\n    </tr>\n    <tr>\n      <th>4</th>\n      <td>1025</td>\n      <td>207</td>\n      <td>76</td>\n      <td>73</td>\n      <td>58</td>\n    </tr>\n  </tbody>\n</table>\n</div>"
     },
     "execution_count": 87,
     "metadata": {},
     "output_type": "execute_result"
    }
   ],
   "source": [
    "import pandas as pd\n",
    "from tqdm.notebook import tqdm\n",
    "\n",
    "games_df = dfs['games']\n",
    "\n",
    "# Convert date to datetime and sort the games dataframe by date\n",
    "games_df['date'] = pd.to_datetime(games_df['date'])\n",
    "games_df.sort_values('date', inplace=True)\n",
    "\n",
    "# Calculate total games, wins, draws, and losses for each club\n",
    "team_performance = games_df.groupby('home_club_id').agg(\n",
    "    total_games=('date', 'count'),\n",
    "    home_wins=('home_club_goals', lambda x: (x > games_df.loc[x.index, 'away_club_goals']).sum()),\n",
    "    home_losses=('home_club_goals', lambda x: (x < games_df.loc[x.index, 'away_club_goals']).sum()),\n",
    "    home_draws=('home_club_goals', lambda x: (x == games_df.loc[x.index, 'away_club_goals']).sum())\n",
    ").reset_index()\n",
    "\n",
    "# Rename columns for clarity\n",
    "team_performance.rename(columns={'home_club_id': 'club_id'}, inplace=True)\n",
    "\n",
    "# Display the head of the team performance dataframe\n",
    "team_performance.head()"
   ],
   "metadata": {
    "collapsed": false,
    "ExecuteTime": {
     "end_time": "2024-01-20T18:06:39.552675Z",
     "start_time": "2024-01-20T18:06:39.253027Z"
    }
   },
   "id": "ff687331e95eb920"
  },
  {
   "cell_type": "markdown",
   "source": [
    "This table provides a summary of each club's performance in home games"
   ],
   "metadata": {
    "collapsed": false
   },
   "id": "c6e7247ba0cf4ce3"
  },
  {
   "cell_type": "markdown",
   "source": [
    "# Data Visualization"
   ],
   "metadata": {
    "collapsed": false
   },
   "id": "641722635abd7642"
  },
  {
   "cell_type": "code",
   "execution_count": 104,
   "outputs": [
    {
     "name": "stdout",
     "output_type": "stream",
     "text": [
      "    home_club_id  home_games  home_wins  home_losses  home_draws\n",
      "0             10          47         14           21          12\n",
      "1           1003         194         94           60          40\n",
      "2           1005          47         11           21          15\n",
      "3           1010         118         41           50          27\n",
      "4           1025         207         76           73          58\n",
      "..           ...         ...        ...          ...         ...\n",
      "421          985         292        184           51          57\n",
      "422          987         212         84           89          39\n",
      "423          989         133         45           56          32\n",
      "424          993          28          5           16           7\n",
      "425          995         195         75           66          54\n",
      "\n",
      "[426 rows x 5 columns]\n",
      "    club_id  home_games  home_wins  home_losses  home_draws  away_games  \\\n",
      "174      27         271        213           24          34         279   \n",
      "334     583         266        200           24          42         258   \n",
      "67      131         305        234           32          39         305   \n",
      "250     371         249        185           26          38         252   \n",
      "200     294         265        193           31          41         264   \n",
      "359     660         220        153           31          36         220   \n",
      "286     418         299        220           33          46         298   \n",
      "378     720         255        198           31          26         257   \n",
      "314     506         306        228           32          46         285   \n",
      "189     281         291        222           34          35         296   \n",
      "365     683         248        186           32          30         239   \n",
      "345     610         254        179           37          38         260   \n",
      "258     383         240        181           31          28         246   \n",
      "226     336         241        168           33          40         236   \n",
      "52      124         160        109           26          25         158   \n",
      "\n",
      "     away_wins  away_losses  away_draws  total_games  total_wins  \\\n",
      "174        199           43          37          550         412   \n",
      "334        157           53          48          524         357   \n",
      "67         179           60          66          610         413   \n",
      "250        158           51          43          501         343   \n",
      "200        164           50          50          529         357   \n",
      "359        143           40          37          440         296   \n",
      "286        179           65          54          597         399   \n",
      "378        143           54          60          512         341   \n",
      "314        163           67          55          591         391   \n",
      "189        170           72          54          587         392   \n",
      "365        132           56          51          487         318   \n",
      "345        147           54          59          514         326   \n",
      "258        134           63          49          486         315   \n",
      "226        128           59          49          477         296   \n",
      "52          87           35          36          318         196   \n",
      "\n",
      "     total_losses  total_draws  win_loss_ratio  \n",
      "174            67           71        6.149254  \n",
      "334            77           90        4.636364  \n",
      "67             92          105        4.489130  \n",
      "250            77           81        4.454545  \n",
      "200            81           91        4.407407  \n",
      "359            71           73        4.169014  \n",
      "286            98          100        4.071429  \n",
      "378            85           86        4.011765  \n",
      "314            99          101        3.949495  \n",
      "189           106           89        3.698113  \n",
      "365            88           81        3.613636  \n",
      "345            91           97        3.582418  \n",
      "258            94           77        3.351064  \n",
      "226            92           89        3.217391  \n",
      "52             61           61        3.213115  \n"
     ]
    },
    {
     "data": {
      "text/plain": "<Figure size 1400x700 with 1 Axes>",
      "image/png": "[encoded data removed]"
     },
     "metadata": {},
     "output_type": "display_data"
    },
    {
     "data": {
      "text/plain": "<Figure size 1400x700 with 1 Axes>",
      "image/png": "[encoded data removed]"
     },
     "metadata": {},
     "output_type": "display_data"
    }
   ],
   "source": [
    "import pandas as pd\n",
    "import matplotlib.pyplot as plt\n",
    "import seaborn as sns\n",
    "\n",
    "# Load the games data\n",
    "games_df = dfs['games']\n",
    "\n",
    "# Calculate total games, wins, draws, and losses for each club including away games\n",
    "team_performance_home = games_df.groupby('home_club_id').agg(\n",
    "    home_games=('date', 'count'),\n",
    "    home_wins=('home_club_goals', lambda x: (x > games_df.loc[x.index, 'away_club_goals']).sum()),\n",
    "    home_losses=('home_club_goals', lambda x: (x < games_df.loc[x.index, 'away_club_goals']).sum()),\n",
    "    home_draws=('home_club_goals', lambda x: (x == games_df.loc[x.index, 'away_club_goals']).sum())\n",
    ").reset_index()\n",
    "\n",
    "print(team_performance_home)\n",
    "\n",
    "team_performance_away = games_df.groupby('away_club_id').agg(\n",
    "    away_games=('date', 'count'),\n",
    "    away_wins=('away_club_goals', lambda x: (x > games_df.loc[x.index, 'home_club_goals']).sum()),\n",
    "    away_losses=('away_club_goals', lambda x: (x < games_df.loc[x.index, 'home_club_goals']).sum()),\n",
    "    away_draws=('away_club_goals', lambda x: (x == games_df.loc[x.index, 'home_club_goals']).sum())\n",
    ").reset_index()\n",
    "\n",
    "# Rename columns for clarity\n",
    "team_performance_home.rename(columns={'home_club_id': 'club_id'}, inplace=True)\n",
    "team_performance_away.rename(columns={'away_club_id': 'club_id'}, inplace=True)\n",
    "\n",
    "# Merge the home and away performance dataframes\n",
    "team_performance_combined = pd.merge(team_performance_home, team_performance_away, on='club_id', how='outer')\n",
    "\n",
    "# Calculate total games, wins, draws, and losses\n",
    "team_performance_combined['total_games'] = team_performance_combined['home_games'].fillna(0) + team_performance_combined['away_games'].fillna(0)\n",
    "team_performance_combined['total_wins'] = team_performance_combined['home_wins'].fillna(0) + team_performance_combined['away_wins'].fillna(0)\n",
    "team_performance_combined['total_losses'] = team_performance_combined['home_losses'].fillna(0) + team_performance_combined['away_losses'].fillna(0)\n",
    "team_performance_combined['total_draws'] = team_performance_combined['home_draws'].fillna(0) + team_performance_combined['away_draws'].fillna(0)\n",
    "\n",
    "# Calculate win/loss ratio\n",
    "team_performance_combined['win_loss_ratio'] = team_performance_combined['total_wins'] / team_performance_combined['total_losses']\n",
    "\n",
    "# Filter the dataframe for clubs with a higher number of total games to reduce the number of clubs\n",
    "filtered_team_performance = team_performance_combined[team_performance_combined['total_games'] > team_performance_combined['total_games'].median()]\n",
    "\n",
    "\n",
    "\n",
    "# Plotting the total wins and losses for the filtered clubs\n",
    "plt.figure(figsize=(14, 7))\n",
    "print(filtered_team_performance.sort_values('win_loss_ratio', ascending=False).head(15).sort_values('win_loss_ratio', ascending=False))\n",
    "sns.barplot(x='club_id', y='win_loss_ratio', data=filtered_team_performance.sort_values('win_loss_ratio', ascending=False).head(15).sort_values('win_loss_ratio', ascending=False))\n",
    "plt.title('Win/Loss Ratio of Clubs with More Games')\n",
    "plt.xlabel('Club ID')\n",
    "plt.ylabel('Win/Loss Ratio')\n",
    "plt.xticks(rotation=90)\n",
    "plt.tight_layout()\n",
    "plt.savefig('win_loss_ratio_filtered.png')\n",
    "plt.show()\n",
    "\n",
    "# Plotting the total draws for the filtered clubs\n",
    "plt.figure(figsize=(14, 7))\n",
    "sns.barplot(x='club_id', y='total_draws', data=filtered_team_performance.sort_values('total_draws', ascending=False).head(15))\n",
    "plt.title('Total Draws for Clubs with More Games')\n",
    "plt.xlabel('Club ID')\n",
    "plt.ylabel('Total Draws')\n",
    "plt.xticks(rotation=90)\n",
    "plt.tight_layout()\n",
    "plt.savefig('total_draws_filtered.png')\n",
    "plt.show()\n"
   ],
   "metadata": {
    "collapsed": false,
    "ExecuteTime": {
     "end_time": "2024-01-20T18:19:57.750268Z",
     "start_time": "2024-01-20T18:19:57.093307Z"
    }
   },
   "id": "d1cb95bf8f8d97f4"
  },
  {
   "cell_type": "code",
   "execution_count": 89,
   "outputs": [
    {
     "name": "stdout",
     "output_type": "stream",
     "text": [
      "                        _id first_name   last_name last_season  \\\n",
      "0  6574baf3975bb4cdf6a0071b       Timo  Hildebrand        2014   \n",
      "1  6574baf3975bb4cdf6a0071d     Martin      Petrov        2012   \n",
      "2  6574baf3975bb4cdf6a0073a     Martin     Amedick        2012   \n",
      "3  6574baf3975bb4cdf6a007a2   Jermaine     Pennant        2013   \n",
      "4  6574baf3975bb4cdf6a007ad     Damien        Duff        2013   \n",
      "\n",
      "        player_code country_of_birth city_of_birth country_of_citizenship  \\\n",
      "0   timo-hildebrand          Germany         Worms                Germany   \n",
      "1     martin-petrov         Bulgaria        Vratsa               Bulgaria   \n",
      "2    martin-amedick          Germany     Paderborn                Germany   \n",
      "3  jermaine-pennant          England    Nottingham                England   \n",
      "4       damien-duff          Ireland    Ballyboden                Ireland   \n",
      "\n",
      "  date_of_birth    sub_position    position   foot height_in_cm  \\\n",
      "0    1979-04-05      Goalkeeper  Goalkeeper  right          180   \n",
      "1    1979-01-15     Left Winger      Attack  right          180   \n",
      "2    1982-09-06     Centre-Back    Defender  right          180   \n",
      "3    1983-01-15    Right Winger      Attack  right          173   \n",
      "4    1979-03-02  Right Midfield    Midfield   left          177   \n",
      "\n",
      "   market_value_in_eur  highest_market_value_in_eur contract_expiration_date  \\\n",
      "0               350000                     10000000      2024-06-30 00:00:00   \n",
      "1               350000                     12000000      2024-06-30 00:00:00   \n",
      "2               350000                      2750000      2024-06-30 00:00:00   \n",
      "3               350000                     10500000      2024-06-30 00:00:00   \n",
      "4               350000                     17000000      2024-06-30 00:00:00   \n",
      "\n",
      "                                           image_url  \\\n",
      "0  https://img.a.transfermarkt.technology/portrai...   \n",
      "1  https://img.a.transfermarkt.technology/portrai...   \n",
      "2  https://img.a.transfermarkt.technology/portrai...   \n",
      "3  https://img.a.transfermarkt.technology/portrai...   \n",
      "4  https://img.a.transfermarkt.technology/portrai...   \n",
      "\n",
      "                                                 url current_club_id  \n",
      "0  https://www.transfermarkt.co.uk/timo-hildebran...              24  \n",
      "1  https://www.transfermarkt.co.uk/martin-petrov/...             714  \n",
      "2  https://www.transfermarkt.co.uk/martin-amedick...              24  \n",
      "3  https://www.transfermarkt.co.uk/jermaine-penna...             512  \n",
      "4  https://www.transfermarkt.co.uk/damien-duff/pr...             931  \n",
      "{'Defender', 'Midfield', 'Missing', 'Attack', 'Goalkeeper'}\n"
     ]
    },
    {
     "data": {
      "text/plain": "<Figure size 640x480 with 1 Axes>",
      "image/png": "[encoded data removed]"
     },
     "metadata": {},
     "output_type": "display_data"
    }
   ],
   "source": [
    "\n",
    "player_df = dfs['players']\n",
    "print(player_df.head())\n",
    "average_values = player_df.groupby('position')['market_value_in_eur'].mean()\n",
    "print(set(player_df['position']))\n",
    "# Step 3: Plot the results\n",
    "average_values.plot(kind='bar')\n",
    "plt.xlabel('Player Position')\n",
    "plt.ylabel('Average Market Value in EUR')\n",
    "plt.title('Average Market Value by Player Position')\n",
    "plt.show()"
   ],
   "metadata": {
    "collapsed": false,
    "ExecuteTime": {
     "end_time": "2024-01-20T18:06:40.542907Z",
     "start_time": "2024-01-20T18:06:40.316108Z"
    }
   },
   "id": "34f0afd080cd22c5"
  },
  {
   "cell_type": "code",
   "execution_count": 103,
   "outputs": [
    {
     "data": {
      "text/plain": "<Figure size 640x480 with 1 Axes>",
      "image/png": "[encoded data removed]"
     },
     "metadata": {},
     "output_type": "display_data"
    }
   ],
   "source": [
    "# strangers percentage for each club\n",
    "clubs_df = dfs['clubs']\n",
    "#column is foreigners_percentage\n",
    "selected_clubs = clubs_df.sort_values(\"foreigners_percentage\", ascending=False)[['name', 'foreigners_percentage']].iloc[0:5]\n",
    "\n",
    "# Step 3: Plot the data\n",
    "selected_clubs.set_index('name').plot(kind='bar', y='foreigners_percentage', legend=False)\n",
    "plt.xlabel('Club')\n",
    "plt.ylabel('Foreigners Percentage')\n",
    "plt.title('Foreign Players Percentage in Clubs')\n",
    "plt.xticks(rotation=45)\n",
    "plt.show()"
   ],
   "metadata": {
    "collapsed": false,
    "ExecuteTime": {
     "end_time": "2024-01-20T18:19:50.887079Z",
     "start_time": "2024-01-20T18:19:50.807037Z"
    }
   },
   "id": "72bfa37d426ad254"
  },
  {
   "cell_type": "code",
   "execution_count": null,
   "outputs": [],
   "source": [],
   "metadata": {
    "collapsed": false
   },
   "id": "ac3b5f03006750cf"
  }
 ],
 "metadata": {
  "kernelspec": {
   "display_name": "Python 3",
   "language": "python",
   "name": "python3"
  },
  "language_info": {
   "codemirror_mode": {
    "name": "ipython",
    "version": 2
   },
   "file_extension": ".py",
   "mimetype": "text/x-python",
   "name": "python",
   "nbconvert_exporter": "python",
   "pygments_lexer": "ipython2",
   "version": "2.7.6"
  }
 },
 "nbformat": 4,
 "nbformat_minor": 5
}
