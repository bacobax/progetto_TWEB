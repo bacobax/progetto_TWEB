{
 "cells": [
  {
   "cell_type": "code",
   "execution_count": 1,
   "id": "initial_id",
   "metadata": {
    "collapsed": true,
    "ExecuteTime": {
     "end_time": "2024-01-03T11:18:38.293716Z",
     "start_time": "2024-01-03T11:18:37.562838Z"
    }
   },
   "outputs": [],
   "source": [
    "import pandas as pd"
   ]
  },
  {
   "cell_type": "code",
   "execution_count": 2,
   "outputs": [
    {
     "name": "stderr",
     "output_type": "stream",
     "text": [
      "/var/folders/q6/bw_h2w9d6js7mn__0srnx8rm0000gn/T/ipykernel_1659/504344041.py:4: DtypeWarning: Columns (7) have mixed types. Specify dtype option on import or set low_memory=False.\n",
      "  game_events = pd.read_csv(\"../../datasets/game_events.csv\")\n"
     ]
    }
   ],
   "source": [
    "new_appearances = pd.read_csv(\"../../datasets/new_appearances.csv\")\n",
    "new_games = pd.read_csv(\"../../datasets/new_games.csv\")\n",
    "competitions = pd.read_csv(\"../../datasets/competitions.csv\")\n",
    "game_events = pd.read_csv(\"../../datasets/game_events.csv\")\n",
    "new_player_valuations = pd.read_csv(\"../../datasets/new_player_valuations.csv\")\n",
    "new_players = pd.read_csv(\"../../datasets/new_players.csv\")\n",
    "clubs = pd.read_csv(\"../../datasets/clubs.csv\")\n",
    "game_lineups = pd.read_csv(\"../../datasets/game_lineups.csv\")"
   ],
   "metadata": {
    "collapsed": false,
    "ExecuteTime": {
     "end_time": "2024-01-03T11:21:38.157018Z",
     "start_time": "2024-01-03T11:21:36.049576Z"
    }
   },
   "id": "222dc58df2a5028d"
  },
  {
   "cell_type": "code",
   "execution_count": 7,
   "outputs": [
    {
     "name": "stdout",
     "output_type": "stream",
     "text": [
      "<class 'pandas.core.frame.DataFrame'>\n",
      "RangeIndex: 355471 entries, 0 to 355470\n",
      "Data columns (total 10 columns):\n",
      " #   Column            Non-Null Count   Dtype         \n",
      "---  ------            --------------   -----         \n",
      " 0   game_event_id     355471 non-null  object        \n",
      " 1   date              355471 non-null  datetime64[ns]\n",
      " 2   game_id           355471 non-null  int64         \n",
      " 3   minute            355471 non-null  int64         \n",
      " 4   type              355471 non-null  object        \n",
      " 5   club_id           355471 non-null  int64         \n",
      " 6   player_id         355471 non-null  int64         \n",
      " 7   description       355471 non-null  object        \n",
      " 8   player_in_id      355471 non-null  float64       \n",
      " 9   player_assist_id  0 non-null       float64       \n",
      "dtypes: datetime64[ns](1), float64(2), int64(4), object(3)\n",
      "memory usage: 27.1+ MB\n"
     ]
    }
   ],
   "source": [
    "game_events.info()"
   ],
   "metadata": {
    "collapsed": false,
    "ExecuteTime": {
     "end_time": "2024-01-03T11:24:33.226817Z",
     "start_time": "2024-01-03T11:24:33.190713Z"
    }
   },
   "id": "1f8f3a85d5fbe972"
  },
  {
   "cell_type": "code",
   "execution_count": 6,
   "outputs": [],
   "source": [
    "#set type string of column \"description\"\n",
    "game_events[\"description\"] = game_events[\"description\"].astype(str)\n",
    "#same for \"game_event_id\"\n",
    "game_events[\"game_event_id\"] = game_events[\"game_event_id\"].astype(str)\n",
    "#same for \"date\" but with date type\n",
    "game_events[\"date\"] = pd.to_datetime(game_events[\"date\"])"
   ],
   "metadata": {
    "collapsed": false,
    "ExecuteTime": {
     "end_time": "2024-01-03T11:24:20.840993Z",
     "start_time": "2024-01-03T11:24:20.801366Z"
    }
   },
   "id": "e4946e3566aeb90"
  },
  {
   "cell_type": "code",
   "execution_count": null,
   "outputs": [],
   "source": [],
   "metadata": {
    "collapsed": false
   },
   "id": "d2eb7609653b284d"
  }
 ],
 "metadata": {
  "kernelspec": {
   "display_name": "Python 3",
   "language": "python",
   "name": "python3"
  },
  "language_info": {
   "codemirror_mode": {
    "name": "ipython",
    "version": 2
   },
   "file_extension": ".py",
   "mimetype": "text/x-python",
   "name": "python",
   "nbconvert_exporter": "python",
   "pygments_lexer": "ipython2",
   "version": "2.7.6"
  }
 },
 "nbformat": 4,
 "nbformat_minor": 5
}
