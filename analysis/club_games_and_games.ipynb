{
 "cells": [
  {
   "cell_type": "markdown",
   "source": [
    "# Usefulness club_game dataset\n",
    "Hanging around in the club_game and games datasets, it seemed that the two contents were too similar. \n",
    "So in the lines below I tried to find out if there is any usefulness in keeping both datasets."
   ],
   "metadata": {
    "collapsed": false
   },
   "id": "7e0b3e76c7c06c59"
  },
  {
   "cell_type": "code",
   "execution_count": 55,
   "outputs": [],
   "source": [
    "import pandas as pd\n",
    "import numpy as np\n",
    "# Show the first linesing csv(\"../datasets/club_games.csv\")\n",
    "games = pd.read_csv(\"../datasets/games.csv\")\n",
    "club_games = pd.read_csv(\"../datasets/club_games.csv\")"
   ],
   "metadata": {
    "collapsed": false,
    "ExecuteTime": {
     "end_time": "2023-12-06T11:46:28.409037Z",
     "start_time": "2023-12-06T11:46:28.101152Z"
    }
   },
   "id": "f895820433021c6e"
  },
  {
   "cell_type": "markdown",
   "source": [
    "# Showing the first lines..."
   ],
   "metadata": {
    "collapsed": false
   },
   "id": "5120c304b9b530dd"
  },
  {
   "cell_type": "code",
   "execution_count": 46,
   "outputs": [
    {
     "data": {
      "text/plain": "   game_id competition_id  season         round        date  home_club_id  \\\n0  2222597            RU1    2012   6. Matchday  2012-08-25          3725   \n1  2222627            RU1    2012   5. Matchday  2012-08-20          2696   \n2  2222658            RU1    2012  10. Matchday  2012-09-30          2410   \n3  2222664            RU1    2012   8. Matchday  2012-09-15           932   \n4  2222683            RU1    2012  12. Matchday  2012-10-22          2696   \n\n   away_club_id  home_club_goals  away_club_goals  home_club_position  ...  \\\n0           232                2                1                 2.0  ...   \n1          4128                0                2                11.0  ...   \n2           121                0                2                 2.0  ...   \n3          2698                1                0                 5.0  ...   \n4         12438                0                1                11.0  ...   \n\n        stadium attendance               referee  \\\n0  Akhmat-Arena    21700.0  Vladislav Bezborodov   \n1     Metallurg    11400.0         Sergey Ivanov   \n2  Arena Khimki    12000.0        Sergey Karasev   \n3     RZD Arena    11408.0        Sergey Karasev   \n4     Metallurg     7534.0     Timur Arslanbekov   \n\n                                                 url  home_club_formation  \\\n0  https://www.transfermarkt.co.uk/terek-grozny_s...                  NaN   \n1  https://www.transfermarkt.co.uk/krylya-sovetov...                  NaN   \n2  https://www.transfermarkt.co.uk/cska-moscow_di...                  NaN   \n3  https://www.transfermarkt.co.uk/lokomotiv-mosc...                  NaN   \n4  https://www.transfermarkt.co.uk/krylya-sovetov...                  NaN   \n\n  away_club_formation                      home_club_name  \\\n0                 NaN                   RFK Akhmat Grozny   \n1                 NaN           PFK Krylya Sovetov Samara   \n2                 NaN                     PFK CSKA Moskva   \n3                 NaN  Футбольный клуб \"Локомотив\" Москва   \n4                 NaN           PFK Krylya Sovetov Samara   \n\n                    away_club_name aggregate competition_type  \n0                FK Spartak Moskva       2:1  domestic_league  \n1                       Amkar Perm       0:2  domestic_league  \n2                 FK Dinamo Moskva       0:2  domestic_league  \n3                   FC Rubin Kazan       1:0  domestic_league  \n4  Volga Nizhniy Novgorod (- 2016)       0:1  domestic_league  \n\n[5 rows x 23 columns]",
      "text/html": "<div>\n<style scoped>\n    .dataframe tbody tr th:only-of-type {\n        vertical-align: middle;\n    }\n\n    .dataframe tbody tr th {\n        vertical-align: top;\n    }\n\n    .dataframe thead th {\n        text-align: right;\n    }\n</style>\n<table border=\"1\" class=\"dataframe\">\n  <thead>\n    <tr style=\"text-align: right;\">\n      <th></th>\n      <th>game_id</th>\n      <th>competition_id</th>\n      <th>season</th>\n      <th>round</th>\n      <th>date</th>\n      <th>home_club_id</th>\n      <th>away_club_id</th>\n      <th>home_club_goals</th>\n      <th>away_club_goals</th>\n      <th>home_club_position</th>\n      <th>...</th>\n      <th>stadium</th>\n      <th>attendance</th>\n      <th>referee</th>\n      <th>url</th>\n      <th>home_club_formation</th>\n      <th>away_club_formation</th>\n      <th>home_club_name</th>\n      <th>away_club_name</th>\n      <th>aggregate</th>\n      <th>competition_type</th>\n    </tr>\n  </thead>\n  <tbody>\n    <tr>\n      <th>0</th>\n      <td>2222597</td>\n      <td>RU1</td>\n      <td>2012</td>\n      <td>6. Matchday</td>\n      <td>2012-08-25</td>\n      <td>3725</td>\n      <td>232</td>\n      <td>2</td>\n      <td>1</td>\n      <td>2.0</td>\n      <td>...</td>\n      <td>Akhmat-Arena</td>\n      <td>21700.0</td>\n      <td>Vladislav Bezborodov</td>\n      <td>https://www.transfermarkt.co.uk/terek-grozny_s...</td>\n      <td>NaN</td>\n      <td>NaN</td>\n      <td>RFK Akhmat Grozny</td>\n      <td>FK Spartak Moskva</td>\n      <td>2:1</td>\n      <td>domestic_league</td>\n    </tr>\n    <tr>\n      <th>1</th>\n      <td>2222627</td>\n      <td>RU1</td>\n      <td>2012</td>\n      <td>5. Matchday</td>\n      <td>2012-08-20</td>\n      <td>2696</td>\n      <td>4128</td>\n      <td>0</td>\n      <td>2</td>\n      <td>11.0</td>\n      <td>...</td>\n      <td>Metallurg</td>\n      <td>11400.0</td>\n      <td>Sergey Ivanov</td>\n      <td>https://www.transfermarkt.co.uk/krylya-sovetov...</td>\n      <td>NaN</td>\n      <td>NaN</td>\n      <td>PFK Krylya Sovetov Samara</td>\n      <td>Amkar Perm</td>\n      <td>0:2</td>\n      <td>domestic_league</td>\n    </tr>\n    <tr>\n      <th>2</th>\n      <td>2222658</td>\n      <td>RU1</td>\n      <td>2012</td>\n      <td>10. Matchday</td>\n      <td>2012-09-30</td>\n      <td>2410</td>\n      <td>121</td>\n      <td>0</td>\n      <td>2</td>\n      <td>2.0</td>\n      <td>...</td>\n      <td>Arena Khimki</td>\n      <td>12000.0</td>\n      <td>Sergey Karasev</td>\n      <td>https://www.transfermarkt.co.uk/cska-moscow_di...</td>\n      <td>NaN</td>\n      <td>NaN</td>\n      <td>PFK CSKA Moskva</td>\n      <td>FK Dinamo Moskva</td>\n      <td>0:2</td>\n      <td>domestic_league</td>\n    </tr>\n    <tr>\n      <th>3</th>\n      <td>2222664</td>\n      <td>RU1</td>\n      <td>2012</td>\n      <td>8. Matchday</td>\n      <td>2012-09-15</td>\n      <td>932</td>\n      <td>2698</td>\n      <td>1</td>\n      <td>0</td>\n      <td>5.0</td>\n      <td>...</td>\n      <td>RZD Arena</td>\n      <td>11408.0</td>\n      <td>Sergey Karasev</td>\n      <td>https://www.transfermarkt.co.uk/lokomotiv-mosc...</td>\n      <td>NaN</td>\n      <td>NaN</td>\n      <td>Футбольный клуб \"Локомотив\" Москва</td>\n      <td>FC Rubin Kazan</td>\n      <td>1:0</td>\n      <td>domestic_league</td>\n    </tr>\n    <tr>\n      <th>4</th>\n      <td>2222683</td>\n      <td>RU1</td>\n      <td>2012</td>\n      <td>12. Matchday</td>\n      <td>2012-10-22</td>\n      <td>2696</td>\n      <td>12438</td>\n      <td>0</td>\n      <td>1</td>\n      <td>11.0</td>\n      <td>...</td>\n      <td>Metallurg</td>\n      <td>7534.0</td>\n      <td>Timur Arslanbekov</td>\n      <td>https://www.transfermarkt.co.uk/krylya-sovetov...</td>\n      <td>NaN</td>\n      <td>NaN</td>\n      <td>PFK Krylya Sovetov Samara</td>\n      <td>Volga Nizhniy Novgorod (- 2016)</td>\n      <td>0:1</td>\n      <td>domestic_league</td>\n    </tr>\n  </tbody>\n</table>\n<p>5 rows × 23 columns</p>\n</div>"
     },
     "execution_count": 46,
     "metadata": {},
     "output_type": "execute_result"
    }
   ],
   "source": [
    "games.head()"
   ],
   "metadata": {
    "collapsed": false,
    "ExecuteTime": {
     "end_time": "2023-12-06T09:18:13.769970Z",
     "start_time": "2023-12-06T09:18:13.767179Z"
    }
   },
   "id": "cb09056399ac22b7"
  },
  {
   "cell_type": "code",
   "execution_count": 4,
   "outputs": [
    {
     "data": {
      "text/plain": "   game_id  club_id  own_goals  own_position      own_manager_name  \\\n0  2221751      431          1           NaN         Lutz Göttling   \n1  2221755       83          3           NaN      Ralph Hasenhüttl   \n2  2222597     3725          2           2.0  Stanislav Cherchesov   \n3  2222627     2696          0          11.0        Andrey Kobelev   \n4  2222658     2410          0           2.0        Leonid Slutski   \n\n   opponent_id  opponent_goals  opponent_position opponent_manager_name  \\\n0           60               2                NaN     Christian Streich   \n1         4795               0                NaN            Tomas Oral   \n2          232               1                5.0            Unai Emery   \n3         4128               2               10.0         Rustem Khuzin   \n4          121               2               13.0          Dan Petrescu   \n\n  hosting  is_win  \n0    Home       0  \n1    Home       1  \n2    Home       1  \n3    Home       0  \n4    Home       0  ",
      "text/html": "<div>\n<style scoped>\n    .dataframe tbody tr th:only-of-type {\n        vertical-align: middle;\n    }\n\n    .dataframe tbody tr th {\n        vertical-align: top;\n    }\n\n    .dataframe thead th {\n        text-align: right;\n    }\n</style>\n<table border=\"1\" class=\"dataframe\">\n  <thead>\n    <tr style=\"text-align: right;\">\n      <th></th>\n      <th>game_id</th>\n      <th>club_id</th>\n      <th>own_goals</th>\n      <th>own_position</th>\n      <th>own_manager_name</th>\n      <th>opponent_id</th>\n      <th>opponent_goals</th>\n      <th>opponent_position</th>\n      <th>opponent_manager_name</th>\n      <th>hosting</th>\n      <th>is_win</th>\n    </tr>\n  </thead>\n  <tbody>\n    <tr>\n      <th>0</th>\n      <td>2221751</td>\n      <td>431</td>\n      <td>1</td>\n      <td>NaN</td>\n      <td>Lutz Göttling</td>\n      <td>60</td>\n      <td>2</td>\n      <td>NaN</td>\n      <td>Christian Streich</td>\n      <td>Home</td>\n      <td>0</td>\n    </tr>\n    <tr>\n      <th>1</th>\n      <td>2221755</td>\n      <td>83</td>\n      <td>3</td>\n      <td>NaN</td>\n      <td>Ralph Hasenhüttl</td>\n      <td>4795</td>\n      <td>0</td>\n      <td>NaN</td>\n      <td>Tomas Oral</td>\n      <td>Home</td>\n      <td>1</td>\n    </tr>\n    <tr>\n      <th>2</th>\n      <td>2222597</td>\n      <td>3725</td>\n      <td>2</td>\n      <td>2.0</td>\n      <td>Stanislav Cherchesov</td>\n      <td>232</td>\n      <td>1</td>\n      <td>5.0</td>\n      <td>Unai Emery</td>\n      <td>Home</td>\n      <td>1</td>\n    </tr>\n    <tr>\n      <th>3</th>\n      <td>2222627</td>\n      <td>2696</td>\n      <td>0</td>\n      <td>11.0</td>\n      <td>Andrey Kobelev</td>\n      <td>4128</td>\n      <td>2</td>\n      <td>10.0</td>\n      <td>Rustem Khuzin</td>\n      <td>Home</td>\n      <td>0</td>\n    </tr>\n    <tr>\n      <th>4</th>\n      <td>2222658</td>\n      <td>2410</td>\n      <td>0</td>\n      <td>2.0</td>\n      <td>Leonid Slutski</td>\n      <td>121</td>\n      <td>2</td>\n      <td>13.0</td>\n      <td>Dan Petrescu</td>\n      <td>Home</td>\n      <td>0</td>\n    </tr>\n  </tbody>\n</table>\n</div>"
     },
     "execution_count": 4,
     "metadata": {},
     "output_type": "execute_result"
    }
   ],
   "source": [
    "game_clubs.head()"
   ],
   "metadata": {
    "collapsed": false,
    "ExecuteTime": {
     "end_time": "2023-12-05T16:56:12.045882Z",
     "start_time": "2023-12-05T16:56:12.034994Z"
    }
   },
   "id": "9ce2a97ec101418f"
  },
  {
   "cell_type": "markdown",
   "source": [
    "# Showing the columns\n",
    "This part is important in order to notice that the purpose of all the game_clubs columns is the same as some of the games columns."
   ],
   "metadata": {
    "collapsed": false
   },
   "id": "9ed972743882ee5c"
  },
  {
   "cell_type": "code",
   "execution_count": 52,
   "outputs": [
    {
     "name": "stdout",
     "output_type": "stream",
     "text": [
      "<class 'pandas.core.frame.DataFrame'>\n",
      "RangeIndex: 65216 entries, 0 to 65215\n",
      "Data columns (total 23 columns):\n",
      " #   Column                  Non-Null Count  Dtype  \n",
      "---  ------                  --------------  -----  \n",
      " 0   game_id                 65216 non-null  int64  \n",
      " 1   competition_id          65216 non-null  object \n",
      " 2   season                  65216 non-null  int64  \n",
      " 3   round                   65216 non-null  object \n",
      " 4   date                    65216 non-null  object \n",
      " 5   home_club_id            65216 non-null  int64  \n",
      " 6   away_club_id            65216 non-null  int64  \n",
      " 7   home_club_goals         65216 non-null  int64  \n",
      " 8   away_club_goals         65216 non-null  int64  \n",
      " 9   home_club_position      45762 non-null  float64\n",
      " 10  away_club_position      45762 non-null  float64\n",
      " 11  home_club_manager_name  64474 non-null  object \n",
      " 12  away_club_manager_name  64474 non-null  object \n",
      " 13  stadium                 65005 non-null  object \n",
      " 14  attendance              55704 non-null  float64\n",
      " 15  referee                 64622 non-null  object \n",
      " 16  url                     65216 non-null  object \n",
      " 17  home_club_formation     2869 non-null   object \n",
      " 18  away_club_formation     2888 non-null   object \n",
      " 19  home_club_name          53964 non-null  object \n",
      " 20  away_club_name          55167 non-null  object \n",
      " 21  aggregate               65216 non-null  object \n",
      " 22  competition_type        65216 non-null  object \n",
      "dtypes: float64(3), int64(6), object(14)\n",
      "memory usage: 11.4+ MB\n"
     ]
    }
   ],
   "source": [
    "games.info()"
   ],
   "metadata": {
    "collapsed": false,
    "ExecuteTime": {
     "end_time": "2023-12-06T11:28:39.867464Z",
     "start_time": "2023-12-06T11:28:39.829277Z"
    }
   },
   "id": "faa0df7e4cc3bfad"
  },
  {
   "cell_type": "code",
   "execution_count": 6,
   "outputs": [
    {
     "name": "stdout",
     "output_type": "stream",
     "text": [
      "<class 'pandas.core.frame.DataFrame'>\n",
      "RangeIndex: 130432 entries, 0 to 130431\n",
      "Data columns (total 11 columns):\n",
      " #   Column                 Non-Null Count   Dtype  \n",
      "---  ------                 --------------   -----  \n",
      " 0   game_id                130432 non-null  int64  \n",
      " 1   club_id                130432 non-null  int64  \n",
      " 2   own_goals              130432 non-null  int64  \n",
      " 3   own_position           91524 non-null   float64\n",
      " 4   own_manager_name       128948 non-null  object \n",
      " 5   opponent_id            130432 non-null  int64  \n",
      " 6   opponent_goals         130432 non-null  int64  \n",
      " 7   opponent_position      91524 non-null   float64\n",
      " 8   opponent_manager_name  128948 non-null  object \n",
      " 9   hosting                130432 non-null  object \n",
      " 10  is_win                 130432 non-null  int64  \n",
      "dtypes: float64(2), int64(6), object(3)\n",
      "memory usage: 10.9+ MB\n"
     ]
    }
   ],
   "source": [
    "game_clubs.info()"
   ],
   "metadata": {
    "collapsed": false,
    "ExecuteTime": {
     "end_time": "2023-12-05T16:56:58.135704Z",
     "start_time": "2023-12-05T16:56:58.127420Z"
    }
   },
   "id": "c0fcae8942471bf"
  },
  {
   "cell_type": "markdown",
   "source": [
    "# Mapping \"same-purpose\" columns"
   ],
   "metadata": {
    "collapsed": false
   },
   "id": "2016f12bfacf6b8a"
  },
  {
   "cell_type": "code",
   "execution_count": 56,
   "outputs": [],
   "source": [
    "club_games_to_game = {\n",
    "    'game_id' : 'game_id',\n",
    "    'club_id' : 'home_club_id',\n",
    "    'own_goals' : 'home_club_goals',\n",
    "    'own_position' : 'home_club_position',\n",
    "    'own_manager_name' : 'home_club_manager_name',\n",
    "    'opponent_id' : 'away_club_id',\n",
    "    'opponent_goals' : 'away_club_goals',\n",
    "    'opponent_position' : 'away_club_position',\n",
    "    'opponent_manager_name' : 'away_club_manager_name',\n",
    "    'hosting' : 'stadium'\n",
    "}"
   ],
   "metadata": {
    "collapsed": false,
    "ExecuteTime": {
     "end_time": "2023-12-06T11:46:52.708482Z",
     "start_time": "2023-12-06T11:46:52.706920Z"
    }
   },
   "id": "35399fc61cab46c3"
  },
  {
   "cell_type": "markdown",
   "source": [
    "# Removing useless columns in games\n",
    "This part help me to know wich informations that are present in `club_games` are also present in `games` dataset and which are not."
   ],
   "metadata": {
    "collapsed": false
   },
   "id": "e155162d7bb2130a"
  },
  {
   "cell_type": "code",
   "execution_count": 59,
   "outputs": [
    {
     "name": "stdout",
     "output_type": "stream",
     "text": [
      "remaining keys:\n",
      "['is_win']\n"
     ]
    }
   ],
   "source": [
    "games_keys = np.copy(games.keys())\n",
    "club_games_keys = np.copy(club_games.keys())\n",
    "dict_keys = club_games_to_game.keys()\n",
    "\n",
    "#mask for club_games_keys, if key is in dict_keys' keys , then we don't keep it\n",
    "mask = np.array([key in dict_keys for key in club_games_keys])\n",
    "club_games_keys = club_games_keys[~mask]\n",
    "\n",
    "print(\"remaining keys:\")\n",
    "print(club_games_keys)"
   ],
   "metadata": {
    "collapsed": false,
    "ExecuteTime": {
     "end_time": "2023-12-06T11:54:08.531009Z",
     "start_time": "2023-12-06T11:54:08.525297Z"
    }
   },
   "id": "1a36a5ef67c72324"
  },
  {
   "cell_type": "markdown",
   "source": [
    "is_win if easily to get with the information about the goals in games dataset, so it is also redoundant"
   ],
   "metadata": {
    "collapsed": false
   },
   "id": "125289b075df0ae3"
  },
  {
   "cell_type": "markdown",
   "source": [
    "# Verify the content is the same"
   ],
   "metadata": {
    "collapsed": false
   },
   "id": "97554c39fb2f2c03"
  },
  {
   "cell_type": "code",
   "execution_count": 68,
   "outputs": [
    {
     "data": {
      "text/plain": "        club_id  opponent_id  home_club_id  away_club_id\n0          3725          232          3725           232\n1           232         3725          3725           232\n2          2696         4128          2696          4128\n3          4128         2696          2696          4128\n4          2410          121          2410           121\n...         ...          ...           ...           ...\n130427      713          383           383           713\n130428      512         1194           512          1194\n130429     1194          512           512          1194\n130430      512         3684           512          3684\n130431     3684          512           512          3684\n\n[130432 rows x 4 columns]",
      "text/html": "<div>\n<style scoped>\n    .dataframe tbody tr th:only-of-type {\n        vertical-align: middle;\n    }\n\n    .dataframe tbody tr th {\n        vertical-align: top;\n    }\n\n    .dataframe thead th {\n        text-align: right;\n    }\n</style>\n<table border=\"1\" class=\"dataframe\">\n  <thead>\n    <tr style=\"text-align: right;\">\n      <th></th>\n      <th>club_id</th>\n      <th>opponent_id</th>\n      <th>home_club_id</th>\n      <th>away_club_id</th>\n    </tr>\n  </thead>\n  <tbody>\n    <tr>\n      <th>0</th>\n      <td>3725</td>\n      <td>232</td>\n      <td>3725</td>\n      <td>232</td>\n    </tr>\n    <tr>\n      <th>1</th>\n      <td>232</td>\n      <td>3725</td>\n      <td>3725</td>\n      <td>232</td>\n    </tr>\n    <tr>\n      <th>2</th>\n      <td>2696</td>\n      <td>4128</td>\n      <td>2696</td>\n      <td>4128</td>\n    </tr>\n    <tr>\n      <th>3</th>\n      <td>4128</td>\n      <td>2696</td>\n      <td>2696</td>\n      <td>4128</td>\n    </tr>\n    <tr>\n      <th>4</th>\n      <td>2410</td>\n      <td>121</td>\n      <td>2410</td>\n      <td>121</td>\n    </tr>\n    <tr>\n      <th>...</th>\n      <td>...</td>\n      <td>...</td>\n      <td>...</td>\n      <td>...</td>\n    </tr>\n    <tr>\n      <th>130427</th>\n      <td>713</td>\n      <td>383</td>\n      <td>383</td>\n      <td>713</td>\n    </tr>\n    <tr>\n      <th>130428</th>\n      <td>512</td>\n      <td>1194</td>\n      <td>512</td>\n      <td>1194</td>\n    </tr>\n    <tr>\n      <th>130429</th>\n      <td>1194</td>\n      <td>512</td>\n      <td>512</td>\n      <td>1194</td>\n    </tr>\n    <tr>\n      <th>130430</th>\n      <td>512</td>\n      <td>3684</td>\n      <td>512</td>\n      <td>3684</td>\n    </tr>\n    <tr>\n      <th>130431</th>\n      <td>3684</td>\n      <td>512</td>\n      <td>512</td>\n      <td>3684</td>\n    </tr>\n  </tbody>\n</table>\n<p>130432 rows × 4 columns</p>\n</div>"
     },
     "execution_count": 68,
     "metadata": {},
     "output_type": "execute_result"
    }
   ],
   "source": [
    "res = games.merge(club_games , on='game_id', how='inner')[['club_id','opponent_id', 'home_club_id', 'away_club_id']]\n"
   ],
   "metadata": {
    "collapsed": false,
    "ExecuteTime": {
     "end_time": "2023-12-06T17:21:46.200335Z",
     "start_time": "2023-12-06T17:21:46.120516Z"
    }
   },
   "id": "d96da35fa54f634b"
  },
  {
   "cell_type": "markdown",
   "source": [
    "## Observation:\n",
    "How it can be seen the information in club_games about the teams playing each other is doubled.\n",
    "Referring to the same home club and the same away_club, it register the game two times: \n",
    "one where the opponent is the home club, the other where the opponent is the away club.\n",
    "## Pseudo-demonstration:\n",
    "- Condition 1: length of games dataset is same of the quantity of singulars information about games played in club_games dataset\n",
    "- Condition 2: length of games is half of the length of length of club_games (to show the deprecated space)\n",
    "- Condition 3: to show that the information about the games is doubled in club_games dataset we put togheter the info from club_games and games datasets with the game_id as a jointures and we see if the length of what we expect to be the doubled information is effectively doubled"
   ],
   "metadata": {
    "collapsed": false
   },
   "id": "84b4767a7bc10853"
  },
  {
   "cell_type": "code",
   "execution_count": 74,
   "outputs": [
    {
     "name": "stdout",
     "output_type": "stream",
     "text": [
      "True\n"
     ]
    }
   ],
   "source": [
    "len_query = len(res.query('home_club_id == club_id & away_club_id == opponent_id'))\n",
    "len_join = len(res)\n",
    "len_club_games=len(club_games)\n",
    "len_games=(len(games))\n",
    "\n",
    "condition1 = len_query == len_games\n",
    "condition2 = len_games == len_club_games/2\n",
    "condition3 = len_join == len_games*2\n",
    "print( condition1 and condition2 and condition3 )"
   ],
   "metadata": {
    "collapsed": false,
    "ExecuteTime": {
     "end_time": "2023-12-06T17:41:01.454470Z",
     "start_time": "2023-12-06T17:41:01.436483Z"
    }
   },
   "id": "1ada0138fa40e813"
  },
  {
   "cell_type": "markdown",
   "source": [
    "## Considerations\n",
    "I will not use the club_games dataset in this project because it deprecate space for no advantage"
   ],
   "metadata": {
    "collapsed": false
   },
   "id": "9b6d73e42c839217"
  },
  {
   "cell_type": "code",
   "execution_count": null,
   "outputs": [],
   "source": [],
   "metadata": {
    "collapsed": false
   },
   "id": "65a825d5f0936685"
  }
 ],
 "metadata": {
  "kernelspec": {
   "display_name": "Python 3",
   "language": "python",
   "name": "python3"
  },
  "language_info": {
   "codemirror_mode": {
    "name": "ipython",
    "version": 2
   },
   "file_extension": ".py",
   "mimetype": "text/x-python",
   "name": "python",
   "nbconvert_exporter": "python",
   "pygments_lexer": "ipython2",
   "version": "2.7.6"
  }
 },
 "nbformat": 4,
 "nbformat_minor": 5
}
